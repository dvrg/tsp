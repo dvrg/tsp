{
 "metadata": {
  "language_info": {
   "codemirror_mode": {
    "name": "ipython",
    "version": 3
   },
   "file_extension": ".py",
   "mimetype": "text/x-python",
   "name": "python",
   "nbconvert_exporter": "python",
   "pygments_lexer": "ipython3",
   "version": "3.8.2"
  },
  "orig_nbformat": 2,
  "kernelspec": {
   "name": "python382jvsc74a57bd0951f6ba8eedafd833d6dcffa1c8a6e16100fd9deccdfca75a58f627af9444b6c",
   "display_name": "Python 3.8.2 64-bit ('tsp-3.8.2': pyenv)"
  },
  "metadata": {
   "interpreter": {
    "hash": "951f6ba8eedafd833d6dcffa1c8a6e16100fd9deccdfca75a58f627af9444b6c"
   }
  }
 },
 "nbformat": 4,
 "nbformat_minor": 2,
 "cells": [
  {
   "source": [
    "# Anggota Tim :\n",
    "- Ni Made Ayu Aghata Widya Lestari (1201194075)\n",
    "- Lutfi Muhammad (1201190253)\n",
    "- Kartika Salsabilla Wulandari (1201194051)\n",
    "- Meyliza Gusandi (1201174281)"
   ],
   "cell_type": "markdown",
   "metadata": {}
  },
  {
   "source": [
    "# Setup\n",
    "Menggunakan module numpy dengan alasan kecepatan dalam pemrosesan list dan juga support vector, selain itu menggunakan module matplotlib untuk membuat visualisasi dari data yang dihasilkan"
   ],
   "cell_type": "markdown",
   "metadata": {}
  },
  {
   "cell_type": "code",
   "execution_count": 2,
   "metadata": {
    "tags": []
   },
   "outputs": [
    {
     "output_type": "stream",
     "name": "stdout",
     "text": [
      "Requirement already satisfied: pip in /home/darn/.pyenv/versions/3.8.2/envs/tsp-3.8.2/lib/python3.8/site-packages (21.1.2)\n",
      "Requirement already satisfied: numpy in /home/darn/.pyenv/versions/3.8.2/envs/tsp-3.8.2/lib/python3.8/site-packages (1.20.3)\n",
      "Requirement already satisfied: matplotlib in /home/darn/.pyenv/versions/3.8.2/envs/tsp-3.8.2/lib/python3.8/site-packages (3.4.2)\n",
      "Requirement already satisfied: python-dateutil>=2.7 in /home/darn/.pyenv/versions/3.8.2/envs/tsp-3.8.2/lib/python3.8/site-packages (from matplotlib) (2.8.1)\n",
      "Requirement already satisfied: kiwisolver>=1.0.1 in /home/darn/.pyenv/versions/3.8.2/envs/tsp-3.8.2/lib/python3.8/site-packages (from matplotlib) (1.3.1)\n",
      "Requirement already satisfied: cycler>=0.10 in /home/darn/.pyenv/versions/3.8.2/envs/tsp-3.8.2/lib/python3.8/site-packages (from matplotlib) (0.10.0)\n",
      "Requirement already satisfied: pyparsing>=2.2.1 in /home/darn/.pyenv/versions/3.8.2/envs/tsp-3.8.2/lib/python3.8/site-packages (from matplotlib) (2.4.7)\n",
      "Requirement already satisfied: numpy>=1.16 in /home/darn/.pyenv/versions/3.8.2/envs/tsp-3.8.2/lib/python3.8/site-packages (from matplotlib) (1.20.3)\n",
      "Requirement already satisfied: pillow>=6.2.0 in /home/darn/.pyenv/versions/3.8.2/envs/tsp-3.8.2/lib/python3.8/site-packages (from matplotlib) (8.2.0)\n",
      "Requirement already satisfied: six in /home/darn/.pyenv/versions/3.8.2/envs/tsp-3.8.2/lib/python3.8/site-packages (from cycler>=0.10->matplotlib) (1.16.0)\n"
     ]
    }
   ],
   "source": [
    "!pip install --upgrade pip\n",
    "!pip install numpy\n",
    "!pip install matplotlib"
   ]
  },
  {
   "cell_type": "code",
   "execution_count": 3,
   "metadata": {},
   "outputs": [
    {
     "output_type": "stream",
     "name": "stderr",
     "text": [
      "UsageError: unrecognized arguments: = 'svg'\n"
     ]
    }
   ],
   "source": [
    "import numpy as np\n",
    "import matplotlib.pyplot as plt \n",
    "%matplotlib inline \n",
    "%matplotlib InlineBackend.figure_format = 'svg'\n",
    "plt.style.use(\"seaborn\")\n",
    "np.random.seed(42) # fungsi ini supaya nomor random yang di generate tidak selalu berubah ketika di eksesuki (memudahkan debug)\n"
   ]
  },
  {
   "source": [
    "# Membuat Representasi\n",
    "TSP membutuhkan data kota dan juga jarak antar kota, disini dicoba terlebih dahulu untuk merepresentasikan secara eksplisit kota dan jarak antar kota. Represntasi antara jarak antar kota <sub>_i_</sub> dan <sub>_j_</sub> sehingga _A_<sub>_ij_</sub> menyatakan jarak antara kedua kota.\n",
    "\n",
    "keterangan : \n",
    "_cities_ = kota\n",
    "_adjacency_mat_ = matriks jarak antar kota"
   ],
   "cell_type": "markdown",
   "metadata": {}
  },
  {
   "cell_type": "code",
   "execution_count": 4,
   "metadata": {},
   "outputs": [],
   "source": [
    "cities = [0, 1, 2, 3, 4]\n",
    "\n",
    "adjacency_mat = np.asarray(\n",
    "    [\n",
    "        [0.00, 28.02, 17.12, 27.46, 46.07],\n",
    "        [28.02, 0.00, 34.00, 25.55, 25.55],\n",
    "        [17.12, 34.00, 0.00, 18.03, 57.38],\n",
    "        [27.46, 25.55, 18.03, 0.00, 51.11],\n",
    "        [46.07, 25.55, 57.38, 51.11, 0.00],\n",
    "    ]\n",
    ")\n"
   ]
  },
  {
   "source": [
    "# Implementasi\n",
    "Definiskan class yang merepresentasikan Populasi yang didalam nya terdapat informasi spesifik tentang generasi populasi pada class tersebut. Spesifiknya ada informasi tentang :\n",
    "- _bag_ : representasi dari seluruh populasi (kantong populasi)\n",
    "- _parents_ : generasi terbaik yang terpilih dari populasi tersebut (atau induk)\n",
    "- _score_ : menyimpan nilai dari kromosom terbaik dari populasi\n",
    "- _best_ : menyimpan kromosom terbaik\n",
    "- _adjacency_mat_ : digunkan untuk menghitung jarak antar kota dalam konteks TSP"
   ],
   "cell_type": "markdown",
   "metadata": {}
  },
  {
   "cell_type": "code",
   "execution_count": 5,
   "metadata": {},
   "outputs": [],
   "source": [
    "class Population():\n",
    "    def __init__(self, bag, adjacency_mat):\n",
    "        self.bag = bag\n",
    "        self.parents = []\n",
    "        self.score = 0\n",
    "        self.best = None\n",
    "        self.adjacency_mat = adjacency_mat"
   ]
  },
  {
   "source": [
    "## Fungsi _Generate Random_ Populasi (Inisialisasi Populasi)"
   ],
   "cell_type": "markdown",
   "metadata": {}
  },
  {
   "cell_type": "code",
   "execution_count": 6,
   "metadata": {},
   "outputs": [],
   "source": [
    "def init_population(cities, adjacency_mat, n_population):\n",
    "        return Population(\n",
    "            np.asarray([np.random.permutation(cities) for _ in range(n_population)]),\n",
    "            adjacency_mat\n",
    "        )"
   ]
  },
  {
   "source": [
    "## Melihat isi dari _Generate Dummy_ Populasi\n",
    "Memastikan fungsi berjalan semestinya"
   ],
   "cell_type": "markdown",
   "metadata": {}
  },
  {
   "cell_type": "code",
   "execution_count": 7,
   "metadata": {},
   "outputs": [
    {
     "output_type": "execute_result",
     "data": {
      "text/plain": [
       "array([[3, 4, 1, 0, 2],\n",
       "       [0, 3, 1, 2, 4],\n",
       "       [4, 1, 0, 2, 3],\n",
       "       [2, 1, 4, 0, 3],\n",
       "       [4, 0, 1, 3, 2]])"
      ]
     },
     "metadata": {},
     "execution_count": 7
    }
   ],
   "source": [
    "pop = init_population(cities, adjacency_mat, 5)\n",
    "pop.bag"
   ]
  },
  {
   "source": [
    "# Fitness\n",
    "Sekarang kita membutuhkan beberapa fungsi yang akan menentukan _fitness_ dari sebuah kromosom. Dalam konteks TSP, _fitness_ didefinisikan dalam istilah : semakin pendek jarak total, semakin _fit_ dan semakin unggul kromosom. Semua informasi jarak yang dibutuhkan akan disimpan dalam `self.adjacency_mat`. Kita dapat menghitung jumlah semua jarak antara dua kota yang berdekatan dalam urutan kromosom."
   ],
   "cell_type": "markdown",
   "metadata": {}
  },
  {
   "cell_type": "code",
   "execution_count": 8,
   "metadata": {},
   "outputs": [],
   "source": [
    "def fitness(self, chromosome):\n",
    "    return sum(\n",
    "        [\n",
    "            self.adjacency_mat[chromosome[i], chromosome[i + 1]]\n",
    "            for i in range(len(chromosome) - 1)\n",
    "        ]\n",
    "    )\n",
    "\n",
    "Population.fitness = fitness"
   ]
  },
  {
   "source": [
    "# Seleksi\n",
    "Selanjutnya, mengevaluasi populasi. Sederhananya, evaluasi berarti menghitung kesesuaian setiap kromosom dalam populasi total, menentukan siapa yang terbaik, menyimpan informasi skor, dan mengembalikan beberapa vektor probabilitas yang setiap elemennya mewakili probabilitas bahwa elemen ke-i dalam kantong populasi dipilih sebagai _parents_/induk. Kami menerapkan beberapa pra-pemrosesan dasar untuk memastikan bahwa kromosom dengan kinerja terburuk sama sekali tidak memiliki peluang untuk dipilih."
   ],
   "cell_type": "markdown",
   "metadata": {}
  },
  {
   "cell_type": "code",
   "execution_count": 9,
   "metadata": {},
   "outputs": [],
   "source": [
    "def evaluate(self):\n",
    "    distances = np.asarray(\n",
    "        [self.fitness(chromosome) for chromosome in self.bag]\n",
    "    )\n",
    "    self.score = np.min(distances)\n",
    "    self.best = self.bag[distances.tolist().index(self.score)]\n",
    "    self.parents.append(self.best)\n",
    "    if False in (distances[0] == distances):\n",
    "        distances = np.max(distances) - distances\n",
    "    return distances / np.sum(distances)\n",
    "\n",
    "Population.evaluate = evaluate"
   ]
  },
  {
   "source": [
    "Saat memanggil `pop.evaluate()`, kita mendapatkan vektor probabilitas seperti yang diharapkan."
   ],
   "cell_type": "markdown",
   "metadata": {}
  },
  {
   "cell_type": "code",
   "execution_count": 10,
   "metadata": {},
   "outputs": [
    {
     "output_type": "execute_result",
     "data": {
      "text/plain": [
       "array([0.19425574, 0.        , 0.478717  , 0.09725686, 0.2297704 ])"
      ]
     },
     "metadata": {},
     "execution_count": 10
    }
   ],
   "source": [
    "pop.evaluate()"
   ]
  },
  {
   "source": [
    "Saat kita memanggil `pop.best`, maka hasil akan mengurutkan kromosom terbaik."
   ],
   "cell_type": "markdown",
   "metadata": {}
  },
  {
   "cell_type": "code",
   "execution_count": 11,
   "metadata": {},
   "outputs": [
    {
     "output_type": "execute_result",
     "data": {
      "text/plain": [
       "array([4, 1, 0, 2, 3])"
      ]
     },
     "metadata": {},
     "execution_count": 11
    }
   ],
   "source": [
    "pop.best"
   ]
  },
  {
   "source": [
    "from IPython.display import Markdown as md\n",
    "md(f\"kita juga dapat melihat skor kromosom terbaik. Dalam hal ini, jarak dikatakan {pop.score}. Perhatikan bahwa semakin rendah skornya, semakin baik, karena skor ini mewakili total jarak yang harus ditempuh seorang penjual untuk mengunjungi semua kota dalam kasus TSP.\")"
   ],
   "cell_type": "code",
   "metadata": {},
   "execution_count": 12,
   "outputs": [
    {
     "output_type": "execute_result",
     "data": {
      "text/plain": [
       "<IPython.core.display.Markdown object>"
      ],
      "text/markdown": "kita juga dapat melihat skor kromosom terbaik. Dalam hal ini, jarak dikatakan 88.72. Perhatikan bahwa semakin rendah skornya, semakin baik, karena skor ini mewakili total jarak yang harus ditempuh seorang penjual untuk mengunjungi semua kota dalam kasus TSP."
     },
     "metadata": {},
     "execution_count": 12
    }
   ]
  },
  {
   "cell_type": "code",
   "execution_count": 13,
   "metadata": {},
   "outputs": [
    {
     "output_type": "execute_result",
     "data": {
      "text/plain": [
       "88.72"
      ]
     },
     "metadata": {},
     "execution_count": 13
    }
   ],
   "source": [
    "pop.score"
   ]
  },
  {
   "source": [
    "# Proses Memilik _Parents_ Untuk Generasi Selanjutnya\n",
    "Sekarang, kita akan memilih k : jumlah _parents_ untuk menjadi basis generasi berikutnya. Di sini, kami menggunakan model _roulette_ sederhana, di mana kami membandingkan nilai vektor probabilitas dan nomor acak yang diambil dari distribusi seragam. Jika nilai vektor probabilitas lebih tinggi, kromosom yang sesuai ditambahkan ke `self.parents`. Kami mengulangi proses ini sampai kami memiliki k _parents_."
   ],
   "cell_type": "markdown",
   "metadata": {}
  },
  {
   "cell_type": "code",
   "execution_count": 14,
   "metadata": {},
   "outputs": [],
   "source": [
    "def select(self, k =4):\n",
    "    fit = self.evaluate()\n",
    "    while len(self.parents) < k:\n",
    "        idx = np.random.randint(0, len(fit))\n",
    "        if fit[idx] > np.random.rand():\n",
    "            self.parents.append(self.bag[idx])\n",
    "    self.parents = np.asarray(self.parents)\n",
    "\n",
    "Population.select = select"
   ]
  },
  {
   "cell_type": "code",
   "execution_count": 15,
   "metadata": {},
   "outputs": [],
   "source": [
    "pop.select()"
   ]
  },
  {
   "source": [
    "Seperti yang diharapkan, kami mendapatkan 4 _parents_ setelah memilih _parents_ melalui `pop.select()`"
   ],
   "cell_type": "markdown",
   "metadata": {}
  },
  {
   "cell_type": "code",
   "execution_count": 16,
   "metadata": {},
   "outputs": [
    {
     "output_type": "execute_result",
     "data": {
      "text/plain": [
       "array([[4, 1, 0, 2, 3],\n",
       "       [4, 1, 0, 2, 3],\n",
       "       [2, 1, 4, 0, 3],\n",
       "       [4, 0, 1, 3, 2]])"
      ]
     },
     "metadata": {},
     "execution_count": 16
    }
   ],
   "source": [
    "pop.parents"
   ]
  },
  {
   "source": [
    "# _Swap_\n",
    "kami menggunakan mutasi swap dan crossover sederhana. Seperti namanya, swap hanya melibatkan pertukaran dua elemen kromosom. Misalnya, jika kita memiliki [a, b, c], kita dapat menukar dua elemen pertama menjadi [b, a, c]."
   ],
   "cell_type": "markdown",
   "metadata": {}
  },
  {
   "cell_type": "code",
   "execution_count": 17,
   "metadata": {},
   "outputs": [],
   "source": [
    "def swap(chromosome):\n",
    "    a, b = np.random.choice(len(chromosome), 2)\n",
    "    chromosome[a], chromosome[b] = (\n",
    "        chromosome[b],\n",
    "        chromosome[a],\n",
    "    )\n",
    "    return chromosome"
   ]
  },
  {
   "source": [
    "Masalah dengan mutasi swap, adalah bahwa swapping adalah proses yang sangat mengganggu dalam konteks TSP. Karena setiap kromosom mengkodekan urutan di mana seorang salesman harus mengunjungi setiap kota, bertukar dua kota dapat sangat mempengaruhi skor kebugaran akhir dari kromosom yang bermutasi. Oleh karena itu, kami juga menggunakan bentuk mutasi lain, yang dikenal sebagai crossover."
   ],
   "cell_type": "markdown",
   "metadata": {}
  },
  {
   "source": [
    "# _Cross-Over_\n",
    "kita ambil dua _parents_ kemudian _slice_ sebagian kromosom dari satu _parents_, dan mengisi sisa slot dengan _parents_ lainnya. Saat mengisi sisa slot, kita perlu memastikan bahwa tidak ada duplikat dalam kromosom. Mari kita lihat sebuah contoh. Bayangkan _parents_ satu memiliki `[a, b, c, d, e]` dan yang lainnya memiliki `[b, a, e, c, d]`. Katakanlah kita _slice_ bagian acak dari _parents_ pertama memberi kita `[None, b, c, None, None]`. Kemudian, kami mengisi sisa indeks kosong dengan _parents_ lainnya, dengan memperhatikan urutan kemunculan elemen. Dalam hal ini, kita akan berakhir dengan `[a, b, c, e, d]`."
   ],
   "cell_type": "markdown",
   "metadata": {}
  },
  {
   "cell_type": "code",
   "execution_count": 18,
   "metadata": {},
   "outputs": [],
   "source": [
    "def crossover(self, p_cross=0.1):\n",
    "    children = []\n",
    "    count, size = self.parents.shape\n",
    "    for _ in range(len(self.bag)):\n",
    "        if np.random.rand() > p_cross:\n",
    "            children.append(\n",
    "                list(self.parents[np.random.randint(count, size=1)[0]])\n",
    "            )\n",
    "        else:\n",
    "            parent1, parent2 = self.parents[\n",
    "                np.random.randint(count, size=2), :\n",
    "            ]\n",
    "            idx = np.random.choice(range(size), size=2, replace=False)\n",
    "            start, end = min(idx), max(idx)\n",
    "            child = [None] * size\n",
    "            for i in range(start, end + 1, 1):\n",
    "                child[i] = parent1[i]\n",
    "            pointer = 0\n",
    "            for i in range(size):\n",
    "                if child[i] is None:\n",
    "                    while parent2[pointer] in child:\n",
    "                        pointer += 1\n",
    "                    child[i] = parent2[pointer]\n",
    "            children.append(child)\n",
    "    return children\n",
    "\n",
    "Population.crossover = crossover"
   ]
  },
  {
   "source": [
    "# _Mutation_\n",
    "Sekarang, kami memasukkan mutasi _crossover_ menjadi satu fungsi yang dapat dipanggil sehingga kami melakukan setiap mutasi sesuai dengan beberapa ambang batas / _threshold_ yang ditentukan."
   ],
   "cell_type": "markdown",
   "metadata": {}
  },
  {
   "cell_type": "code",
   "execution_count": 19,
   "metadata": {},
   "outputs": [],
   "source": [
    "def mutate(self, p_cross=0.1, p_mut=0.1):\n",
    "    next_bag = []\n",
    "    children = self.crossover(p_cross)\n",
    "    for child in children:\n",
    "        if np.random.rand() < p_mut:\n",
    "            next_bag.append(swap(child))\n",
    "        else:\n",
    "            next_bag.append(child)\n",
    "    return next_bag\n",
    "\n",
    "Population.mutate = mutate"
   ]
  },
  {
   "source": [
    "Ketika menjalankan `pop.mutate()` kita akan melihat kantong populasi untuk generasi berikutnya"
   ],
   "cell_type": "markdown",
   "metadata": {}
  },
  {
   "cell_type": "code",
   "execution_count": 20,
   "metadata": {},
   "outputs": [
    {
     "output_type": "execute_result",
     "data": {
      "text/plain": [
       "[[2, 1, 4, 0, 3],\n",
       " [2, 1, 4, 0, 3],\n",
       " [2, 1, 4, 0, 3],\n",
       " [4, 0, 1, 3, 2],\n",
       " [4, 1, 0, 2, 3]]"
      ]
     },
     "metadata": {},
     "execution_count": 20
    }
   ],
   "source": [
    "pop.mutate()"
   ]
  },
  {
   "source": [
    "Sekarang saatnya untuk menyatukan semua fungsi ditambah beberapa parameter tambahan seperti _print_interval_, jalankan simulasi pemilihan populasi dan mutasi dengan _n_iter_ generasi. Bagian penting pada bagian ini adalah `children = pop.mutate(p_cross, p_mut)` dan `pop = Population(children, pop.adjacency_mat)`. Pada dasarnya, kita memperoleh anak-anak dari mutasi dan meneruskannya sebagai kantong populasi generasi berikutnya dalam konstruktor Populasi."
   ],
   "cell_type": "markdown",
   "metadata": {}
  },
  {
   "cell_type": "code",
   "execution_count": 21,
   "metadata": {},
   "outputs": [],
   "source": [
    "def genetic_algorithm(cities, adjacency_mat, n_population=5, n_iter=20, selectivity=0.15, p_cross=0.5, p_mut=0.1, print_interval=100, return_history=False, verbose=False):\n",
    "    pop = init_population(cities, adjacency_mat, n_population)\n",
    "    best = pop.best\n",
    "    score = float(\"inf\")\n",
    "    history = []\n",
    "    for i in range(n_iter):\n",
    "        pop.select(n_population * selectivity)\n",
    "        history.append(pop.score)\n",
    "        if verbose:\n",
    "            print(f\"Generation {i}: {pop.score}\")\n",
    "        elif i % print_interval == 0:\n",
    "            print(f\"Generation {i}: {pop.score}\")\n",
    "        if pop.score < score:\n",
    "            best = pop.best\n",
    "            score = pop.score\n",
    "        children = pop.mutate(p_cross, p_mut)\n",
    "        pop = Population(children, pop.adjacency_mat)\n",
    "    if return_history:\n",
    "        return best, history\n",
    "    return best"
   ]
  },
  {
   "source": [
    "Sekarang mari kita uji pada contoh TSP kita selama 20 generasi. Seiring berlalunya generasi, skor _fitness_ semakin membaik."
   ],
   "cell_type": "markdown",
   "metadata": {}
  },
  {
   "cell_type": "code",
   "execution_count": 22,
   "metadata": {},
   "outputs": [
    {
     "output_type": "stream",
     "name": "stdout",
     "text": [
      "Generation 0: 138.41\nGeneration 1: 138.41\nGeneration 2: 138.41\nGeneration 3: 138.41\nGeneration 4: 138.41\nGeneration 5: 138.41\nGeneration 6: 135.94\nGeneration 7: 135.94\nGeneration 8: 127.78\nGeneration 9: 127.78\nGeneration 10: 127.78\nGeneration 11: 127.78\nGeneration 12: 127.78\nGeneration 13: 127.78\nGeneration 14: 127.78\nGeneration 15: 127.78\nGeneration 16: 121.8\nGeneration 17: 121.24\nGeneration 18: 121.24\nGeneration 19: 121.24\n"
     ]
    },
    {
     "output_type": "execute_result",
     "data": {
      "text/plain": [
       "[2, 0, 3, 4, 1]"
      ]
     },
     "metadata": {},
     "execution_count": 22
    }
   ],
   "source": [
    "genetic_algorithm(cities, adjacency_mat, verbose=True)"
   ]
  },
  {
   "source": [
    "Mari kita coba menjalankan uji coba TSP yaitu sebanyak 100 generasi. Untuk kejelasan, mari kita juga tampilkan plot kemajuan algoritma genetika kita dengan menyetel _return_history_ ke _True_"
   ],
   "cell_type": "markdown",
   "metadata": {}
  },
  {
   "cell_type": "code",
   "execution_count": 23,
   "metadata": {},
   "outputs": [
    {
     "output_type": "stream",
     "name": "stdout",
     "text": [
      "Generation 0: 88.72\nGeneration 20: 86.25\nGeneration 40: 86.25\nGeneration 60: 86.25\nGeneration 80: 86.25\n"
     ]
    },
    {
     "output_type": "display_data",
     "data": {
      "text/plain": "<Figure size 432x288 with 1 Axes>",
      "image/svg+xml": "<?xml version=\"1.0\" encoding=\"utf-8\" standalone=\"no\"?>\n<!DOCTYPE svg PUBLIC \"-//W3C//DTD SVG 1.1//EN\"\n  \"http://www.w3.org/Graphics/SVG/1.1/DTD/svg11.dtd\">\n<svg height=\"248.518125pt\" version=\"1.1\" viewBox=\"0 0 378.465625 248.518125\" width=\"378.465625pt\" xmlns=\"http://www.w3.org/2000/svg\" xmlns:xlink=\"http://www.w3.org/1999/xlink\">\n <metadata>\n  <rdf:RDF xmlns:cc=\"http://creativecommons.org/ns#\" xmlns:dc=\"http://purl.org/dc/elements/1.1/\" xmlns:rdf=\"http://www.w3.org/1999/02/22-rdf-syntax-ns#\">\n   <cc:Work>\n    <dc:type rdf:resource=\"http://purl.org/dc/dcmitype/StillImage\"/>\n    <dc:date>2021-06-20T21:44:14.852695</dc:date>\n    <dc:format>image/svg+xml</dc:format>\n    <dc:creator>\n     <cc:Agent>\n      <dc:title>Matplotlib v3.4.2, https://matplotlib.org/</dc:title>\n     </cc:Agent>\n    </dc:creator>\n   </cc:Work>\n  </rdf:RDF>\n </metadata>\n <defs>\n  <style type=\"text/css\">*{stroke-linecap:butt;stroke-linejoin:round;}</style>\n </defs>\n <g id=\"figure_1\">\n  <g id=\"patch_1\">\n   <path d=\"M 0 248.518125 \nL 378.465625 248.518125 \nL 378.465625 0 \nL 0 0 \nz\n\" style=\"fill:none;\"/>\n  </g>\n  <g id=\"axes_1\">\n   <g id=\"patch_2\">\n    <path d=\"M 36.465625 224.64 \nL 371.265625 224.64 \nL 371.265625 7.2 \nL 36.465625 7.2 \nz\n\" style=\"fill:#ffffff;\"/>\n   </g>\n   <g id=\"matplotlib.axis_1\">\n    <g id=\"xtick_1\">\n     <g id=\"line2d_1\">\n      <defs>\n       <path d=\"M 0 0 \nL 0 3.5 \n\" id=\"m71aa03fb5e\" style=\"stroke:#000000;stroke-width:0.8;\"/>\n      </defs>\n      <g>\n       <use style=\"stroke:#000000;stroke-width:0.8;\" x=\"51.683807\" xlink:href=\"#m71aa03fb5e\" y=\"224.64\"/>\n      </g>\n     </g>\n     <g id=\"text_1\">\n      <!-- 0 -->\n      <g transform=\"translate(48.502557 239.238438)scale(0.1 -0.1)\">\n       <defs>\n        <path d=\"M 2034 4250 \nQ 1547 4250 1301 3770 \nQ 1056 3291 1056 2328 \nQ 1056 1369 1301 889 \nQ 1547 409 2034 409 \nQ 2525 409 2770 889 \nQ 3016 1369 3016 2328 \nQ 3016 3291 2770 3770 \nQ 2525 4250 2034 4250 \nz\nM 2034 4750 \nQ 2819 4750 3233 4129 \nQ 3647 3509 3647 2328 \nQ 3647 1150 3233 529 \nQ 2819 -91 2034 -91 \nQ 1250 -91 836 529 \nQ 422 1150 422 2328 \nQ 422 3509 836 4129 \nQ 1250 4750 2034 4750 \nz\n\" id=\"DejaVuSans-30\" transform=\"scale(0.015625)\"/>\n       </defs>\n       <use xlink:href=\"#DejaVuSans-30\"/>\n      </g>\n     </g>\n    </g>\n    <g id=\"xtick_2\">\n     <g id=\"line2d_2\">\n      <g>\n       <use style=\"stroke:#000000;stroke-width:0.8;\" x=\"113.17141\" xlink:href=\"#m71aa03fb5e\" y=\"224.64\"/>\n      </g>\n     </g>\n     <g id=\"text_2\">\n      <!-- 20 -->\n      <g transform=\"translate(106.80891 239.238438)scale(0.1 -0.1)\">\n       <defs>\n        <path d=\"M 1228 531 \nL 3431 531 \nL 3431 0 \nL 469 0 \nL 469 531 \nQ 828 903 1448 1529 \nQ 2069 2156 2228 2338 \nQ 2531 2678 2651 2914 \nQ 2772 3150 2772 3378 \nQ 2772 3750 2511 3984 \nQ 2250 4219 1831 4219 \nQ 1534 4219 1204 4116 \nQ 875 4013 500 3803 \nL 500 4441 \nQ 881 4594 1212 4672 \nQ 1544 4750 1819 4750 \nQ 2544 4750 2975 4387 \nQ 3406 4025 3406 3419 \nQ 3406 3131 3298 2873 \nQ 3191 2616 2906 2266 \nQ 2828 2175 2409 1742 \nQ 1991 1309 1228 531 \nz\n\" id=\"DejaVuSans-32\" transform=\"scale(0.015625)\"/>\n       </defs>\n       <use xlink:href=\"#DejaVuSans-32\"/>\n       <use x=\"63.623047\" xlink:href=\"#DejaVuSans-30\"/>\n      </g>\n     </g>\n    </g>\n    <g id=\"xtick_3\">\n     <g id=\"line2d_3\">\n      <g>\n       <use style=\"stroke:#000000;stroke-width:0.8;\" x=\"174.659013\" xlink:href=\"#m71aa03fb5e\" y=\"224.64\"/>\n      </g>\n     </g>\n     <g id=\"text_3\">\n      <!-- 40 -->\n      <g transform=\"translate(168.296513 239.238438)scale(0.1 -0.1)\">\n       <defs>\n        <path d=\"M 2419 4116 \nL 825 1625 \nL 2419 1625 \nL 2419 4116 \nz\nM 2253 4666 \nL 3047 4666 \nL 3047 1625 \nL 3713 1625 \nL 3713 1100 \nL 3047 1100 \nL 3047 0 \nL 2419 0 \nL 2419 1100 \nL 313 1100 \nL 313 1709 \nL 2253 4666 \nz\n\" id=\"DejaVuSans-34\" transform=\"scale(0.015625)\"/>\n       </defs>\n       <use xlink:href=\"#DejaVuSans-34\"/>\n       <use x=\"63.623047\" xlink:href=\"#DejaVuSans-30\"/>\n      </g>\n     </g>\n    </g>\n    <g id=\"xtick_4\">\n     <g id=\"line2d_4\">\n      <g>\n       <use style=\"stroke:#000000;stroke-width:0.8;\" x=\"236.146617\" xlink:href=\"#m71aa03fb5e\" y=\"224.64\"/>\n      </g>\n     </g>\n     <g id=\"text_4\">\n      <!-- 60 -->\n      <g transform=\"translate(229.784117 239.238438)scale(0.1 -0.1)\">\n       <defs>\n        <path d=\"M 2113 2584 \nQ 1688 2584 1439 2293 \nQ 1191 2003 1191 1497 \nQ 1191 994 1439 701 \nQ 1688 409 2113 409 \nQ 2538 409 2786 701 \nQ 3034 994 3034 1497 \nQ 3034 2003 2786 2293 \nQ 2538 2584 2113 2584 \nz\nM 3366 4563 \nL 3366 3988 \nQ 3128 4100 2886 4159 \nQ 2644 4219 2406 4219 \nQ 1781 4219 1451 3797 \nQ 1122 3375 1075 2522 \nQ 1259 2794 1537 2939 \nQ 1816 3084 2150 3084 \nQ 2853 3084 3261 2657 \nQ 3669 2231 3669 1497 \nQ 3669 778 3244 343 \nQ 2819 -91 2113 -91 \nQ 1303 -91 875 529 \nQ 447 1150 447 2328 \nQ 447 3434 972 4092 \nQ 1497 4750 2381 4750 \nQ 2619 4750 2861 4703 \nQ 3103 4656 3366 4563 \nz\n\" id=\"DejaVuSans-36\" transform=\"scale(0.015625)\"/>\n       </defs>\n       <use xlink:href=\"#DejaVuSans-36\"/>\n       <use x=\"63.623047\" xlink:href=\"#DejaVuSans-30\"/>\n      </g>\n     </g>\n    </g>\n    <g id=\"xtick_5\">\n     <g id=\"line2d_5\">\n      <g>\n       <use style=\"stroke:#000000;stroke-width:0.8;\" x=\"297.63422\" xlink:href=\"#m71aa03fb5e\" y=\"224.64\"/>\n      </g>\n     </g>\n     <g id=\"text_5\">\n      <!-- 80 -->\n      <g transform=\"translate(291.27172 239.238438)scale(0.1 -0.1)\">\n       <defs>\n        <path d=\"M 2034 2216 \nQ 1584 2216 1326 1975 \nQ 1069 1734 1069 1313 \nQ 1069 891 1326 650 \nQ 1584 409 2034 409 \nQ 2484 409 2743 651 \nQ 3003 894 3003 1313 \nQ 3003 1734 2745 1975 \nQ 2488 2216 2034 2216 \nz\nM 1403 2484 \nQ 997 2584 770 2862 \nQ 544 3141 544 3541 \nQ 544 4100 942 4425 \nQ 1341 4750 2034 4750 \nQ 2731 4750 3128 4425 \nQ 3525 4100 3525 3541 \nQ 3525 3141 3298 2862 \nQ 3072 2584 2669 2484 \nQ 3125 2378 3379 2068 \nQ 3634 1759 3634 1313 \nQ 3634 634 3220 271 \nQ 2806 -91 2034 -91 \nQ 1263 -91 848 271 \nQ 434 634 434 1313 \nQ 434 1759 690 2068 \nQ 947 2378 1403 2484 \nz\nM 1172 3481 \nQ 1172 3119 1398 2916 \nQ 1625 2713 2034 2713 \nQ 2441 2713 2670 2916 \nQ 2900 3119 2900 3481 \nQ 2900 3844 2670 4047 \nQ 2441 4250 2034 4250 \nQ 1625 4250 1398 4047 \nQ 1172 3844 1172 3481 \nz\n\" id=\"DejaVuSans-38\" transform=\"scale(0.015625)\"/>\n       </defs>\n       <use xlink:href=\"#DejaVuSans-38\"/>\n       <use x=\"63.623047\" xlink:href=\"#DejaVuSans-30\"/>\n      </g>\n     </g>\n    </g>\n    <g id=\"xtick_6\">\n     <g id=\"line2d_6\">\n      <g>\n       <use style=\"stroke:#000000;stroke-width:0.8;\" x=\"359.121823\" xlink:href=\"#m71aa03fb5e\" y=\"224.64\"/>\n      </g>\n     </g>\n     <g id=\"text_6\">\n      <!-- 100 -->\n      <g transform=\"translate(349.578073 239.238438)scale(0.1 -0.1)\">\n       <defs>\n        <path d=\"M 794 531 \nL 1825 531 \nL 1825 4091 \nL 703 3866 \nL 703 4441 \nL 1819 4666 \nL 2450 4666 \nL 2450 531 \nL 3481 531 \nL 3481 0 \nL 794 0 \nL 794 531 \nz\n\" id=\"DejaVuSans-31\" transform=\"scale(0.015625)\"/>\n       </defs>\n       <use xlink:href=\"#DejaVuSans-31\"/>\n       <use x=\"63.623047\" xlink:href=\"#DejaVuSans-30\"/>\n       <use x=\"127.246094\" xlink:href=\"#DejaVuSans-30\"/>\n      </g>\n     </g>\n    </g>\n   </g>\n   <g id=\"matplotlib.axis_2\">\n    <g id=\"ytick_1\">\n     <g id=\"line2d_7\">\n      <defs>\n       <path d=\"M 0 0 \nL -3.5 0 \n\" id=\"m3b0eb95503\" style=\"stroke:#000000;stroke-width:0.8;\"/>\n      </defs>\n      <g>\n       <use style=\"stroke:#000000;stroke-width:0.8;\" x=\"36.465625\" xlink:href=\"#m3b0eb95503\" y=\"194.749003\"/>\n      </g>\n     </g>\n     <g id=\"text_7\">\n      <!-- 86.5 -->\n      <g transform=\"translate(7.2 198.548221)scale(0.1 -0.1)\">\n       <defs>\n        <path d=\"M 684 794 \nL 1344 794 \nL 1344 0 \nL 684 0 \nL 684 794 \nz\n\" id=\"DejaVuSans-2e\" transform=\"scale(0.015625)\"/>\n        <path d=\"M 691 4666 \nL 3169 4666 \nL 3169 4134 \nL 1269 4134 \nL 1269 2991 \nQ 1406 3038 1543 3061 \nQ 1681 3084 1819 3084 \nQ 2600 3084 3056 2656 \nQ 3513 2228 3513 1497 \nQ 3513 744 3044 326 \nQ 2575 -91 1722 -91 \nQ 1428 -91 1123 -41 \nQ 819 9 494 109 \nL 494 744 \nQ 775 591 1075 516 \nQ 1375 441 1709 441 \nQ 2250 441 2565 725 \nQ 2881 1009 2881 1497 \nQ 2881 1984 2565 2268 \nQ 2250 2553 1709 2553 \nQ 1456 2553 1204 2497 \nQ 953 2441 691 2322 \nL 691 4666 \nz\n\" id=\"DejaVuSans-35\" transform=\"scale(0.015625)\"/>\n       </defs>\n       <use xlink:href=\"#DejaVuSans-38\"/>\n       <use x=\"63.623047\" xlink:href=\"#DejaVuSans-36\"/>\n       <use x=\"127.246094\" xlink:href=\"#DejaVuSans-2e\"/>\n       <use x=\"159.033203\" xlink:href=\"#DejaVuSans-35\"/>\n      </g>\n     </g>\n    </g>\n    <g id=\"ytick_2\">\n     <g id=\"line2d_8\">\n      <g>\n       <use style=\"stroke:#000000;stroke-width:0.8;\" x=\"36.465625\" xlink:href=\"#m3b0eb95503\" y=\"154.73428\"/>\n      </g>\n     </g>\n     <g id=\"text_8\">\n      <!-- 87.0 -->\n      <g transform=\"translate(7.2 158.533499)scale(0.1 -0.1)\">\n       <defs>\n        <path d=\"M 525 4666 \nL 3525 4666 \nL 3525 4397 \nL 1831 0 \nL 1172 0 \nL 2766 4134 \nL 525 4134 \nL 525 4666 \nz\n\" id=\"DejaVuSans-37\" transform=\"scale(0.015625)\"/>\n       </defs>\n       <use xlink:href=\"#DejaVuSans-38\"/>\n       <use x=\"63.623047\" xlink:href=\"#DejaVuSans-37\"/>\n       <use x=\"127.246094\" xlink:href=\"#DejaVuSans-2e\"/>\n       <use x=\"159.033203\" xlink:href=\"#DejaVuSans-30\"/>\n      </g>\n     </g>\n    </g>\n    <g id=\"ytick_3\">\n     <g id=\"line2d_9\">\n      <g>\n       <use style=\"stroke:#000000;stroke-width:0.8;\" x=\"36.465625\" xlink:href=\"#m3b0eb95503\" y=\"114.719558\"/>\n      </g>\n     </g>\n     <g id=\"text_9\">\n      <!-- 87.5 -->\n      <g transform=\"translate(7.2 118.518777)scale(0.1 -0.1)\">\n       <use xlink:href=\"#DejaVuSans-38\"/>\n       <use x=\"63.623047\" xlink:href=\"#DejaVuSans-37\"/>\n       <use x=\"127.246094\" xlink:href=\"#DejaVuSans-2e\"/>\n       <use x=\"159.033203\" xlink:href=\"#DejaVuSans-35\"/>\n      </g>\n     </g>\n    </g>\n    <g id=\"ytick_4\">\n     <g id=\"line2d_10\">\n      <g>\n       <use style=\"stroke:#000000;stroke-width:0.8;\" x=\"36.465625\" xlink:href=\"#m3b0eb95503\" y=\"74.704836\"/>\n      </g>\n     </g>\n     <g id=\"text_10\">\n      <!-- 88.0 -->\n      <g transform=\"translate(7.2 78.504055)scale(0.1 -0.1)\">\n       <use xlink:href=\"#DejaVuSans-38\"/>\n       <use x=\"63.623047\" xlink:href=\"#DejaVuSans-38\"/>\n       <use x=\"127.246094\" xlink:href=\"#DejaVuSans-2e\"/>\n       <use x=\"159.033203\" xlink:href=\"#DejaVuSans-30\"/>\n      </g>\n     </g>\n    </g>\n    <g id=\"ytick_5\">\n     <g id=\"line2d_11\">\n      <g>\n       <use style=\"stroke:#000000;stroke-width:0.8;\" x=\"36.465625\" xlink:href=\"#m3b0eb95503\" y=\"34.690114\"/>\n      </g>\n     </g>\n     <g id=\"text_11\">\n      <!-- 88.5 -->\n      <g transform=\"translate(7.2 38.489333)scale(0.1 -0.1)\">\n       <use xlink:href=\"#DejaVuSans-38\"/>\n       <use x=\"63.623047\" xlink:href=\"#DejaVuSans-38\"/>\n       <use x=\"127.246094\" xlink:href=\"#DejaVuSans-2e\"/>\n       <use x=\"159.033203\" xlink:href=\"#DejaVuSans-35\"/>\n      </g>\n     </g>\n    </g>\n   </g>\n   <g id=\"line2d_12\">\n    <path clip-path=\"url(#p5f12d923fd)\" d=\"M 51.683807 17.083636 \nL 54.758187 17.083636 \nL 57.832567 17.083636 \nL 60.906947 17.083636 \nL 63.981327 17.083636 \nL 67.055708 17.083636 \nL 70.130088 17.083636 \nL 73.204468 17.083636 \nL 76.278848 214.756364 \nL 79.353228 214.756364 \nL 82.427608 214.756364 \nL 85.501989 214.756364 \nL 88.576369 214.756364 \nL 91.650749 214.756364 \nL 94.725129 214.756364 \nL 97.799509 214.756364 \nL 100.873889 214.756364 \nL 103.94827 214.756364 \nL 107.02265 214.756364 \nL 110.09703 214.756364 \nL 113.17141 214.756364 \nL 116.24579 214.756364 \nL 119.32017 214.756364 \nL 122.394551 214.756364 \nL 125.468931 214.756364 \nL 128.543311 214.756364 \nL 131.617691 214.756364 \nL 134.692071 214.756364 \nL 137.766451 214.756364 \nL 140.840832 214.756364 \nL 143.915212 214.756364 \nL 146.989592 214.756364 \nL 150.063972 214.756364 \nL 153.138352 214.756364 \nL 156.212732 214.756364 \nL 159.287113 214.756364 \nL 162.361493 214.756364 \nL 165.435873 214.756364 \nL 168.510253 214.756364 \nL 171.584633 214.756364 \nL 174.659013 214.756364 \nL 177.733394 214.756364 \nL 180.807774 214.756364 \nL 183.882154 214.756364 \nL 186.956534 214.756364 \nL 190.030914 214.756364 \nL 193.105294 214.756364 \nL 196.179675 214.756364 \nL 199.254055 214.756364 \nL 202.328435 214.756364 \nL 205.402815 214.756364 \nL 208.477195 214.756364 \nL 211.551575 214.756364 \nL 214.625956 214.756364 \nL 217.700336 214.756364 \nL 220.774716 214.756364 \nL 223.849096 214.756364 \nL 226.923476 214.756364 \nL 229.997856 214.756364 \nL 233.072237 214.756364 \nL 236.146617 214.756364 \nL 239.220997 214.756364 \nL 242.295377 214.756364 \nL 245.369757 214.756364 \nL 248.444137 214.756364 \nL 251.518518 214.756364 \nL 254.592898 214.756364 \nL 257.667278 214.756364 \nL 260.741658 214.756364 \nL 263.816038 214.756364 \nL 266.890418 214.756364 \nL 269.964799 214.756364 \nL 273.039179 214.756364 \nL 276.113559 214.756364 \nL 279.187939 214.756364 \nL 282.262319 214.756364 \nL 285.336699 214.756364 \nL 288.41108 214.756364 \nL 291.48546 214.756364 \nL 294.55984 214.756364 \nL 297.63422 214.756364 \nL 300.7086 214.756364 \nL 303.78298 214.756364 \nL 306.857361 214.756364 \nL 309.931741 214.756364 \nL 313.006121 214.756364 \nL 316.080501 214.756364 \nL 319.154881 214.756364 \nL 322.229261 214.756364 \nL 325.303642 214.756364 \nL 328.378022 214.756364 \nL 331.452402 214.756364 \nL 334.526782 214.756364 \nL 337.601162 214.756364 \nL 340.675542 214.756364 \nL 343.749923 214.756364 \nL 346.824303 214.756364 \nL 349.898683 214.756364 \nL 352.973063 214.756364 \nL 356.047443 214.756364 \n\" style=\"fill:none;stroke:#87ceeb;stroke-linecap:square;stroke-width:1.5;\"/>\n   </g>\n   <g id=\"patch_3\">\n    <path d=\"M 36.465625 224.64 \nL 36.465625 7.2 \n\" style=\"fill:none;stroke:#000000;stroke-linecap:square;stroke-linejoin:miter;stroke-width:0.8;\"/>\n   </g>\n   <g id=\"patch_4\">\n    <path d=\"M 371.265625 224.64 \nL 371.265625 7.2 \n\" style=\"fill:none;stroke:#000000;stroke-linecap:square;stroke-linejoin:miter;stroke-width:0.8;\"/>\n   </g>\n   <g id=\"patch_5\">\n    <path d=\"M 36.465625 224.64 \nL 371.265625 224.64 \n\" style=\"fill:none;stroke:#000000;stroke-linecap:square;stroke-linejoin:miter;stroke-width:0.8;\"/>\n   </g>\n   <g id=\"patch_6\">\n    <path d=\"M 36.465625 7.2 \nL 371.265625 7.2 \n\" style=\"fill:none;stroke:#000000;stroke-linecap:square;stroke-linejoin:miter;stroke-width:0.8;\"/>\n   </g>\n  </g>\n </g>\n <defs>\n  <clipPath id=\"p5f12d923fd\">\n   <rect height=\"217.44\" width=\"334.8\" x=\"36.465625\" y=\"7.2\"/>\n  </clipPath>\n </defs>\n</svg>\n",
      "image/png": "[encoded data removed]"
     },
     "metadata": {
      "needs_background": "light"
     }
    },
    {
     "output_type": "stream",
     "name": "stdout",
     "text": [
      "[4, 1, 3, 2, 0]\n"
     ]
    }
   ],
   "source": [
    "best, history = genetic_algorithm(cities, adjacency_mat, n_iter=100, verbose=False, print_interval=20, return_history=True)\n",
    "\n",
    "plt.plot(range(len(history)), history, color=\"skyblue\")\n",
    "plt.show()\n",
    "print(best)"
   ]
  },
  {
   "source": [
    "from IPython.display import Markdown as md\n",
    "md(f\"Setelah sekitar 10~80 iterasi, sepertinya algoritma telah konvergen ke minimum, nilainya tetap di nilai { min(history) }. Lalu hasilnya optimal rute dengan urutan { best }\")"
   ],
   "cell_type": "code",
   "metadata": {},
   "execution_count": 24,
   "outputs": [
    {
     "output_type": "execute_result",
     "data": {
      "text/plain": [
       "<IPython.core.display.Markdown object>"
      ],
      "text/markdown": "Setelah sekitar 10~80 iterasi, sepertinya algoritma telah konvergen ke minimum, nilainya tetap di nilai 86.25. Lalu hasilnya optimal rute dengan urutan [4, 1, 3, 2, 0]"
     },
     "metadata": {},
     "execution_count": 24
    }
   ]
  },
  {
   "source": [
    "# Penerapan TSP dengan _random_ 10 kota dan _random_ jarak antar 10 kota\n"
   ],
   "cell_type": "markdown",
   "metadata": {}
  },
  {
   "source": [
    "Buat fungsi untuk generate kordinat kota secara random, dengan range random 1-50 (n_cities * factor) untuk menghasilkan batas / _thresold_ 50"
   ],
   "cell_type": "markdown",
   "metadata": {}
  },
  {
   "cell_type": "code",
   "execution_count": 25,
   "metadata": {},
   "outputs": [],
   "source": [
    "def generate_cities(n_cities, factor=5):\n",
    "    return np.random.rand(n_cities, 2) * n_cities * factor"
   ]
  },
  {
   "source": [
    "_generate_cities()_ : generate _n_cities_ dengan random kordinat kota dalam bentuk array numpy. Sekarang, kita membutuhkan beberapa fungsi yang akan membuat matriks jarak antar kota berdasarkan kordinat kota."
   ],
   "cell_type": "markdown",
   "metadata": {}
  },
  {
   "cell_type": "code",
   "execution_count": 26,
   "metadata": {},
   "outputs": [],
   "source": [
    "def make_mat(coordinates):\n",
    "    res = [\n",
    "        [get_distance(city1, city2) for city2 in coordinates]\n",
    "        for city1 in coordinates\n",
    "    ]\n",
    "    return np.asarray(res)\n",
    "\n",
    "def get_distance(city1, city2):\n",
    "    return np.sqrt((cities[0] - city2[0])**2 + (city1[1] - city2[1])**2)"
   ]
  },
  {
   "source": [
    "lakukan pemeriksaan terhadap fungsi dengan memanggil fungsi _make_mat()_ sehingga memastikan bahwa _generate_cities()_ memang membuat koordinat kota seperti yang diharapkan. Maka akan kita coba mengirimkan kordinat dummy"
   ],
   "cell_type": "markdown",
   "metadata": {}
  },
  {
   "cell_type": "code",
   "execution_count": 27,
   "metadata": {},
   "outputs": [
    {
     "output_type": "execute_result",
     "data": {
      "text/plain": [
       "array([[0.        , 1.        , 1.41421356, 1.        ],\n",
       "       [1.        , 0.        , 1.        , 1.41421356],\n",
       "       [1.        , 0.        , 1.        , 1.41421356],\n",
       "       [0.        , 1.        , 1.41421356, 1.        ]])"
      ]
     },
     "metadata": {},
     "execution_count": 27
    }
   ],
   "source": [
    "test_coords = [[0, 0], [0,1], [1,1], [1,0]]\n",
    "make_mat(test_coords)"
   ]
  },
  {
   "source": [
    "Generate random 10 kota dan kembalikan dalam bentuk jarak antar kota dari 10 kota"
   ],
   "cell_type": "markdown",
   "metadata": {}
  },
  {
   "cell_type": "code",
   "execution_count": 28,
   "metadata": {},
   "outputs": [
    {
     "output_type": "execute_result",
     "data": {
      "text/plain": [
       "array([[ 5.44294063, 20.69822607],\n",
       "       [14.21749083,  0.13148335],\n",
       "       [ 2.37368268,  5.3538595 ],\n",
       "       [19.52275887, 25.39890955],\n",
       "       [16.33759306, 46.12138607],\n",
       "       [10.18224593, 37.79855298],\n",
       "       [13.77135002, 25.39912342],\n",
       "       [24.30325865, 15.24563009],\n",
       "       [38.19629309, 35.85249824],\n",
       "       [15.73733943, 31.48199589]])"
      ]
     },
     "metadata": {},
     "execution_count": 28
    }
   ],
   "source": [
    "generate_cities(10)"
   ]
  },
  {
   "source": [
    "# Percobaan Menemukan Jalur Optimal\n",
    "Pada tahp ini, fungsi generate random kordinat kota sudah berhasil dilakukan, selanjutnya kita menggunakan algoritma genetika untuk menemukan jalur optimal menggunakan fungsi _genetic_algorithm()_ dengan parameter yang disesuaikan"
   ],
   "cell_type": "markdown",
   "metadata": {}
  },
  {
   "cell_type": "code",
   "execution_count": 29,
   "metadata": {},
   "outputs": [
    {
     "output_type": "stream",
     "name": "stdout",
     "text": [
      "Generation 0: 245.10642696858295\n",
      "Generation 1: 237.99811235769164\n",
      "Generation 2: 226.66411287946917\n",
      "Generation 3: 226.66411287946917\n",
      "Generation 4: 222.3706830742816\n",
      "Generation 5: 222.3706830742816\n",
      "Generation 6: 222.3706830742816\n",
      "Generation 7: 222.3706830742816\n",
      "Generation 8: 222.3706830742816\n",
      "Generation 9: 222.3706830742816\n",
      "Generation 10: 222.3706830742816\n",
      "Generation 11: 221.2346273587014\n",
      "Generation 12: 221.2346273587014\n",
      "Generation 13: 220.55201545074954\n",
      "Generation 14: 220.55201545074954\n",
      "Generation 15: 220.55201545074954\n",
      "Generation 16: 220.55201545074954\n",
      "Generation 17: 217.32200724765713\n",
      "Generation 18: 217.32200724765713\n",
      "Generation 19: 217.32200724765713\n",
      "Generation 20: 217.32200724765713\n",
      "Generation 21: 217.32200724765713\n",
      "Generation 22: 217.32200724765713\n",
      "Generation 23: 217.32200724765713\n",
      "Generation 24: 217.32200724765713\n",
      "Generation 25: 217.22714955258002\n",
      "Generation 26: 217.22714955258002\n",
      "Generation 27: 216.64880609891534\n",
      "Generation 28: 216.64880609891534\n",
      "Generation 29: 216.64880609891534\n",
      "Generation 30: 212.664197036785\n",
      "Generation 31: 212.664197036785\n",
      "Generation 32: 209.81279511410955\n",
      "Generation 33: 209.81279511410955\n",
      "Generation 34: 209.81279511410955\n",
      "Generation 35: 209.81279511410955\n",
      "Generation 36: 209.81279511410955\n",
      "Generation 37: 209.81279511410955\n",
      "Generation 38: 209.81279511410955\n",
      "Generation 39: 209.81279511410955\n",
      "Generation 40: 209.81279511410955\n",
      "Generation 41: 209.81279511410955\n",
      "Generation 42: 209.81279511410955\n",
      "Generation 43: 209.81279511410955\n",
      "Generation 44: 209.81279511410955\n",
      "Generation 45: 209.81279511410955\n",
      "Generation 46: 209.81279511410955\n",
      "Generation 47: 209.81279511410955\n",
      "Generation 48: 209.81279511410955\n",
      "Generation 49: 209.81279511410955\n",
      "Generation 50: 209.81279511410955\n",
      "Generation 51: 209.81279511410955\n",
      "Generation 52: 209.81279511410955\n",
      "Generation 53: 209.81279511410955\n",
      "Generation 54: 209.81279511410955\n",
      "Generation 55: 209.81279511410955\n",
      "Generation 56: 209.81279511410955\n",
      "Generation 57: 209.81279511410955\n",
      "Generation 58: 209.81279511410955\n",
      "Generation 59: 209.81279511410955\n",
      "Generation 60: 209.81279511410955\n",
      "Generation 61: 209.81279511410955\n",
      "Generation 62: 209.81279511410955\n",
      "Generation 63: 209.0605836667218\n",
      "Generation 64: 209.0605836667218\n",
      "Generation 65: 209.0605836667218\n",
      "Generation 66: 209.0605836667218\n",
      "Generation 67: 209.0605836667218\n",
      "Generation 68: 209.0605836667218\n",
      "Generation 69: 209.0605836667218\n",
      "Generation 70: 209.0605836667218\n",
      "Generation 71: 209.0605836667218\n",
      "Generation 72: 209.0605836667218\n",
      "Generation 73: 209.0605836667218\n",
      "Generation 74: 209.0605836667218\n",
      "Generation 75: 209.0605836667218\n",
      "Generation 76: 209.0605836667218\n",
      "Generation 77: 209.0605836667218\n",
      "Generation 78: 209.0605836667218\n",
      "Generation 79: 209.0605836667218\n",
      "Generation 80: 209.0605836667218\n",
      "Generation 81: 209.0605836667218\n",
      "Generation 82: 209.0605836667218\n",
      "Generation 83: 209.0605836667218\n",
      "Generation 84: 209.0605836667218\n",
      "Generation 85: 209.0605836667218\n",
      "Generation 86: 209.0605836667218\n",
      "Generation 87: 209.0605836667218\n",
      "Generation 88: 209.0605836667218\n",
      "Generation 89: 209.0605836667218\n",
      "Generation 90: 209.0605836667218\n",
      "Generation 91: 209.0605836667218\n",
      "Generation 92: 209.0605836667218\n",
      "Generation 93: 209.0605836667218\n",
      "Generation 94: 209.0605836667218\n",
      "Generation 95: 209.0605836667218\n",
      "Generation 96: 209.0605836667218\n",
      "Generation 97: 209.0605836667218\n",
      "Generation 98: 209.0605836667218\n",
      "Generation 99: 209.0605836667218\n"
     ]
    },
    {
     "output_type": "display_data",
     "data": {
      "text/plain": "<Figure size 432x288 with 1 Axes>",
      "image/svg+xml": "<?xml version=\"1.0\" encoding=\"utf-8\" standalone=\"no\"?>\n<!DOCTYPE svg PUBLIC \"-//W3C//DTD SVG 1.1//EN\"\n  \"http://www.w3.org/Graphics/SVG/1.1/DTD/svg11.dtd\">\n<svg height=\"248.518125pt\" version=\"1.1\" viewBox=\"0 0 375.2875 248.518125\" width=\"375.2875pt\" xmlns=\"http://www.w3.org/2000/svg\" xmlns:xlink=\"http://www.w3.org/1999/xlink\">\n <metadata>\n  <rdf:RDF xmlns:cc=\"http://creativecommons.org/ns#\" xmlns:dc=\"http://purl.org/dc/elements/1.1/\" xmlns:rdf=\"http://www.w3.org/1999/02/22-rdf-syntax-ns#\">\n   <cc:Work>\n    <dc:type rdf:resource=\"http://purl.org/dc/dcmitype/StillImage\"/>\n    <dc:date>2021-06-20T21:44:15.403531</dc:date>\n    <dc:format>image/svg+xml</dc:format>\n    <dc:creator>\n     <cc:Agent>\n      <dc:title>Matplotlib v3.4.2, https://matplotlib.org/</dc:title>\n     </cc:Agent>\n    </dc:creator>\n   </cc:Work>\n  </rdf:RDF>\n </metadata>\n <defs>\n  <style type=\"text/css\">*{stroke-linecap:butt;stroke-linejoin:round;}</style>\n </defs>\n <g id=\"figure_1\">\n  <g id=\"patch_1\">\n   <path d=\"M 0 248.518125 \nL 375.2875 248.518125 \nL 375.2875 0 \nL 0 0 \nz\n\" style=\"fill:none;\"/>\n  </g>\n  <g id=\"axes_1\">\n   <g id=\"patch_2\">\n    <path d=\"M 33.2875 224.64 \nL 368.0875 224.64 \nL 368.0875 7.2 \nL 33.2875 7.2 \nz\n\" style=\"fill:#ffffff;\"/>\n   </g>\n   <g id=\"matplotlib.axis_1\">\n    <g id=\"xtick_1\">\n     <g id=\"line2d_1\">\n      <defs>\n       <path d=\"M 0 0 \nL 0 3.5 \n\" id=\"m51a2196260\" style=\"stroke:#000000;stroke-width:0.8;\"/>\n      </defs>\n      <g>\n       <use style=\"stroke:#000000;stroke-width:0.8;\" x=\"48.505682\" xlink:href=\"#m51a2196260\" y=\"224.64\"/>\n      </g>\n     </g>\n     <g id=\"text_1\">\n      <!-- 0 -->\n      <g transform=\"translate(45.324432 239.238438)scale(0.1 -0.1)\">\n       <defs>\n        <path d=\"M 2034 4250 \nQ 1547 4250 1301 3770 \nQ 1056 3291 1056 2328 \nQ 1056 1369 1301 889 \nQ 1547 409 2034 409 \nQ 2525 409 2770 889 \nQ 3016 1369 3016 2328 \nQ 3016 3291 2770 3770 \nQ 2525 4250 2034 4250 \nz\nM 2034 4750 \nQ 2819 4750 3233 4129 \nQ 3647 3509 3647 2328 \nQ 3647 1150 3233 529 \nQ 2819 -91 2034 -91 \nQ 1250 -91 836 529 \nQ 422 1150 422 2328 \nQ 422 3509 836 4129 \nQ 1250 4750 2034 4750 \nz\n\" id=\"DejaVuSans-30\" transform=\"scale(0.015625)\"/>\n       </defs>\n       <use xlink:href=\"#DejaVuSans-30\"/>\n      </g>\n     </g>\n    </g>\n    <g id=\"xtick_2\">\n     <g id=\"line2d_2\">\n      <g>\n       <use style=\"stroke:#000000;stroke-width:0.8;\" x=\"109.993285\" xlink:href=\"#m51a2196260\" y=\"224.64\"/>\n      </g>\n     </g>\n     <g id=\"text_2\">\n      <!-- 20 -->\n      <g transform=\"translate(103.630785 239.238438)scale(0.1 -0.1)\">\n       <defs>\n        <path d=\"M 1228 531 \nL 3431 531 \nL 3431 0 \nL 469 0 \nL 469 531 \nQ 828 903 1448 1529 \nQ 2069 2156 2228 2338 \nQ 2531 2678 2651 2914 \nQ 2772 3150 2772 3378 \nQ 2772 3750 2511 3984 \nQ 2250 4219 1831 4219 \nQ 1534 4219 1204 4116 \nQ 875 4013 500 3803 \nL 500 4441 \nQ 881 4594 1212 4672 \nQ 1544 4750 1819 4750 \nQ 2544 4750 2975 4387 \nQ 3406 4025 3406 3419 \nQ 3406 3131 3298 2873 \nQ 3191 2616 2906 2266 \nQ 2828 2175 2409 1742 \nQ 1991 1309 1228 531 \nz\n\" id=\"DejaVuSans-32\" transform=\"scale(0.015625)\"/>\n       </defs>\n       <use xlink:href=\"#DejaVuSans-32\"/>\n       <use x=\"63.623047\" xlink:href=\"#DejaVuSans-30\"/>\n      </g>\n     </g>\n    </g>\n    <g id=\"xtick_3\">\n     <g id=\"line2d_3\">\n      <g>\n       <use style=\"stroke:#000000;stroke-width:0.8;\" x=\"171.480888\" xlink:href=\"#m51a2196260\" y=\"224.64\"/>\n      </g>\n     </g>\n     <g id=\"text_3\">\n      <!-- 40 -->\n      <g transform=\"translate(165.118388 239.238438)scale(0.1 -0.1)\">\n       <defs>\n        <path d=\"M 2419 4116 \nL 825 1625 \nL 2419 1625 \nL 2419 4116 \nz\nM 2253 4666 \nL 3047 4666 \nL 3047 1625 \nL 3713 1625 \nL 3713 1100 \nL 3047 1100 \nL 3047 0 \nL 2419 0 \nL 2419 1100 \nL 313 1100 \nL 313 1709 \nL 2253 4666 \nz\n\" id=\"DejaVuSans-34\" transform=\"scale(0.015625)\"/>\n       </defs>\n       <use xlink:href=\"#DejaVuSans-34\"/>\n       <use x=\"63.623047\" xlink:href=\"#DejaVuSans-30\"/>\n      </g>\n     </g>\n    </g>\n    <g id=\"xtick_4\">\n     <g id=\"line2d_4\">\n      <g>\n       <use style=\"stroke:#000000;stroke-width:0.8;\" x=\"232.968492\" xlink:href=\"#m51a2196260\" y=\"224.64\"/>\n      </g>\n     </g>\n     <g id=\"text_4\">\n      <!-- 60 -->\n      <g transform=\"translate(226.605992 239.238438)scale(0.1 -0.1)\">\n       <defs>\n        <path d=\"M 2113 2584 \nQ 1688 2584 1439 2293 \nQ 1191 2003 1191 1497 \nQ 1191 994 1439 701 \nQ 1688 409 2113 409 \nQ 2538 409 2786 701 \nQ 3034 994 3034 1497 \nQ 3034 2003 2786 2293 \nQ 2538 2584 2113 2584 \nz\nM 3366 4563 \nL 3366 3988 \nQ 3128 4100 2886 4159 \nQ 2644 4219 2406 4219 \nQ 1781 4219 1451 3797 \nQ 1122 3375 1075 2522 \nQ 1259 2794 1537 2939 \nQ 1816 3084 2150 3084 \nQ 2853 3084 3261 2657 \nQ 3669 2231 3669 1497 \nQ 3669 778 3244 343 \nQ 2819 -91 2113 -91 \nQ 1303 -91 875 529 \nQ 447 1150 447 2328 \nQ 447 3434 972 4092 \nQ 1497 4750 2381 4750 \nQ 2619 4750 2861 4703 \nQ 3103 4656 3366 4563 \nz\n\" id=\"DejaVuSans-36\" transform=\"scale(0.015625)\"/>\n       </defs>\n       <use xlink:href=\"#DejaVuSans-36\"/>\n       <use x=\"63.623047\" xlink:href=\"#DejaVuSans-30\"/>\n      </g>\n     </g>\n    </g>\n    <g id=\"xtick_5\">\n     <g id=\"line2d_5\">\n      <g>\n       <use style=\"stroke:#000000;stroke-width:0.8;\" x=\"294.456095\" xlink:href=\"#m51a2196260\" y=\"224.64\"/>\n      </g>\n     </g>\n     <g id=\"text_5\">\n      <!-- 80 -->\n      <g transform=\"translate(288.093595 239.238438)scale(0.1 -0.1)\">\n       <defs>\n        <path d=\"M 2034 2216 \nQ 1584 2216 1326 1975 \nQ 1069 1734 1069 1313 \nQ 1069 891 1326 650 \nQ 1584 409 2034 409 \nQ 2484 409 2743 651 \nQ 3003 894 3003 1313 \nQ 3003 1734 2745 1975 \nQ 2488 2216 2034 2216 \nz\nM 1403 2484 \nQ 997 2584 770 2862 \nQ 544 3141 544 3541 \nQ 544 4100 942 4425 \nQ 1341 4750 2034 4750 \nQ 2731 4750 3128 4425 \nQ 3525 4100 3525 3541 \nQ 3525 3141 3298 2862 \nQ 3072 2584 2669 2484 \nQ 3125 2378 3379 2068 \nQ 3634 1759 3634 1313 \nQ 3634 634 3220 271 \nQ 2806 -91 2034 -91 \nQ 1263 -91 848 271 \nQ 434 634 434 1313 \nQ 434 1759 690 2068 \nQ 947 2378 1403 2484 \nz\nM 1172 3481 \nQ 1172 3119 1398 2916 \nQ 1625 2713 2034 2713 \nQ 2441 2713 2670 2916 \nQ 2900 3119 2900 3481 \nQ 2900 3844 2670 4047 \nQ 2441 4250 2034 4250 \nQ 1625 4250 1398 4047 \nQ 1172 3844 1172 3481 \nz\n\" id=\"DejaVuSans-38\" transform=\"scale(0.015625)\"/>\n       </defs>\n       <use xlink:href=\"#DejaVuSans-38\"/>\n       <use x=\"63.623047\" xlink:href=\"#DejaVuSans-30\"/>\n      </g>\n     </g>\n    </g>\n    <g id=\"xtick_6\">\n     <g id=\"line2d_6\">\n      <g>\n       <use style=\"stroke:#000000;stroke-width:0.8;\" x=\"355.943698\" xlink:href=\"#m51a2196260\" y=\"224.64\"/>\n      </g>\n     </g>\n     <g id=\"text_6\">\n      <!-- 100 -->\n      <g transform=\"translate(346.399948 239.238438)scale(0.1 -0.1)\">\n       <defs>\n        <path d=\"M 794 531 \nL 1825 531 \nL 1825 4091 \nL 703 3866 \nL 703 4441 \nL 1819 4666 \nL 2450 4666 \nL 2450 531 \nL 3481 531 \nL 3481 0 \nL 794 0 \nL 794 531 \nz\n\" id=\"DejaVuSans-31\" transform=\"scale(0.015625)\"/>\n       </defs>\n       <use xlink:href=\"#DejaVuSans-31\"/>\n       <use x=\"63.623047\" xlink:href=\"#DejaVuSans-30\"/>\n       <use x=\"127.246094\" xlink:href=\"#DejaVuSans-30\"/>\n      </g>\n     </g>\n    </g>\n   </g>\n   <g id=\"matplotlib.axis_2\">\n    <g id=\"ytick_1\">\n     <g id=\"line2d_7\">\n      <defs>\n       <path d=\"M 0 0 \nL -3.5 0 \n\" id=\"mb295dd4a2b\" style=\"stroke:#000000;stroke-width:0.8;\"/>\n      </defs>\n      <g>\n       <use style=\"stroke:#000000;stroke-width:0.8;\" x=\"33.2875\" xlink:href=\"#mb295dd4a2b\" y=\"209.604674\"/>\n      </g>\n     </g>\n     <g id=\"text_7\">\n      <!-- 210 -->\n      <g transform=\"translate(7.2 213.403893)scale(0.1 -0.1)\">\n       <use xlink:href=\"#DejaVuSans-32\"/>\n       <use x=\"63.623047\" xlink:href=\"#DejaVuSans-31\"/>\n       <use x=\"127.246094\" xlink:href=\"#DejaVuSans-30\"/>\n      </g>\n     </g>\n    </g>\n    <g id=\"ytick_2\">\n     <g id=\"line2d_8\">\n      <g>\n       <use style=\"stroke:#000000;stroke-width:0.8;\" x=\"33.2875\" xlink:href=\"#mb295dd4a2b\" y=\"182.185046\"/>\n      </g>\n     </g>\n     <g id=\"text_8\">\n      <!-- 215 -->\n      <g transform=\"translate(7.2 185.984264)scale(0.1 -0.1)\">\n       <defs>\n        <path d=\"M 691 4666 \nL 3169 4666 \nL 3169 4134 \nL 1269 4134 \nL 1269 2991 \nQ 1406 3038 1543 3061 \nQ 1681 3084 1819 3084 \nQ 2600 3084 3056 2656 \nQ 3513 2228 3513 1497 \nQ 3513 744 3044 326 \nQ 2575 -91 1722 -91 \nQ 1428 -91 1123 -41 \nQ 819 9 494 109 \nL 494 744 \nQ 775 591 1075 516 \nQ 1375 441 1709 441 \nQ 2250 441 2565 725 \nQ 2881 1009 2881 1497 \nQ 2881 1984 2565 2268 \nQ 2250 2553 1709 2553 \nQ 1456 2553 1204 2497 \nQ 953 2441 691 2322 \nL 691 4666 \nz\n\" id=\"DejaVuSans-35\" transform=\"scale(0.015625)\"/>\n       </defs>\n       <use xlink:href=\"#DejaVuSans-32\"/>\n       <use x=\"63.623047\" xlink:href=\"#DejaVuSans-31\"/>\n       <use x=\"127.246094\" xlink:href=\"#DejaVuSans-35\"/>\n      </g>\n     </g>\n    </g>\n    <g id=\"ytick_3\">\n     <g id=\"line2d_9\">\n      <g>\n       <use style=\"stroke:#000000;stroke-width:0.8;\" x=\"33.2875\" xlink:href=\"#mb295dd4a2b\" y=\"154.765417\"/>\n      </g>\n     </g>\n     <g id=\"text_9\">\n      <!-- 220 -->\n      <g transform=\"translate(7.2 158.564636)scale(0.1 -0.1)\">\n       <use xlink:href=\"#DejaVuSans-32\"/>\n       <use x=\"63.623047\" xlink:href=\"#DejaVuSans-32\"/>\n       <use x=\"127.246094\" xlink:href=\"#DejaVuSans-30\"/>\n      </g>\n     </g>\n    </g>\n    <g id=\"ytick_4\">\n     <g id=\"line2d_10\">\n      <g>\n       <use style=\"stroke:#000000;stroke-width:0.8;\" x=\"33.2875\" xlink:href=\"#mb295dd4a2b\" y=\"127.345788\"/>\n      </g>\n     </g>\n     <g id=\"text_10\">\n      <!-- 225 -->\n      <g transform=\"translate(7.2 131.145007)scale(0.1 -0.1)\">\n       <use xlink:href=\"#DejaVuSans-32\"/>\n       <use x=\"63.623047\" xlink:href=\"#DejaVuSans-32\"/>\n       <use x=\"127.246094\" xlink:href=\"#DejaVuSans-35\"/>\n      </g>\n     </g>\n    </g>\n    <g id=\"ytick_5\">\n     <g id=\"line2d_11\">\n      <g>\n       <use style=\"stroke:#000000;stroke-width:0.8;\" x=\"33.2875\" xlink:href=\"#mb295dd4a2b\" y=\"99.92616\"/>\n      </g>\n     </g>\n     <g id=\"text_11\">\n      <!-- 230 -->\n      <g transform=\"translate(7.2 103.725379)scale(0.1 -0.1)\">\n       <defs>\n        <path d=\"M 2597 2516 \nQ 3050 2419 3304 2112 \nQ 3559 1806 3559 1356 \nQ 3559 666 3084 287 \nQ 2609 -91 1734 -91 \nQ 1441 -91 1130 -33 \nQ 819 25 488 141 \nL 488 750 \nQ 750 597 1062 519 \nQ 1375 441 1716 441 \nQ 2309 441 2620 675 \nQ 2931 909 2931 1356 \nQ 2931 1769 2642 2001 \nQ 2353 2234 1838 2234 \nL 1294 2234 \nL 1294 2753 \nL 1863 2753 \nQ 2328 2753 2575 2939 \nQ 2822 3125 2822 3475 \nQ 2822 3834 2567 4026 \nQ 2313 4219 1838 4219 \nQ 1578 4219 1281 4162 \nQ 984 4106 628 3988 \nL 628 4550 \nQ 988 4650 1302 4700 \nQ 1616 4750 1894 4750 \nQ 2613 4750 3031 4423 \nQ 3450 4097 3450 3541 \nQ 3450 3153 3228 2886 \nQ 3006 2619 2597 2516 \nz\n\" id=\"DejaVuSans-33\" transform=\"scale(0.015625)\"/>\n       </defs>\n       <use xlink:href=\"#DejaVuSans-32\"/>\n       <use x=\"63.623047\" xlink:href=\"#DejaVuSans-33\"/>\n       <use x=\"127.246094\" xlink:href=\"#DejaVuSans-30\"/>\n      </g>\n     </g>\n    </g>\n    <g id=\"ytick_6\">\n     <g id=\"line2d_12\">\n      <g>\n       <use style=\"stroke:#000000;stroke-width:0.8;\" x=\"33.2875\" xlink:href=\"#mb295dd4a2b\" y=\"72.506531\"/>\n      </g>\n     </g>\n     <g id=\"text_12\">\n      <!-- 235 -->\n      <g transform=\"translate(7.2 76.30575)scale(0.1 -0.1)\">\n       <use xlink:href=\"#DejaVuSans-32\"/>\n       <use x=\"63.623047\" xlink:href=\"#DejaVuSans-33\"/>\n       <use x=\"127.246094\" xlink:href=\"#DejaVuSans-35\"/>\n      </g>\n     </g>\n    </g>\n    <g id=\"ytick_7\">\n     <g id=\"line2d_13\">\n      <g>\n       <use style=\"stroke:#000000;stroke-width:0.8;\" x=\"33.2875\" xlink:href=\"#mb295dd4a2b\" y=\"45.086903\"/>\n      </g>\n     </g>\n     <g id=\"text_13\">\n      <!-- 240 -->\n      <g transform=\"translate(7.2 48.886121)scale(0.1 -0.1)\">\n       <use xlink:href=\"#DejaVuSans-32\"/>\n       <use x=\"63.623047\" xlink:href=\"#DejaVuSans-34\"/>\n       <use x=\"127.246094\" xlink:href=\"#DejaVuSans-30\"/>\n      </g>\n     </g>\n    </g>\n    <g id=\"ytick_8\">\n     <g id=\"line2d_14\">\n      <g>\n       <use style=\"stroke:#000000;stroke-width:0.8;\" x=\"33.2875\" xlink:href=\"#mb295dd4a2b\" y=\"17.667274\"/>\n      </g>\n     </g>\n     <g id=\"text_14\">\n      <!-- 245 -->\n      <g transform=\"translate(7.2 21.466493)scale(0.1 -0.1)\">\n       <use xlink:href=\"#DejaVuSans-32\"/>\n       <use x=\"63.623047\" xlink:href=\"#DejaVuSans-34\"/>\n       <use x=\"127.246094\" xlink:href=\"#DejaVuSans-35\"/>\n      </g>\n     </g>\n    </g>\n   </g>\n   <g id=\"line2d_15\">\n    <path clip-path=\"url(#p3d878ff620)\" d=\"M 48.505682 17.083636 \nL 51.580062 56.065106 \nL 54.654442 118.219917 \nL 57.728822 118.219917 \nL 60.803202 141.764767 \nL 63.877583 141.764767 \nL 66.951963 141.764767 \nL 70.026343 141.764767 \nL 73.100723 141.764767 \nL 76.175103 141.764767 \nL 79.249483 141.764767 \nL 82.323864 147.994812 \nL 85.398244 147.994812 \nL 88.472624 151.738205 \nL 91.547004 151.738205 \nL 94.621384 151.738205 \nL 97.695764 151.738205 \nL 100.770145 169.45133 \nL 103.844525 169.45133 \nL 106.918905 169.45133 \nL 109.993285 169.45133 \nL 113.067665 169.45133 \nL 116.142045 169.45133 \nL 119.216426 169.45133 \nL 122.290806 169.45133 \nL 125.365186 169.971523 \nL 128.439566 169.971523 \nL 131.513946 173.143115 \nL 134.588326 173.143115 \nL 137.662707 173.143115 \nL 140.737087 194.994416 \nL 143.811467 194.994416 \nL 146.885847 210.631292 \nL 149.960227 210.631292 \nL 153.034607 210.631292 \nL 156.108988 210.631292 \nL 159.183368 210.631292 \nL 162.257748 210.631292 \nL 165.332128 210.631292 \nL 168.406508 210.631292 \nL 171.480888 210.631292 \nL 174.555269 210.631292 \nL 177.629649 210.631292 \nL 180.704029 210.631292 \nL 183.778409 210.631292 \nL 186.852789 210.631292 \nL 189.927169 210.631292 \nL 193.00155 210.631292 \nL 196.07593 210.631292 \nL 199.15031 210.631292 \nL 202.22469 210.631292 \nL 205.29907 210.631292 \nL 208.37345 210.631292 \nL 211.447831 210.631292 \nL 214.522211 210.631292 \nL 217.596591 210.631292 \nL 220.670971 210.631292 \nL 223.745351 210.631292 \nL 226.819731 210.631292 \nL 229.894112 210.631292 \nL 232.968492 210.631292 \nL 236.042872 210.631292 \nL 239.117252 210.631292 \nL 242.191632 214.756364 \nL 245.266012 214.756364 \nL 248.340393 214.756364 \nL 251.414773 214.756364 \nL 254.489153 214.756364 \nL 257.563533 214.756364 \nL 260.637913 214.756364 \nL 263.712293 214.756364 \nL 266.786674 214.756364 \nL 269.861054 214.756364 \nL 272.935434 214.756364 \nL 276.009814 214.756364 \nL 279.084194 214.756364 \nL 282.158574 214.756364 \nL 285.232955 214.756364 \nL 288.307335 214.756364 \nL 291.381715 214.756364 \nL 294.456095 214.756364 \nL 297.530475 214.756364 \nL 300.604855 214.756364 \nL 303.679236 214.756364 \nL 306.753616 214.756364 \nL 309.827996 214.756364 \nL 312.902376 214.756364 \nL 315.976756 214.756364 \nL 319.051136 214.756364 \nL 322.125517 214.756364 \nL 325.199897 214.756364 \nL 328.274277 214.756364 \nL 331.348657 214.756364 \nL 334.423037 214.756364 \nL 337.497417 214.756364 \nL 340.571798 214.756364 \nL 343.646178 214.756364 \nL 346.720558 214.756364 \nL 349.794938 214.756364 \nL 352.869318 214.756364 \n\" style=\"fill:none;stroke:#87ceeb;stroke-linecap:square;stroke-width:1.5;\"/>\n   </g>\n   <g id=\"patch_3\">\n    <path d=\"M 33.2875 224.64 \nL 33.2875 7.2 \n\" style=\"fill:none;stroke:#000000;stroke-linecap:square;stroke-linejoin:miter;stroke-width:0.8;\"/>\n   </g>\n   <g id=\"patch_4\">\n    <path d=\"M 368.0875 224.64 \nL 368.0875 7.2 \n\" style=\"fill:none;stroke:#000000;stroke-linecap:square;stroke-linejoin:miter;stroke-width:0.8;\"/>\n   </g>\n   <g id=\"patch_5\">\n    <path d=\"M 33.2875 224.64 \nL 368.0875 224.64 \n\" style=\"fill:none;stroke:#000000;stroke-linecap:square;stroke-linejoin:miter;stroke-width:0.8;\"/>\n   </g>\n   <g id=\"patch_6\">\n    <path d=\"M 33.2875 7.2 \nL 368.0875 7.2 \n\" style=\"fill:none;stroke:#000000;stroke-linecap:square;stroke-linejoin:miter;stroke-width:0.8;\"/>\n   </g>\n  </g>\n </g>\n <defs>\n  <clipPath id=\"p3d878ff620\">\n   <rect height=\"217.44\" width=\"334.8\" x=\"33.2875\" y=\"7.2\"/>\n  </clipPath>\n </defs>\n</svg>\n",
      "image/png": "[encoded data removed]"
     },
     "metadata": {
      "needs_background": "light"
     }
    },
    {
     "output_type": "stream",
     "name": "stdout",
     "text": [
      "[9, 1, 2, 4, 8, 5, 6, 3, 7, 0]\n"
     ]
    }
   ],
   "source": [
    "cities = range(10) # masukan jumlah kota disini, minimal 10 kota\n",
    "city_coordinates = generate_cities(len(cities))\n",
    "adjacency_mat = make_mat(city_coordinates)\n",
    "best, history = genetic_algorithm(\n",
    "    cities, adjacency_mat, n_population=20, n_iter=100, verbose=True, return_history=True\n",
    ") # sesuaikan jumlah pupulasi, jumlah iterasi / generasi (jika kurang optimal), dan interval print data setiap 5 generasi\n",
    "plt.plot(range(len(history)), history, color=\"skyblue\")\n",
    "plt.show() # tampilkan plot histogram dari peforma optimal setiap iterasi generasi\n",
    "print(best) # tampilkan jalur terbaik perjalanan yang dapat dilakukan"
   ]
  },
  {
   "source": [
    "Menampilkan path / jalur optimal yang dapat di lalui dalam bentuk histogram"
   ],
   "cell_type": "markdown",
   "metadata": {}
  },
  {
   "cell_type": "code",
   "execution_count": 30,
   "metadata": {},
   "outputs": [],
   "source": [
    "def print_path(best, city_coordinates):\n",
    "    points = city_coordinates[best]\n",
    "    x, y = zip(*points)\n",
    "    plt.plot(x,y, color=\"skyblue\", marker=\"o\")"
   ]
  },
  {
   "cell_type": "code",
   "execution_count": 31,
   "metadata": {},
   "outputs": [
    {
     "output_type": "display_data",
     "data": {
      "text/plain": "<Figure size 432x288 with 1 Axes>",
      "image/svg+xml": "<?xml version=\"1.0\" encoding=\"utf-8\" standalone=\"no\"?>\n<!DOCTYPE svg PUBLIC \"-//W3C//DTD SVG 1.1//EN\"\n  \"http://www.w3.org/Graphics/SVG/1.1/DTD/svg11.dtd\">\n<svg height=\"248.518125pt\" version=\"1.1\" viewBox=\"0 0 368.925 248.518125\" width=\"368.925pt\" xmlns=\"http://www.w3.org/2000/svg\" xmlns:xlink=\"http://www.w3.org/1999/xlink\">\n <metadata>\n  <rdf:RDF xmlns:cc=\"http://creativecommons.org/ns#\" xmlns:dc=\"http://purl.org/dc/elements/1.1/\" xmlns:rdf=\"http://www.w3.org/1999/02/22-rdf-syntax-ns#\">\n   <cc:Work>\n    <dc:type rdf:resource=\"http://purl.org/dc/dcmitype/StillImage\"/>\n    <dc:date>2021-06-20T21:44:15.744140</dc:date>\n    <dc:format>image/svg+xml</dc:format>\n    <dc:creator>\n     <cc:Agent>\n      <dc:title>Matplotlib v3.4.2, https://matplotlib.org/</dc:title>\n     </cc:Agent>\n    </dc:creator>\n   </cc:Work>\n  </rdf:RDF>\n </metadata>\n <defs>\n  <style type=\"text/css\">*{stroke-linecap:butt;stroke-linejoin:round;}</style>\n </defs>\n <g id=\"figure_1\">\n  <g id=\"patch_1\">\n   <path d=\"M -0 248.518125 \nL 368.925 248.518125 \nL 368.925 0 \nL -0 0 \nz\n\" style=\"fill:none;\"/>\n  </g>\n  <g id=\"axes_1\">\n   <g id=\"patch_2\">\n    <path d=\"M 26.925 224.64 \nL 361.725 224.64 \nL 361.725 7.2 \nL 26.925 7.2 \nz\n\" style=\"fill:#ffffff;\"/>\n   </g>\n   <g id=\"matplotlib.axis_1\">\n    <g id=\"xtick_1\">\n     <g id=\"line2d_1\">\n      <defs>\n       <path d=\"M 0 0 \nL 0 3.5 \n\" id=\"m95e2849ea0\" style=\"stroke:#000000;stroke-width:0.8;\"/>\n      </defs>\n      <g>\n       <use style=\"stroke:#000000;stroke-width:0.8;\" x=\"34.856367\" xlink:href=\"#m95e2849ea0\" y=\"224.64\"/>\n      </g>\n     </g>\n     <g id=\"text_1\">\n      <!-- 5 -->\n      <g transform=\"translate(31.675117 239.238437)scale(0.1 -0.1)\">\n       <defs>\n        <path d=\"M 691 4666 \nL 3169 4666 \nL 3169 4134 \nL 1269 4134 \nL 1269 2991 \nQ 1406 3038 1543 3061 \nQ 1681 3084 1819 3084 \nQ 2600 3084 3056 2656 \nQ 3513 2228 3513 1497 \nQ 3513 744 3044 326 \nQ 2575 -91 1722 -91 \nQ 1428 -91 1123 -41 \nQ 819 9 494 109 \nL 494 744 \nQ 775 591 1075 516 \nQ 1375 441 1709 441 \nQ 2250 441 2565 725 \nQ 2881 1009 2881 1497 \nQ 2881 1984 2565 2268 \nQ 2250 2553 1709 2553 \nQ 1456 2553 1204 2497 \nQ 953 2441 691 2322 \nL 691 4666 \nz\n\" id=\"DejaVuSans-35\" transform=\"scale(0.015625)\"/>\n       </defs>\n       <use xlink:href=\"#DejaVuSans-35\"/>\n      </g>\n     </g>\n    </g>\n    <g id=\"xtick_2\">\n     <g id=\"line2d_2\">\n      <g>\n       <use style=\"stroke:#000000;stroke-width:0.8;\" x=\"73.505095\" xlink:href=\"#m95e2849ea0\" y=\"224.64\"/>\n      </g>\n     </g>\n     <g id=\"text_2\">\n      <!-- 10 -->\n      <g transform=\"translate(67.142595 239.238437)scale(0.1 -0.1)\">\n       <defs>\n        <path d=\"M 794 531 \nL 1825 531 \nL 1825 4091 \nL 703 3866 \nL 703 4441 \nL 1819 4666 \nL 2450 4666 \nL 2450 531 \nL 3481 531 \nL 3481 0 \nL 794 0 \nL 794 531 \nz\n\" id=\"DejaVuSans-31\" transform=\"scale(0.015625)\"/>\n        <path d=\"M 2034 4250 \nQ 1547 4250 1301 3770 \nQ 1056 3291 1056 2328 \nQ 1056 1369 1301 889 \nQ 1547 409 2034 409 \nQ 2525 409 2770 889 \nQ 3016 1369 3016 2328 \nQ 3016 3291 2770 3770 \nQ 2525 4250 2034 4250 \nz\nM 2034 4750 \nQ 2819 4750 3233 4129 \nQ 3647 3509 3647 2328 \nQ 3647 1150 3233 529 \nQ 2819 -91 2034 -91 \nQ 1250 -91 836 529 \nQ 422 1150 422 2328 \nQ 422 3509 836 4129 \nQ 1250 4750 2034 4750 \nz\n\" id=\"DejaVuSans-30\" transform=\"scale(0.015625)\"/>\n       </defs>\n       <use xlink:href=\"#DejaVuSans-31\"/>\n       <use x=\"63.623047\" xlink:href=\"#DejaVuSans-30\"/>\n      </g>\n     </g>\n    </g>\n    <g id=\"xtick_3\">\n     <g id=\"line2d_3\">\n      <g>\n       <use style=\"stroke:#000000;stroke-width:0.8;\" x=\"112.153822\" xlink:href=\"#m95e2849ea0\" y=\"224.64\"/>\n      </g>\n     </g>\n     <g id=\"text_3\">\n      <!-- 15 -->\n      <g transform=\"translate(105.791322 239.238437)scale(0.1 -0.1)\">\n       <use xlink:href=\"#DejaVuSans-31\"/>\n       <use x=\"63.623047\" xlink:href=\"#DejaVuSans-35\"/>\n      </g>\n     </g>\n    </g>\n    <g id=\"xtick_4\">\n     <g id=\"line2d_4\">\n      <g>\n       <use style=\"stroke:#000000;stroke-width:0.8;\" x=\"150.80255\" xlink:href=\"#m95e2849ea0\" y=\"224.64\"/>\n      </g>\n     </g>\n     <g id=\"text_4\">\n      <!-- 20 -->\n      <g transform=\"translate(144.44005 239.238437)scale(0.1 -0.1)\">\n       <defs>\n        <path d=\"M 1228 531 \nL 3431 531 \nL 3431 0 \nL 469 0 \nL 469 531 \nQ 828 903 1448 1529 \nQ 2069 2156 2228 2338 \nQ 2531 2678 2651 2914 \nQ 2772 3150 2772 3378 \nQ 2772 3750 2511 3984 \nQ 2250 4219 1831 4219 \nQ 1534 4219 1204 4116 \nQ 875 4013 500 3803 \nL 500 4441 \nQ 881 4594 1212 4672 \nQ 1544 4750 1819 4750 \nQ 2544 4750 2975 4387 \nQ 3406 4025 3406 3419 \nQ 3406 3131 3298 2873 \nQ 3191 2616 2906 2266 \nQ 2828 2175 2409 1742 \nQ 1991 1309 1228 531 \nz\n\" id=\"DejaVuSans-32\" transform=\"scale(0.015625)\"/>\n       </defs>\n       <use xlink:href=\"#DejaVuSans-32\"/>\n       <use x=\"63.623047\" xlink:href=\"#DejaVuSans-30\"/>\n      </g>\n     </g>\n    </g>\n    <g id=\"xtick_5\">\n     <g id=\"line2d_5\">\n      <g>\n       <use style=\"stroke:#000000;stroke-width:0.8;\" x=\"189.451278\" xlink:href=\"#m95e2849ea0\" y=\"224.64\"/>\n      </g>\n     </g>\n     <g id=\"text_5\">\n      <!-- 25 -->\n      <g transform=\"translate(183.088778 239.238437)scale(0.1 -0.1)\">\n       <use xlink:href=\"#DejaVuSans-32\"/>\n       <use x=\"63.623047\" xlink:href=\"#DejaVuSans-35\"/>\n      </g>\n     </g>\n    </g>\n    <g id=\"xtick_6\">\n     <g id=\"line2d_6\">\n      <g>\n       <use style=\"stroke:#000000;stroke-width:0.8;\" x=\"228.100006\" xlink:href=\"#m95e2849ea0\" y=\"224.64\"/>\n      </g>\n     </g>\n     <g id=\"text_6\">\n      <!-- 30 -->\n      <g transform=\"translate(221.737506 239.238437)scale(0.1 -0.1)\">\n       <defs>\n        <path d=\"M 2597 2516 \nQ 3050 2419 3304 2112 \nQ 3559 1806 3559 1356 \nQ 3559 666 3084 287 \nQ 2609 -91 1734 -91 \nQ 1441 -91 1130 -33 \nQ 819 25 488 141 \nL 488 750 \nQ 750 597 1062 519 \nQ 1375 441 1716 441 \nQ 2309 441 2620 675 \nQ 2931 909 2931 1356 \nQ 2931 1769 2642 2001 \nQ 2353 2234 1838 2234 \nL 1294 2234 \nL 1294 2753 \nL 1863 2753 \nQ 2328 2753 2575 2939 \nQ 2822 3125 2822 3475 \nQ 2822 3834 2567 4026 \nQ 2313 4219 1838 4219 \nQ 1578 4219 1281 4162 \nQ 984 4106 628 3988 \nL 628 4550 \nQ 988 4650 1302 4700 \nQ 1616 4750 1894 4750 \nQ 2613 4750 3031 4423 \nQ 3450 4097 3450 3541 \nQ 3450 3153 3228 2886 \nQ 3006 2619 2597 2516 \nz\n\" id=\"DejaVuSans-33\" transform=\"scale(0.015625)\"/>\n       </defs>\n       <use xlink:href=\"#DejaVuSans-33\"/>\n       <use x=\"63.623047\" xlink:href=\"#DejaVuSans-30\"/>\n      </g>\n     </g>\n    </g>\n    <g id=\"xtick_7\">\n     <g id=\"line2d_7\">\n      <g>\n       <use style=\"stroke:#000000;stroke-width:0.8;\" x=\"266.748734\" xlink:href=\"#m95e2849ea0\" y=\"224.64\"/>\n      </g>\n     </g>\n     <g id=\"text_7\">\n      <!-- 35 -->\n      <g transform=\"translate(260.386234 239.238437)scale(0.1 -0.1)\">\n       <use xlink:href=\"#DejaVuSans-33\"/>\n       <use x=\"63.623047\" xlink:href=\"#DejaVuSans-35\"/>\n      </g>\n     </g>\n    </g>\n    <g id=\"xtick_8\">\n     <g id=\"line2d_8\">\n      <g>\n       <use style=\"stroke:#000000;stroke-width:0.8;\" x=\"305.397462\" xlink:href=\"#m95e2849ea0\" y=\"224.64\"/>\n      </g>\n     </g>\n     <g id=\"text_8\">\n      <!-- 40 -->\n      <g transform=\"translate(299.034962 239.238437)scale(0.1 -0.1)\">\n       <defs>\n        <path d=\"M 2419 4116 \nL 825 1625 \nL 2419 1625 \nL 2419 4116 \nz\nM 2253 4666 \nL 3047 4666 \nL 3047 1625 \nL 3713 1625 \nL 3713 1100 \nL 3047 1100 \nL 3047 0 \nL 2419 0 \nL 2419 1100 \nL 313 1100 \nL 313 1709 \nL 2253 4666 \nz\n\" id=\"DejaVuSans-34\" transform=\"scale(0.015625)\"/>\n       </defs>\n       <use xlink:href=\"#DejaVuSans-34\"/>\n       <use x=\"63.623047\" xlink:href=\"#DejaVuSans-30\"/>\n      </g>\n     </g>\n    </g>\n    <g id=\"xtick_9\">\n     <g id=\"line2d_9\">\n      <g>\n       <use style=\"stroke:#000000;stroke-width:0.8;\" x=\"344.04619\" xlink:href=\"#m95e2849ea0\" y=\"224.64\"/>\n      </g>\n     </g>\n     <g id=\"text_9\">\n      <!-- 45 -->\n      <g transform=\"translate(337.68369 239.238437)scale(0.1 -0.1)\">\n       <use xlink:href=\"#DejaVuSans-34\"/>\n       <use x=\"63.623047\" xlink:href=\"#DejaVuSans-35\"/>\n      </g>\n     </g>\n    </g>\n   </g>\n   <g id=\"matplotlib.axis_2\">\n    <g id=\"ytick_1\">\n     <g id=\"line2d_10\">\n      <defs>\n       <path d=\"M 0 0 \nL -3.5 0 \n\" id=\"m6e2dded11f\" style=\"stroke:#000000;stroke-width:0.8;\"/>\n      </defs>\n      <g>\n       <use style=\"stroke:#000000;stroke-width:0.8;\" x=\"26.925\" xlink:href=\"#m6e2dded11f\" y=\"202.139353\"/>\n      </g>\n     </g>\n     <g id=\"text_10\">\n      <!-- 5 -->\n      <g transform=\"translate(13.5625 205.938572)scale(0.1 -0.1)\">\n       <use xlink:href=\"#DejaVuSans-35\"/>\n      </g>\n     </g>\n    </g>\n    <g id=\"ytick_2\">\n     <g id=\"line2d_11\">\n      <g>\n       <use style=\"stroke:#000000;stroke-width:0.8;\" x=\"26.925\" xlink:href=\"#m6e2dded11f\" y=\"175.3481\"/>\n      </g>\n     </g>\n     <g id=\"text_11\">\n      <!-- 10 -->\n      <g transform=\"translate(7.2 179.147319)scale(0.1 -0.1)\">\n       <use xlink:href=\"#DejaVuSans-31\"/>\n       <use x=\"63.623047\" xlink:href=\"#DejaVuSans-30\"/>\n      </g>\n     </g>\n    </g>\n    <g id=\"ytick_3\">\n     <g id=\"line2d_12\">\n      <g>\n       <use style=\"stroke:#000000;stroke-width:0.8;\" x=\"26.925\" xlink:href=\"#m6e2dded11f\" y=\"148.556847\"/>\n      </g>\n     </g>\n     <g id=\"text_12\">\n      <!-- 15 -->\n      <g transform=\"translate(7.2 152.356065)scale(0.1 -0.1)\">\n       <use xlink:href=\"#DejaVuSans-31\"/>\n       <use x=\"63.623047\" xlink:href=\"#DejaVuSans-35\"/>\n      </g>\n     </g>\n    </g>\n    <g id=\"ytick_4\">\n     <g id=\"line2d_13\">\n      <g>\n       <use style=\"stroke:#000000;stroke-width:0.8;\" x=\"26.925\" xlink:href=\"#m6e2dded11f\" y=\"121.765593\"/>\n      </g>\n     </g>\n     <g id=\"text_13\">\n      <!-- 20 -->\n      <g transform=\"translate(7.2 125.564812)scale(0.1 -0.1)\">\n       <use xlink:href=\"#DejaVuSans-32\"/>\n       <use x=\"63.623047\" xlink:href=\"#DejaVuSans-30\"/>\n      </g>\n     </g>\n    </g>\n    <g id=\"ytick_5\">\n     <g id=\"line2d_14\">\n      <g>\n       <use style=\"stroke:#000000;stroke-width:0.8;\" x=\"26.925\" xlink:href=\"#m6e2dded11f\" y=\"94.97434\"/>\n      </g>\n     </g>\n     <g id=\"text_14\">\n      <!-- 25 -->\n      <g transform=\"translate(7.2 98.773559)scale(0.1 -0.1)\">\n       <use xlink:href=\"#DejaVuSans-32\"/>\n       <use x=\"63.623047\" xlink:href=\"#DejaVuSans-35\"/>\n      </g>\n     </g>\n    </g>\n    <g id=\"ytick_6\">\n     <g id=\"line2d_15\">\n      <g>\n       <use style=\"stroke:#000000;stroke-width:0.8;\" x=\"26.925\" xlink:href=\"#m6e2dded11f\" y=\"68.183087\"/>\n      </g>\n     </g>\n     <g id=\"text_15\">\n      <!-- 30 -->\n      <g transform=\"translate(7.2 71.982306)scale(0.1 -0.1)\">\n       <use xlink:href=\"#DejaVuSans-33\"/>\n       <use x=\"63.623047\" xlink:href=\"#DejaVuSans-30\"/>\n      </g>\n     </g>\n    </g>\n    <g id=\"ytick_7\">\n     <g id=\"line2d_16\">\n      <g>\n       <use style=\"stroke:#000000;stroke-width:0.8;\" x=\"26.925\" xlink:href=\"#m6e2dded11f\" y=\"41.391833\"/>\n      </g>\n     </g>\n     <g id=\"text_16\">\n      <!-- 35 -->\n      <g transform=\"translate(7.2 45.191052)scale(0.1 -0.1)\">\n       <use xlink:href=\"#DejaVuSans-33\"/>\n       <use x=\"63.623047\" xlink:href=\"#DejaVuSans-35\"/>\n      </g>\n     </g>\n    </g>\n    <g id=\"ytick_8\">\n     <g id=\"line2d_17\">\n      <g>\n       <use style=\"stroke:#000000;stroke-width:0.8;\" x=\"26.925\" xlink:href=\"#m6e2dded11f\" y=\"14.60058\"/>\n      </g>\n     </g>\n     <g id=\"text_17\">\n      <!-- 40 -->\n      <g transform=\"translate(7.2 18.399799)scale(0.1 -0.1)\">\n       <use xlink:href=\"#DejaVuSans-34\"/>\n       <use x=\"63.623047\" xlink:href=\"#DejaVuSans-30\"/>\n      </g>\n     </g>\n    </g>\n   </g>\n   <g id=\"line2d_18\">\n    <path clip-path=\"url(#p2a33a9d9fb)\" d=\"M 346.506818 214.756364 \nL 280.004605 197.61597 \nL 145.293566 160.497769 \nL 53.143964 157.596621 \nL 42.143182 150.436121 \nL 244.624822 66.412959 \nL 334.075071 17.083636 \nL 184.498054 26.769597 \nL 142.031982 60.371433 \nL 97.797251 76.931713 \n\" style=\"fill:none;stroke:#87ceeb;stroke-linecap:square;stroke-width:1.5;\"/>\n    <defs>\n     <path d=\"M 0 3 \nC 0.795609 3 1.55874 2.683901 2.12132 2.12132 \nC 2.683901 1.55874 3 0.795609 3 0 \nC 3 -0.795609 2.683901 -1.55874 2.12132 -2.12132 \nC 1.55874 -2.683901 0.795609 -3 0 -3 \nC -0.795609 -3 -1.55874 -2.683901 -2.12132 -2.12132 \nC -2.683901 -1.55874 -3 -0.795609 -3 0 \nC -3 0.795609 -2.683901 1.55874 -2.12132 2.12132 \nC -1.55874 2.683901 -0.795609 3 0 3 \nz\n\" id=\"ma0f4cc0f39\" style=\"stroke:#87ceeb;\"/>\n    </defs>\n    <g clip-path=\"url(#p2a33a9d9fb)\">\n     <use style=\"fill:#87ceeb;stroke:#87ceeb;\" x=\"346.506818\" xlink:href=\"#ma0f4cc0f39\" y=\"214.756364\"/>\n     <use style=\"fill:#87ceeb;stroke:#87ceeb;\" x=\"280.004605\" xlink:href=\"#ma0f4cc0f39\" y=\"197.61597\"/>\n     <use style=\"fill:#87ceeb;stroke:#87ceeb;\" x=\"145.293566\" xlink:href=\"#ma0f4cc0f39\" y=\"160.497769\"/>\n     <use style=\"fill:#87ceeb;stroke:#87ceeb;\" x=\"53.143964\" xlink:href=\"#ma0f4cc0f39\" y=\"157.596621\"/>\n     <use style=\"fill:#87ceeb;stroke:#87ceeb;\" x=\"42.143182\" xlink:href=\"#ma0f4cc0f39\" y=\"150.436121\"/>\n     <use style=\"fill:#87ceeb;stroke:#87ceeb;\" x=\"244.624822\" xlink:href=\"#ma0f4cc0f39\" y=\"66.412959\"/>\n     <use style=\"fill:#87ceeb;stroke:#87ceeb;\" x=\"334.075071\" xlink:href=\"#ma0f4cc0f39\" y=\"17.083636\"/>\n     <use style=\"fill:#87ceeb;stroke:#87ceeb;\" x=\"184.498054\" xlink:href=\"#ma0f4cc0f39\" y=\"26.769597\"/>\n     <use style=\"fill:#87ceeb;stroke:#87ceeb;\" x=\"142.031982\" xlink:href=\"#ma0f4cc0f39\" y=\"60.371433\"/>\n     <use style=\"fill:#87ceeb;stroke:#87ceeb;\" x=\"97.797251\" xlink:href=\"#ma0f4cc0f39\" y=\"76.931713\"/>\n    </g>\n   </g>\n   <g id=\"patch_3\">\n    <path d=\"M 26.925 224.64 \nL 26.925 7.2 \n\" style=\"fill:none;stroke:#000000;stroke-linecap:square;stroke-linejoin:miter;stroke-width:0.8;\"/>\n   </g>\n   <g id=\"patch_4\">\n    <path d=\"M 361.725 224.64 \nL 361.725 7.2 \n\" style=\"fill:none;stroke:#000000;stroke-linecap:square;stroke-linejoin:miter;stroke-width:0.8;\"/>\n   </g>\n   <g id=\"patch_5\">\n    <path d=\"M 26.925 224.64 \nL 361.725 224.64 \n\" style=\"fill:none;stroke:#000000;stroke-linecap:square;stroke-linejoin:miter;stroke-width:0.8;\"/>\n   </g>\n   <g id=\"patch_6\">\n    <path d=\"M 26.925 7.2 \nL 361.725 7.2 \n\" style=\"fill:none;stroke:#000000;stroke-linecap:square;stroke-linejoin:miter;stroke-width:0.8;\"/>\n   </g>\n  </g>\n </g>\n <defs>\n  <clipPath id=\"p2a33a9d9fb\">\n   <rect height=\"217.44\" width=\"334.8\" x=\"26.925\" y=\"7.2\"/>\n  </clipPath>\n </defs>\n</svg>\n",
      "image/png": "[encoded data removed]"
     },
     "metadata": {
      "needs_background": "light"
     }
    }
   ],
   "source": [
    "print_path(best, city_coordinates)"
   ]
  },
  {
   "source": [
    "# Kesimpulan"
   ],
   "cell_type": "markdown",
   "metadata": {}
  },
  {
   "cell_type": "code",
   "execution_count": 32,
   "metadata": {},
   "outputs": [
    {
     "output_type": "stream",
     "name": "stdout",
     "text": [
      "Kordinat dari 10 kota : \n [[13.14268518 28.36726069]\n [36.71491683  5.84419037]\n [19.28730074 12.77148866]\n [24.35919958 37.7289199 ]\n [ 7.36587308 13.31292438]\n [32.13782148 30.33035551]\n [43.71003267 39.53659201]\n [18.86534835 31.45787386]\n [ 5.94269794 14.64927472]\n [45.31833235  2.64531164]] \n Dengan jarak antar kota : \n [[13.14268518 43.07288956 24.80379155 26.09619258 16.75974726 32.19772213\n  45.11453112 19.1168318  14.94987619 52.10921137]\n [26.07717144 36.71491683 20.49359488 40.12488731 10.48990343 40.40311687\n  55.18826763 31.81135254 10.62286069 45.43109147]\n [20.39505526 37.36271644 19.28730074 34.87468966  7.38574566 36.62176094\n  51.25366049 26.55338699  6.23231412 46.43587738]\n [16.13601056 48.62736982 31.5416129  24.35919958 25.50288069 32.97845243\n  43.74739575 19.88032663 23.83245016 57.31152428]\n [19.98407405 37.46688012 19.29489887 34.48929459  7.36587308 36.36526546\n  50.97300953 26.17518978  6.09109933 46.55694587]\n [13.28848806 44.13113868 26.08282529 25.45799205 18.54316717 32.13782148\n  44.66902446 18.8990123  16.76937547 53.10567673]\n [17.24772842 49.83134602 32.99046419 24.42618027 27.2385174  33.43044062\n  43.71003267 20.52235502 25.5869932  58.43558688]\n [13.50118748 44.76657123 26.85481264 25.15346145 19.58303546 32.15759424\n  44.45033907 18.86534835 17.82819856 53.70209482]\n [18.99771862 37.75598798 19.37849453 33.55652881  7.48611505 35.75941644\n  50.29856378 25.26717977  5.94269794 46.88119427]\n [28.88509714 36.85400851 21.78392597 42.71100763 12.96356616 42.41817091\n  57.19732094 34.43929601 13.39443124 45.31833235]] \n Memiliki nilai jarak optimal : 209.0605836667218 dengan jalur / path : [9, 1, 2, 4, 8, 5, 6, 3, 7, 0]\n"
     ]
    }
   ],
   "source": [
    "print(f\"Kordinat dari {len(cities)} kota : \\n {city_coordinates} \\n Dengan jarak antar kota : \\n {adjacency_mat} \\n Memiliki nilai jarak optimal : {min(history)} dengan jalur / path : {best}\")"
   ]
  }
 ]
}