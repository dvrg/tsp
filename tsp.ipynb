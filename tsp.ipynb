{
 "metadata": {
  "language_info": {
   "codemirror_mode": {
    "name": "ipython",
    "version": 3
   },
   "file_extension": ".py",
   "mimetype": "text/x-python",
   "name": "python",
   "nbconvert_exporter": "python",
   "pygments_lexer": "ipython3",
   "version": "3.8.2"
  },
  "orig_nbformat": 2,
  "kernelspec": {
   "name": "python382jvsc74a57bd0951f6ba8eedafd833d6dcffa1c8a6e16100fd9deccdfca75a58f627af9444b6c",
   "display_name": "Python 3.8.2 64-bit ('tsp-3.8.2': pyenv)"
  },
  "metadata": {
   "interpreter": {
    "hash": "951f6ba8eedafd833d6dcffa1c8a6e16100fd9deccdfca75a58f627af9444b6c"
   }
  }
 },
 "nbformat": 4,
 "nbformat_minor": 2,
 "cells": [
  {
   "source": [
    "# Anggota Tim :\n",
    "- Ni Made Ayu Aghata Widya Lestari (1201194075)\n",
    "- Lutfi Muhammad (1201190253)\n",
    "- Kartika Salsabilla Wulandari (1201194051)\n",
    "- Meyliza Gusandi (1201174281)"
   ],
   "cell_type": "markdown",
   "metadata": {}
  },
  {
   "source": [
    "# Setup\n",
    "Menggunakan module numpy dengan alasan kecepatan dalam pemrosesan list dan juga support vector, selain itu menggunakan module matplotlib untuk membuat visualisasi dari data yang dihasilkan"
   ],
   "cell_type": "markdown",
   "metadata": {}
  },
  {
   "cell_type": "code",
   "execution_count": 1,
   "metadata": {
    "tags": []
   },
   "outputs": [
    {
     "output_type": "stream",
     "name": "stdout",
     "text": [
      "Requirement already satisfied: pip in /home/darn/.pyenv/versions/3.8.2/envs/tsp-3.8.2/lib/python3.8/site-packages (21.1.2)\n",
      "Requirement already satisfied: numpy in /home/darn/.pyenv/versions/3.8.2/envs/tsp-3.8.2/lib/python3.8/site-packages (1.20.3)\n",
      "Requirement already satisfied: matplotlib in /home/darn/.pyenv/versions/3.8.2/envs/tsp-3.8.2/lib/python3.8/site-packages (3.4.2)\n",
      "Requirement already satisfied: pillow>=6.2.0 in /home/darn/.pyenv/versions/3.8.2/envs/tsp-3.8.2/lib/python3.8/site-packages (from matplotlib) (8.2.0)\n",
      "Requirement already satisfied: pyparsing>=2.2.1 in /home/darn/.pyenv/versions/3.8.2/envs/tsp-3.8.2/lib/python3.8/site-packages (from matplotlib) (2.4.7)\n",
      "Requirement already satisfied: python-dateutil>=2.7 in /home/darn/.pyenv/versions/3.8.2/envs/tsp-3.8.2/lib/python3.8/site-packages (from matplotlib) (2.8.1)\n",
      "Requirement already satisfied: numpy>=1.16 in /home/darn/.pyenv/versions/3.8.2/envs/tsp-3.8.2/lib/python3.8/site-packages (from matplotlib) (1.20.3)\n",
      "Requirement already satisfied: kiwisolver>=1.0.1 in /home/darn/.pyenv/versions/3.8.2/envs/tsp-3.8.2/lib/python3.8/site-packages (from matplotlib) (1.3.1)\n",
      "Requirement already satisfied: cycler>=0.10 in /home/darn/.pyenv/versions/3.8.2/envs/tsp-3.8.2/lib/python3.8/site-packages (from matplotlib) (0.10.0)\n",
      "Requirement already satisfied: six in /home/darn/.pyenv/versions/3.8.2/envs/tsp-3.8.2/lib/python3.8/site-packages (from cycler>=0.10->matplotlib) (1.16.0)\n"
     ]
    }
   ],
   "source": [
    "!pip install --upgrade pip\n",
    "!pip install numpy\n",
    "!pip install matplotlib"
   ]
  },
  {
   "cell_type": "code",
   "execution_count": 2,
   "metadata": {},
   "outputs": [
    {
     "output_type": "stream",
     "name": "stderr",
     "text": [
      "UsageError: unrecognized arguments: = 'svg'\n"
     ]
    }
   ],
   "source": [
    "import numpy as np\n",
    "import matplotlib.pyplot as plt \n",
    "%matplotlib inline \n",
    "%matplotlib InlineBackend.figure_format = 'svg'\n",
    "plt.style.use(\"seaborn\")\n",
    "np.random.seed(42) # fungsi ini supaya nomor random yang di generate tidak selalu berubah ketika di eksesuki (memudahkan debug)\n"
   ]
  },
  {
   "source": [
    "# Membuat Representasi\n",
    "TSP membutuhkan data kota dan juga jarak antar kota, disini dicoba terlebih dahulu untuk merepresentasikan secara eksplisit kota dan jarak antar kota. Represntasi antara jarak antar kota <sub>_i_</sub> dan <sub>_j_</sub> sehingga _A_<sub>_ij_</sub> menyatakan jarak antara kedua kota.\n",
    "\n",
    "keterangan : \n",
    "_cities_ = kota\n",
    "_adjacency_mat_ = matriks jarak antar kota"
   ],
   "cell_type": "markdown",
   "metadata": {}
  },
  {
   "cell_type": "code",
   "execution_count": 3,
   "metadata": {},
   "outputs": [],
   "source": [
    "cities = [0, 1, 2, 3, 4]\n",
    "\n",
    "adjacency_mat = np.asarray(\n",
    "    [\n",
    "        [0.00, 28.02, 17.12, 27.46, 46.07],\n",
    "        [28.02, 0.00, 34.00, 25.55, 25.55],\n",
    "        [17.12, 34.00, 0.00, 18.03, 57.38],\n",
    "        [27.46, 25.55, 18.03, 0.00, 51.11],\n",
    "        [46.07, 25.55, 57.38, 51.11, 0.00],\n",
    "    ]\n",
    ")\n"
   ]
  },
  {
   "source": [
    "# Implementasi\n",
    "Definiskan class yang merepresentasikan Populasi yang didalam nya terdapat informasi spesifik tentang generasi populasi pada class tersebut. Spesifiknya ada informasi tentang :\n",
    "- _bag_ : representasi dari seluruh populasi (kantong populasi)\n",
    "- _parents_ : generasi terbaik yang terpilih dari populasi tersebut (atau induk)\n",
    "- _score_ : menyimpan nilai dari kromosom terbaik dari populasi\n",
    "- _best_ : menyimpan kromosom terbaik\n",
    "- _adjacency_mat_ : digunkan untuk menghitung jarak antar kota dalam konteks TSP"
   ],
   "cell_type": "markdown",
   "metadata": {}
  },
  {
   "cell_type": "code",
   "execution_count": 4,
   "metadata": {},
   "outputs": [],
   "source": [
    "class Population():\n",
    "    def __init__(self, bag, adjacency_mat):\n",
    "        self.bag = bag\n",
    "        self.parents = []\n",
    "        self.score = 0\n",
    "        self.best = None\n",
    "        self.adjacency_mat = adjacency_mat"
   ]
  },
  {
   "source": [
    "## Fungsi _Generate Random_ Populasi (Inisialisasi Populasi)"
   ],
   "cell_type": "markdown",
   "metadata": {}
  },
  {
   "cell_type": "code",
   "execution_count": 5,
   "metadata": {},
   "outputs": [],
   "source": [
    "def init_population(cities, adjacency_mat, n_population):\n",
    "        return Population(\n",
    "            np.asarray([np.random.permutation(cities) for _ in range(n_population)]),\n",
    "            adjacency_mat\n",
    "        )"
   ]
  },
  {
   "source": [
    "## Melihat isi dari _Generate Dummy_ Populasi\n",
    "Memastikan fungsi berjalan semestinya"
   ],
   "cell_type": "markdown",
   "metadata": {}
  },
  {
   "cell_type": "code",
   "execution_count": 6,
   "metadata": {},
   "outputs": [
    {
     "output_type": "execute_result",
     "data": {
      "text/plain": [
       "array([[4, 0, 2, 1, 3],\n",
       "       [4, 1, 0, 3, 2],\n",
       "       [2, 0, 4, 3, 1],\n",
       "       [0, 4, 3, 1, 2],\n",
       "       [2, 1, 3, 4, 0]])"
      ]
     },
     "metadata": {},
     "execution_count": 6
    }
   ],
   "source": [
    "pop = init_population(cities, adjacency_mat, 5)\n",
    "pop.bag"
   ]
  },
  {
   "source": [
    "# Fitness\n",
    "Sekarang kita membutuhkan beberapa fungsi yang akan menentukan _fitness_ dari sebuah kromosom. Dalam konteks TSP, _fitness_ didefinisikan dalam istilah : semakin pendek jarak total, semakin _fit_ dan semakin unggul kromosom. Semua informasi jarak yang dibutuhkan akan disimpan dalam `self.adjacency_mat`. Kita dapat menghitung jumlah semua jarak antara dua kota yang berdekatan dalam urutan kromosom."
   ],
   "cell_type": "markdown",
   "metadata": {}
  },
  {
   "cell_type": "code",
   "execution_count": 7,
   "metadata": {},
   "outputs": [],
   "source": [
    "def fitness(self, chromosome):\n",
    "    return sum(\n",
    "        [\n",
    "            self.adjacency_mat[chromosome[i], chromosome[i + 1]]\n",
    "            for i in range(len(chromosome) - 1)\n",
    "        ]\n",
    "    )\n",
    "\n",
    "Population.fitness = fitness"
   ]
  },
  {
   "source": [
    "# Seleksi\n",
    "Selanjutnya, mengevaluasi populasi. Sederhananya, evaluasi berarti menghitung kesesuaian setiap kromosom dalam populasi total, menentukan siapa yang terbaik, menyimpan informasi skor, dan mengembalikan beberapa vektor probabilitas yang setiap elemennya mewakili probabilitas bahwa elemen ke-i dalam kantong populasi dipilih sebagai _parents_/induk. Kami menerapkan beberapa pra-pemrosesan dasar untuk memastikan bahwa kromosom dengan kinerja terburuk sama sekali tidak memiliki peluang untuk dipilih."
   ],
   "cell_type": "markdown",
   "metadata": {}
  },
  {
   "cell_type": "code",
   "execution_count": 8,
   "metadata": {},
   "outputs": [],
   "source": [
    "def evaluate(self):\n",
    "    distances = np.asarray(\n",
    "        [self.fitness(chromosome) for chromosome in self.bag]\n",
    "    )\n",
    "    self.score = np.min(distances)\n",
    "    self.best = self.bag[distances.tolist().index(self.score)]\n",
    "    self.parents.append(self.best)\n",
    "    if False in (distances[0] == distances):\n",
    "        distances = np.max(distances) - distances\n",
    "    return distances / np.sum(distances)\n",
    "\n",
    "Population.evaluate = evaluate"
   ]
  },
  {
   "source": [
    "Saat memanggil `pop.evaluate()`, kita mendapatkan vektor probabilitas seperti yang diharapkan."
   ],
   "cell_type": "markdown",
   "metadata": {}
  },
  {
   "cell_type": "code",
   "execution_count": 9,
   "metadata": {},
   "outputs": [
    {
     "output_type": "execute_result",
     "data": {
      "text/plain": [
       "array([3.13156440e-01, 5.31324857e-01, 1.55518703e-01, 0.00000000e+00,\n",
       "       2.61854703e-16])"
      ]
     },
     "metadata": {},
     "execution_count": 9
    }
   ],
   "source": [
    "pop.evaluate()"
   ]
  },
  {
   "source": [
    "Saat kita memanggil `pop.best`, maka hasil akan mengurutkan kromosom terbaik."
   ],
   "cell_type": "markdown",
   "metadata": {}
  },
  {
   "cell_type": "code",
   "execution_count": 10,
   "metadata": {},
   "outputs": [
    {
     "output_type": "execute_result",
     "data": {
      "text/plain": [
       "array([4, 1, 0, 3, 2])"
      ]
     },
     "metadata": {},
     "execution_count": 10
    }
   ],
   "source": [
    "pop.best"
   ]
  },
  {
   "source": [
    "from IPython.display import Markdown as md\n",
    "md(f\"kita juga dapat melihat skor kromosom terbaik. Dalam hal ini, jarak dikatakan {pop.score}. Perhatikan bahwa semakin rendah skornya, semakin baik, karena skor ini mewakili total jarak yang harus ditempuh seorang penjual untuk mengunjungi semua kota dalam kasus TSP.\")"
   ],
   "cell_type": "code",
   "metadata": {},
   "execution_count": 11,
   "outputs": [
    {
     "output_type": "execute_result",
     "data": {
      "text/plain": [
       "<IPython.core.display.Markdown object>"
      ],
      "text/markdown": "kita juga dapat melihat skor kromosom terbaik. Dalam hal ini, jarak dikatakan 99.06. Perhatikan bahwa semakin rendah skornya, semakin baik, karena skor ini mewakili total jarak yang harus ditempuh seorang penjual untuk mengunjungi semua kota dalam kasus TSP."
     },
     "metadata": {},
     "execution_count": 11
    }
   ]
  },
  {
   "cell_type": "code",
   "execution_count": 12,
   "metadata": {},
   "outputs": [
    {
     "output_type": "execute_result",
     "data": {
      "text/plain": [
       "99.06"
      ]
     },
     "metadata": {},
     "execution_count": 12
    }
   ],
   "source": [
    "pop.score"
   ]
  },
  {
   "source": [
    "# Proses Memilik _Parents_ Untuk Generasi Selanjutnya\n",
    "Sekarang, kita akan memilih k : jumlah _parents_ untuk menjadi basis generasi berikutnya. Di sini, kami menggunakan model _roulette_ sederhana, di mana kami membandingkan nilai vektor probabilitas dan nomor acak yang diambil dari distribusi seragam. Jika nilai vektor probabilitas lebih tinggi, kromosom yang sesuai ditambahkan ke `self.parents`. Kami mengulangi proses ini sampai kami memiliki k _parents_."
   ],
   "cell_type": "markdown",
   "metadata": {}
  },
  {
   "cell_type": "code",
   "execution_count": 13,
   "metadata": {},
   "outputs": [],
   "source": [
    "def select(self, k =4):\n",
    "    fit = self.evaluate()\n",
    "    while len(self.parents) < k:\n",
    "        idx = np.random.randint(0, len(fit))\n",
    "        if fit[idx] > np.random.rand():\n",
    "            self.parents.append(self.bag[idx])\n",
    "    self.parents = np.asarray(self.parents)\n",
    "\n",
    "Population.select = select"
   ]
  },
  {
   "cell_type": "code",
   "execution_count": 14,
   "metadata": {},
   "outputs": [],
   "source": [
    "pop.select()"
   ]
  },
  {
   "source": [
    "Seperti yang diharapkan, kami mendapatkan 4 _parents_ setelah memilih _parents_ melalui `pop.select()`"
   ],
   "cell_type": "markdown",
   "metadata": {}
  },
  {
   "cell_type": "code",
   "execution_count": 15,
   "metadata": {},
   "outputs": [
    {
     "output_type": "execute_result",
     "data": {
      "text/plain": [
       "array([[4, 1, 0, 3, 2],\n",
       "       [4, 1, 0, 3, 2],\n",
       "       [2, 0, 4, 3, 1],\n",
       "       [4, 0, 2, 1, 3]])"
      ]
     },
     "metadata": {},
     "execution_count": 15
    }
   ],
   "source": [
    "pop.parents"
   ]
  },
  {
   "source": [
    "# _Swap_\n",
    "kami menggunakan mutasi swap dan crossover sederhana. Seperti namanya, swap hanya melibatkan pertukaran dua elemen kromosom. Misalnya, jika kita memiliki [a, b, c], kita dapat menukar dua elemen pertama menjadi [b, a, c]."
   ],
   "cell_type": "markdown",
   "metadata": {}
  },
  {
   "cell_type": "code",
   "execution_count": 16,
   "metadata": {},
   "outputs": [],
   "source": [
    "def swap(chromosome):\n",
    "    a, b = np.random.choice(len(chromosome), 2)\n",
    "    chromosome[a], chromosome[b] = (\n",
    "        chromosome[b],\n",
    "        chromosome[a],\n",
    "    )\n",
    "    return chromosome"
   ]
  },
  {
   "source": [
    "Masalah dengan mutasi swap, adalah bahwa swapping adalah proses yang sangat mengganggu dalam konteks TSP. Karena setiap kromosom mengkodekan urutan di mana seorang salesman harus mengunjungi setiap kota, bertukar dua kota dapat sangat mempengaruhi skor kebugaran akhir dari kromosom yang bermutasi. Oleh karena itu, kami juga menggunakan bentuk mutasi lain, yang dikenal sebagai crossover."
   ],
   "cell_type": "markdown",
   "metadata": {}
  },
  {
   "source": [
    "# _Cross-Over_\n",
    "kita ambil dua _parents_ kemudian _slice_ sebagian kromosom dari satu _parents_, dan mengisi sisa slot dengan _parents_ lainnya. Saat mengisi sisa slot, kita perlu memastikan bahwa tidak ada duplikat dalam kromosom. Mari kita lihat sebuah contoh. Bayangkan _parents_ satu memiliki `[a, b, c, d, e]` dan yang lainnya memiliki `[b, a, e, c, d]`. Katakanlah kita _slice_ bagian acak dari _parents_ pertama memberi kita `[None, b, c, None, None]`. Kemudian, kami mengisi sisa indeks kosong dengan _parents_ lainnya, dengan memperhatikan urutan kemunculan elemen. Dalam hal ini, kita akan berakhir dengan `[a, b, c, e, d]`."
   ],
   "cell_type": "markdown",
   "metadata": {}
  },
  {
   "cell_type": "code",
   "execution_count": 17,
   "metadata": {},
   "outputs": [],
   "source": [
    "def crossover(self, p_cross=0.1):\n",
    "    children = []\n",
    "    count, size = self.parents.shape\n",
    "    for _ in range(len(self.bag)):\n",
    "        if np.random.rand() > p_cross:\n",
    "            children.append(\n",
    "                list(self.parents[np.random.randint(count, size=1)[0]])\n",
    "            )\n",
    "        else:\n",
    "            parent1, parent2 = self.parents[\n",
    "                np.random.randint(count, size=2), :\n",
    "            ]\n",
    "            idx = np.random.choice(range(size), size=2, replace=False)\n",
    "            start, end = min(idx), max(idx)\n",
    "            child = [None] * size\n",
    "            for i in range(start, end + 1, 1):\n",
    "                child[i] = parent1[i]\n",
    "            pointer = 0\n",
    "            for i in range(size):\n",
    "                if child[i] is None:\n",
    "                    while parent2[pointer] in child:\n",
    "                        pointer += 1\n",
    "                    child[i] = parent2[pointer]\n",
    "            children.append(child)\n",
    "    return children\n",
    "\n",
    "Population.crossover = crossover"
   ]
  },
  {
   "source": [
    "# _Mutation_\n",
    "Sekarang, kami memasukkan mutasi _crossover_ menjadi satu fungsi yang dapat dipanggil sehingga kami melakukan setiap mutasi sesuai dengan beberapa ambang batas / _threshold_ yang ditentukan."
   ],
   "cell_type": "markdown",
   "metadata": {}
  },
  {
   "cell_type": "code",
   "execution_count": 18,
   "metadata": {},
   "outputs": [],
   "source": [
    "def mutate(self, p_cross=0.1, p_mut=0.1):\n",
    "    next_bag = []\n",
    "    children = self.crossover(p_cross)\n",
    "    for child in children:\n",
    "        if np.random.rand() < p_mut:\n",
    "            next_bag.append(swap(child))\n",
    "        else:\n",
    "            next_bag.append(child)\n",
    "    return next_bag\n",
    "\n",
    "Population.mutate = mutate"
   ]
  },
  {
   "source": [
    "Ketika menjalankan `pop.mutate()` kita akan melihat kantong populasi untuk generasi berikutnya"
   ],
   "cell_type": "markdown",
   "metadata": {}
  },
  {
   "cell_type": "code",
   "execution_count": 19,
   "metadata": {},
   "outputs": [
    {
     "output_type": "execute_result",
     "data": {
      "text/plain": [
       "[[2, 0, 4, 3, 1],\n",
       " [0, 4, 2, 1, 3],\n",
       " [4, 0, 2, 1, 3],\n",
       " [4, 1, 0, 3, 2],\n",
       " [4, 1, 0, 3, 2]]"
      ]
     },
     "metadata": {},
     "execution_count": 19
    }
   ],
   "source": [
    "pop.mutate()"
   ]
  },
  {
   "source": [
    "Sekarang saatnya untuk menyatukan semua fungsi ditambah beberapa parameter tambahan seperti _print_interval_, jalankan simulasi pemilihan populasi dan mutasi dengan _n_iter_ generasi. Bagian penting pada bagian ini adalah `children = pop.mutate(p_cross, p_mut)` dan `pop = Population(children, pop.adjacency_mat)`. Pada dasarnya, kita memperoleh anak-anak dari mutasi dan meneruskannya sebagai kantong populasi generasi berikutnya dalam konstruktor Populasi."
   ],
   "cell_type": "markdown",
   "metadata": {}
  },
  {
   "cell_type": "code",
   "execution_count": 20,
   "metadata": {},
   "outputs": [],
   "source": [
    "def genetic_algorithm(cities, adjacency_mat, n_population=5, n_iter=20, selectivity=0.15, p_cross=0.5, p_mut=0.1, print_interval=100, return_history=False, verbose=False):\n",
    "    pop = init_population(cities, adjacency_mat, n_population)\n",
    "    best = pop.best\n",
    "    score = float(\"inf\")\n",
    "    history = []\n",
    "    for i in range(n_iter):\n",
    "        pop.select(n_population * selectivity)\n",
    "        history.append(pop.score)\n",
    "        if verbose:\n",
    "            print(f\"Generation {i}: {pop.score}\")\n",
    "        elif i % print_interval == 0:\n",
    "            print(f\"Generation {i}: {pop.score}\")\n",
    "        if pop.score < score:\n",
    "            best = pop.best\n",
    "            score = pop.score\n",
    "        children = pop.mutate(p_cross, p_mut)\n",
    "        pop = Population(children, pop.adjacency_mat)\n",
    "    if return_history:\n",
    "        return best, history\n",
    "    return best"
   ]
  },
  {
   "source": [
    "Sekarang mari kita uji pada contoh TSP kita selama 20 generasi. Seiring berlalunya generasi, skor _fitness_ semakin membaik."
   ],
   "cell_type": "markdown",
   "metadata": {}
  },
  {
   "cell_type": "code",
   "execution_count": 21,
   "metadata": {},
   "outputs": [
    {
     "output_type": "stream",
     "name": "stdout",
     "text": [
      "Generation 0: 121.8\nGeneration 1: 121.8\nGeneration 2: 121.8\nGeneration 3: 121.8\nGeneration 4: 121.8\nGeneration 5: 121.8\nGeneration 6: 121.8\nGeneration 7: 114.29\nGeneration 8: 114.29\nGeneration 9: 114.29\nGeneration 10: 114.29\nGeneration 11: 114.29\nGeneration 12: 114.29\nGeneration 13: 114.29\nGeneration 14: 114.29\nGeneration 15: 95.68\nGeneration 16: 95.68\nGeneration 17: 95.68\nGeneration 18: 95.68\nGeneration 19: 95.68\n"
     ]
    },
    {
     "output_type": "execute_result",
     "data": {
      "text/plain": [
       "[4, 1, 3, 0, 2]"
      ]
     },
     "metadata": {},
     "execution_count": 21
    }
   ],
   "source": [
    "genetic_algorithm(cities, adjacency_mat, verbose=True)"
   ]
  },
  {
   "source": [
    "Mari kita coba menjalankan uji coba TSP yaitu sebanyak 100 generasi. Untuk kejelasan, mari kita juga tampilkan plot kemajuan algoritma genetika kita dengan menyetel _return_history_ ke _True_"
   ],
   "cell_type": "markdown",
   "metadata": {}
  },
  {
   "cell_type": "code",
   "execution_count": 22,
   "metadata": {},
   "outputs": [
    {
     "output_type": "stream",
     "name": "stdout",
     "text": [
      "Generation 0: 122.71\nGeneration 20: 88.72\nGeneration 40: 88.72\nGeneration 60: 88.72\nGeneration 80: 86.25\n"
     ]
    },
    {
     "output_type": "display_data",
     "data": {
      "text/plain": "<Figure size 432x288 with 1 Axes>",
      "image/svg+xml": "<?xml version=\"1.0\" encoding=\"utf-8\" standalone=\"no\"?>\n<!DOCTYPE svg PUBLIC \"-//W3C//DTD SVG 1.1//EN\"\n  \"http://www.w3.org/Graphics/SVG/1.1/DTD/svg11.dtd\">\n<svg height=\"248.518125pt\" version=\"1.1\" viewBox=\"0 0 375.2875 248.518125\" width=\"375.2875pt\" xmlns=\"http://www.w3.org/2000/svg\" xmlns:xlink=\"http://www.w3.org/1999/xlink\">\n <metadata>\n  <rdf:RDF xmlns:cc=\"http://creativecommons.org/ns#\" xmlns:dc=\"http://purl.org/dc/elements/1.1/\" xmlns:rdf=\"http://www.w3.org/1999/02/22-rdf-syntax-ns#\">\n   <cc:Work>\n    <dc:type rdf:resource=\"http://purl.org/dc/dcmitype/StillImage\"/>\n    <dc:date>2021-06-20T19:31:06.123479</dc:date>\n    <dc:format>image/svg+xml</dc:format>\n    <dc:creator>\n     <cc:Agent>\n      <dc:title>Matplotlib v3.4.2, https://matplotlib.org/</dc:title>\n     </cc:Agent>\n    </dc:creator>\n   </cc:Work>\n  </rdf:RDF>\n </metadata>\n <defs>\n  <style type=\"text/css\">*{stroke-linecap:butt;stroke-linejoin:round;}</style>\n </defs>\n <g id=\"figure_1\">\n  <g id=\"patch_1\">\n   <path d=\"M 0 248.518125 \nL 375.2875 248.518125 \nL 375.2875 0 \nL 0 0 \nz\n\" style=\"fill:none;\"/>\n  </g>\n  <g id=\"axes_1\">\n   <g id=\"patch_2\">\n    <path d=\"M 33.2875 224.64 \nL 368.0875 224.64 \nL 368.0875 7.2 \nL 33.2875 7.2 \nz\n\" style=\"fill:#ffffff;\"/>\n   </g>\n   <g id=\"matplotlib.axis_1\">\n    <g id=\"xtick_1\">\n     <g id=\"line2d_1\">\n      <defs>\n       <path d=\"M 0 0 \nL 0 3.5 \n\" id=\"m1b3396bf84\" style=\"stroke:#000000;stroke-width:0.8;\"/>\n      </defs>\n      <g>\n       <use style=\"stroke:#000000;stroke-width:0.8;\" x=\"48.505682\" xlink:href=\"#m1b3396bf84\" y=\"224.64\"/>\n      </g>\n     </g>\n     <g id=\"text_1\">\n      <!-- 0 -->\n      <g transform=\"translate(45.324432 239.238437)scale(0.1 -0.1)\">\n       <defs>\n        <path d=\"M 2034 4250 \nQ 1547 4250 1301 3770 \nQ 1056 3291 1056 2328 \nQ 1056 1369 1301 889 \nQ 1547 409 2034 409 \nQ 2525 409 2770 889 \nQ 3016 1369 3016 2328 \nQ 3016 3291 2770 3770 \nQ 2525 4250 2034 4250 \nz\nM 2034 4750 \nQ 2819 4750 3233 4129 \nQ 3647 3509 3647 2328 \nQ 3647 1150 3233 529 \nQ 2819 -91 2034 -91 \nQ 1250 -91 836 529 \nQ 422 1150 422 2328 \nQ 422 3509 836 4129 \nQ 1250 4750 2034 4750 \nz\n\" id=\"DejaVuSans-30\" transform=\"scale(0.015625)\"/>\n       </defs>\n       <use xlink:href=\"#DejaVuSans-30\"/>\n      </g>\n     </g>\n    </g>\n    <g id=\"xtick_2\">\n     <g id=\"line2d_2\">\n      <g>\n       <use style=\"stroke:#000000;stroke-width:0.8;\" x=\"109.993285\" xlink:href=\"#m1b3396bf84\" y=\"224.64\"/>\n      </g>\n     </g>\n     <g id=\"text_2\">\n      <!-- 20 -->\n      <g transform=\"translate(103.630785 239.238437)scale(0.1 -0.1)\">\n       <defs>\n        <path d=\"M 1228 531 \nL 3431 531 \nL 3431 0 \nL 469 0 \nL 469 531 \nQ 828 903 1448 1529 \nQ 2069 2156 2228 2338 \nQ 2531 2678 2651 2914 \nQ 2772 3150 2772 3378 \nQ 2772 3750 2511 3984 \nQ 2250 4219 1831 4219 \nQ 1534 4219 1204 4116 \nQ 875 4013 500 3803 \nL 500 4441 \nQ 881 4594 1212 4672 \nQ 1544 4750 1819 4750 \nQ 2544 4750 2975 4387 \nQ 3406 4025 3406 3419 \nQ 3406 3131 3298 2873 \nQ 3191 2616 2906 2266 \nQ 2828 2175 2409 1742 \nQ 1991 1309 1228 531 \nz\n\" id=\"DejaVuSans-32\" transform=\"scale(0.015625)\"/>\n       </defs>\n       <use xlink:href=\"#DejaVuSans-32\"/>\n       <use x=\"63.623047\" xlink:href=\"#DejaVuSans-30\"/>\n      </g>\n     </g>\n    </g>\n    <g id=\"xtick_3\">\n     <g id=\"line2d_3\">\n      <g>\n       <use style=\"stroke:#000000;stroke-width:0.8;\" x=\"171.480888\" xlink:href=\"#m1b3396bf84\" y=\"224.64\"/>\n      </g>\n     </g>\n     <g id=\"text_3\">\n      <!-- 40 -->\n      <g transform=\"translate(165.118388 239.238437)scale(0.1 -0.1)\">\n       <defs>\n        <path d=\"M 2419 4116 \nL 825 1625 \nL 2419 1625 \nL 2419 4116 \nz\nM 2253 4666 \nL 3047 4666 \nL 3047 1625 \nL 3713 1625 \nL 3713 1100 \nL 3047 1100 \nL 3047 0 \nL 2419 0 \nL 2419 1100 \nL 313 1100 \nL 313 1709 \nL 2253 4666 \nz\n\" id=\"DejaVuSans-34\" transform=\"scale(0.015625)\"/>\n       </defs>\n       <use xlink:href=\"#DejaVuSans-34\"/>\n       <use x=\"63.623047\" xlink:href=\"#DejaVuSans-30\"/>\n      </g>\n     </g>\n    </g>\n    <g id=\"xtick_4\">\n     <g id=\"line2d_4\">\n      <g>\n       <use style=\"stroke:#000000;stroke-width:0.8;\" x=\"232.968492\" xlink:href=\"#m1b3396bf84\" y=\"224.64\"/>\n      </g>\n     </g>\n     <g id=\"text_4\">\n      <!-- 60 -->\n      <g transform=\"translate(226.605992 239.238437)scale(0.1 -0.1)\">\n       <defs>\n        <path d=\"M 2113 2584 \nQ 1688 2584 1439 2293 \nQ 1191 2003 1191 1497 \nQ 1191 994 1439 701 \nQ 1688 409 2113 409 \nQ 2538 409 2786 701 \nQ 3034 994 3034 1497 \nQ 3034 2003 2786 2293 \nQ 2538 2584 2113 2584 \nz\nM 3366 4563 \nL 3366 3988 \nQ 3128 4100 2886 4159 \nQ 2644 4219 2406 4219 \nQ 1781 4219 1451 3797 \nQ 1122 3375 1075 2522 \nQ 1259 2794 1537 2939 \nQ 1816 3084 2150 3084 \nQ 2853 3084 3261 2657 \nQ 3669 2231 3669 1497 \nQ 3669 778 3244 343 \nQ 2819 -91 2113 -91 \nQ 1303 -91 875 529 \nQ 447 1150 447 2328 \nQ 447 3434 972 4092 \nQ 1497 4750 2381 4750 \nQ 2619 4750 2861 4703 \nQ 3103 4656 3366 4563 \nz\n\" id=\"DejaVuSans-36\" transform=\"scale(0.015625)\"/>\n       </defs>\n       <use xlink:href=\"#DejaVuSans-36\"/>\n       <use x=\"63.623047\" xlink:href=\"#DejaVuSans-30\"/>\n      </g>\n     </g>\n    </g>\n    <g id=\"xtick_5\">\n     <g id=\"line2d_5\">\n      <g>\n       <use style=\"stroke:#000000;stroke-width:0.8;\" x=\"294.456095\" xlink:href=\"#m1b3396bf84\" y=\"224.64\"/>\n      </g>\n     </g>\n     <g id=\"text_5\">\n      <!-- 80 -->\n      <g transform=\"translate(288.093595 239.238437)scale(0.1 -0.1)\">\n       <defs>\n        <path d=\"M 2034 2216 \nQ 1584 2216 1326 1975 \nQ 1069 1734 1069 1313 \nQ 1069 891 1326 650 \nQ 1584 409 2034 409 \nQ 2484 409 2743 651 \nQ 3003 894 3003 1313 \nQ 3003 1734 2745 1975 \nQ 2488 2216 2034 2216 \nz\nM 1403 2484 \nQ 997 2584 770 2862 \nQ 544 3141 544 3541 \nQ 544 4100 942 4425 \nQ 1341 4750 2034 4750 \nQ 2731 4750 3128 4425 \nQ 3525 4100 3525 3541 \nQ 3525 3141 3298 2862 \nQ 3072 2584 2669 2484 \nQ 3125 2378 3379 2068 \nQ 3634 1759 3634 1313 \nQ 3634 634 3220 271 \nQ 2806 -91 2034 -91 \nQ 1263 -91 848 271 \nQ 434 634 434 1313 \nQ 434 1759 690 2068 \nQ 947 2378 1403 2484 \nz\nM 1172 3481 \nQ 1172 3119 1398 2916 \nQ 1625 2713 2034 2713 \nQ 2441 2713 2670 2916 \nQ 2900 3119 2900 3481 \nQ 2900 3844 2670 4047 \nQ 2441 4250 2034 4250 \nQ 1625 4250 1398 4047 \nQ 1172 3844 1172 3481 \nz\n\" id=\"DejaVuSans-38\" transform=\"scale(0.015625)\"/>\n       </defs>\n       <use xlink:href=\"#DejaVuSans-38\"/>\n       <use x=\"63.623047\" xlink:href=\"#DejaVuSans-30\"/>\n      </g>\n     </g>\n    </g>\n    <g id=\"xtick_6\">\n     <g id=\"line2d_6\">\n      <g>\n       <use style=\"stroke:#000000;stroke-width:0.8;\" x=\"355.943698\" xlink:href=\"#m1b3396bf84\" y=\"224.64\"/>\n      </g>\n     </g>\n     <g id=\"text_6\">\n      <!-- 100 -->\n      <g transform=\"translate(346.399948 239.238437)scale(0.1 -0.1)\">\n       <defs>\n        <path d=\"M 794 531 \nL 1825 531 \nL 1825 4091 \nL 703 3866 \nL 703 4441 \nL 1819 4666 \nL 2450 4666 \nL 2450 531 \nL 3481 531 \nL 3481 0 \nL 794 0 \nL 794 531 \nz\n\" id=\"DejaVuSans-31\" transform=\"scale(0.015625)\"/>\n       </defs>\n       <use xlink:href=\"#DejaVuSans-31\"/>\n       <use x=\"63.623047\" xlink:href=\"#DejaVuSans-30\"/>\n       <use x=\"127.246094\" xlink:href=\"#DejaVuSans-30\"/>\n      </g>\n     </g>\n    </g>\n   </g>\n   <g id=\"matplotlib.axis_2\">\n    <g id=\"ytick_1\">\n     <g id=\"line2d_7\">\n      <defs>\n       <path d=\"M 0 0 \nL -3.5 0 \n\" id=\"m98ee92e5bb\" style=\"stroke:#000000;stroke-width:0.8;\"/>\n      </defs>\n      <g>\n       <use style=\"stroke:#000000;stroke-width:0.8;\" x=\"33.2875\" xlink:href=\"#m98ee92e5bb\" y=\"221.533404\"/>\n      </g>\n     </g>\n     <g id=\"text_7\">\n      <!-- 85 -->\n      <g transform=\"translate(13.5625 225.332623)scale(0.1 -0.1)\">\n       <defs>\n        <path d=\"M 691 4666 \nL 3169 4666 \nL 3169 4134 \nL 1269 4134 \nL 1269 2991 \nQ 1406 3038 1543 3061 \nQ 1681 3084 1819 3084 \nQ 2600 3084 3056 2656 \nQ 3513 2228 3513 1497 \nQ 3513 744 3044 326 \nQ 2575 -91 1722 -91 \nQ 1428 -91 1123 -41 \nQ 819 9 494 109 \nL 494 744 \nQ 775 591 1075 516 \nQ 1375 441 1709 441 \nQ 2250 441 2565 725 \nQ 2881 1009 2881 1497 \nQ 2881 1984 2565 2268 \nQ 2250 2553 1709 2553 \nQ 1456 2553 1204 2497 \nQ 953 2441 691 2322 \nL 691 4666 \nz\n\" id=\"DejaVuSans-35\" transform=\"scale(0.015625)\"/>\n       </defs>\n       <use xlink:href=\"#DejaVuSans-38\"/>\n       <use x=\"63.623047\" xlink:href=\"#DejaVuSans-35\"/>\n      </g>\n     </g>\n    </g>\n    <g id=\"ytick_2\">\n     <g id=\"line2d_8\">\n      <g>\n       <use style=\"stroke:#000000;stroke-width:0.8;\" x=\"33.2875\" xlink:href=\"#m98ee92e5bb\" y=\"194.425241\"/>\n      </g>\n     </g>\n     <g id=\"text_8\">\n      <!-- 90 -->\n      <g transform=\"translate(13.5625 198.22446)scale(0.1 -0.1)\">\n       <defs>\n        <path d=\"M 703 97 \nL 703 672 \nQ 941 559 1184 500 \nQ 1428 441 1663 441 \nQ 2288 441 2617 861 \nQ 2947 1281 2994 2138 \nQ 2813 1869 2534 1725 \nQ 2256 1581 1919 1581 \nQ 1219 1581 811 2004 \nQ 403 2428 403 3163 \nQ 403 3881 828 4315 \nQ 1253 4750 1959 4750 \nQ 2769 4750 3195 4129 \nQ 3622 3509 3622 2328 \nQ 3622 1225 3098 567 \nQ 2575 -91 1691 -91 \nQ 1453 -91 1209 -44 \nQ 966 3 703 97 \nz\nM 1959 2075 \nQ 2384 2075 2632 2365 \nQ 2881 2656 2881 3163 \nQ 2881 3666 2632 3958 \nQ 2384 4250 1959 4250 \nQ 1534 4250 1286 3958 \nQ 1038 3666 1038 3163 \nQ 1038 2656 1286 2365 \nQ 1534 2075 1959 2075 \nz\n\" id=\"DejaVuSans-39\" transform=\"scale(0.015625)\"/>\n       </defs>\n       <use xlink:href=\"#DejaVuSans-39\"/>\n       <use x=\"63.623047\" xlink:href=\"#DejaVuSans-30\"/>\n      </g>\n     </g>\n    </g>\n    <g id=\"ytick_3\">\n     <g id=\"line2d_9\">\n      <g>\n       <use style=\"stroke:#000000;stroke-width:0.8;\" x=\"33.2875\" xlink:href=\"#m98ee92e5bb\" y=\"167.317078\"/>\n      </g>\n     </g>\n     <g id=\"text_9\">\n      <!-- 95 -->\n      <g transform=\"translate(13.5625 171.116296)scale(0.1 -0.1)\">\n       <use xlink:href=\"#DejaVuSans-39\"/>\n       <use x=\"63.623047\" xlink:href=\"#DejaVuSans-35\"/>\n      </g>\n     </g>\n    </g>\n    <g id=\"ytick_4\">\n     <g id=\"line2d_10\">\n      <g>\n       <use style=\"stroke:#000000;stroke-width:0.8;\" x=\"33.2875\" xlink:href=\"#m98ee92e5bb\" y=\"140.208914\"/>\n      </g>\n     </g>\n     <g id=\"text_10\">\n      <!-- 100 -->\n      <g transform=\"translate(7.2 144.008133)scale(0.1 -0.1)\">\n       <use xlink:href=\"#DejaVuSans-31\"/>\n       <use x=\"63.623047\" xlink:href=\"#DejaVuSans-30\"/>\n       <use x=\"127.246094\" xlink:href=\"#DejaVuSans-30\"/>\n      </g>\n     </g>\n    </g>\n    <g id=\"ytick_5\">\n     <g id=\"line2d_11\">\n      <g>\n       <use style=\"stroke:#000000;stroke-width:0.8;\" x=\"33.2875\" xlink:href=\"#m98ee92e5bb\" y=\"113.100751\"/>\n      </g>\n     </g>\n     <g id=\"text_11\">\n      <!-- 105 -->\n      <g transform=\"translate(7.2 116.89997)scale(0.1 -0.1)\">\n       <use xlink:href=\"#DejaVuSans-31\"/>\n       <use x=\"63.623047\" xlink:href=\"#DejaVuSans-30\"/>\n       <use x=\"127.246094\" xlink:href=\"#DejaVuSans-35\"/>\n      </g>\n     </g>\n    </g>\n    <g id=\"ytick_6\">\n     <g id=\"line2d_12\">\n      <g>\n       <use style=\"stroke:#000000;stroke-width:0.8;\" x=\"33.2875\" xlink:href=\"#m98ee92e5bb\" y=\"85.992588\"/>\n      </g>\n     </g>\n     <g id=\"text_12\">\n      <!-- 110 -->\n      <g transform=\"translate(7.2 89.791806)scale(0.1 -0.1)\">\n       <use xlink:href=\"#DejaVuSans-31\"/>\n       <use x=\"63.623047\" xlink:href=\"#DejaVuSans-31\"/>\n       <use x=\"127.246094\" xlink:href=\"#DejaVuSans-30\"/>\n      </g>\n     </g>\n    </g>\n    <g id=\"ytick_7\">\n     <g id=\"line2d_13\">\n      <g>\n       <use style=\"stroke:#000000;stroke-width:0.8;\" x=\"33.2875\" xlink:href=\"#m98ee92e5bb\" y=\"58.884424\"/>\n      </g>\n     </g>\n     <g id=\"text_13\">\n      <!-- 115 -->\n      <g transform=\"translate(7.2 62.683643)scale(0.1 -0.1)\">\n       <use xlink:href=\"#DejaVuSans-31\"/>\n       <use x=\"63.623047\" xlink:href=\"#DejaVuSans-31\"/>\n       <use x=\"127.246094\" xlink:href=\"#DejaVuSans-35\"/>\n      </g>\n     </g>\n    </g>\n    <g id=\"ytick_8\">\n     <g id=\"line2d_14\">\n      <g>\n       <use style=\"stroke:#000000;stroke-width:0.8;\" x=\"33.2875\" xlink:href=\"#m98ee92e5bb\" y=\"31.776261\"/>\n      </g>\n     </g>\n     <g id=\"text_14\">\n      <!-- 120 -->\n      <g transform=\"translate(7.2 35.57548)scale(0.1 -0.1)\">\n       <use xlink:href=\"#DejaVuSans-31\"/>\n       <use x=\"63.623047\" xlink:href=\"#DejaVuSans-32\"/>\n       <use x=\"127.246094\" xlink:href=\"#DejaVuSans-30\"/>\n      </g>\n     </g>\n    </g>\n   </g>\n   <g id=\"line2d_15\">\n    <path clip-path=\"url(#pb8db8a618f)\" d=\"M 48.505682 17.083636 \nL 51.580062 17.083636 \nL 54.654442 17.083636 \nL 57.728822 17.083636 \nL 60.803202 17.083636 \nL 63.877583 145.305249 \nL 66.951963 145.305249 \nL 70.026343 145.305249 \nL 73.100723 145.305249 \nL 76.175103 145.305249 \nL 79.249483 145.305249 \nL 82.323864 201.364931 \nL 85.398244 201.364931 \nL 88.472624 201.364931 \nL 91.547004 201.364931 \nL 94.621384 201.364931 \nL 97.695764 201.364931 \nL 100.770145 201.364931 \nL 103.844525 201.364931 \nL 106.918905 201.364931 \nL 109.993285 201.364931 \nL 113.067665 201.364931 \nL 116.142045 201.364931 \nL 119.216426 201.364931 \nL 122.290806 201.364931 \nL 125.365186 201.364931 \nL 128.439566 201.364931 \nL 131.513946 201.364931 \nL 134.588326 201.364931 \nL 137.662707 201.364931 \nL 140.737087 201.364931 \nL 143.811467 201.364931 \nL 146.885847 201.364931 \nL 149.960227 201.364931 \nL 153.034607 201.364931 \nL 156.108988 201.364931 \nL 159.183368 201.364931 \nL 162.257748 201.364931 \nL 165.332128 201.364931 \nL 168.406508 201.364931 \nL 171.480888 201.364931 \nL 174.555269 201.364931 \nL 177.629649 201.364931 \nL 180.704029 201.364931 \nL 183.778409 201.364931 \nL 186.852789 201.364931 \nL 189.927169 201.364931 \nL 193.00155 201.364931 \nL 196.07593 201.364931 \nL 199.15031 201.364931 \nL 202.22469 201.364931 \nL 205.29907 201.364931 \nL 208.37345 201.364931 \nL 211.447831 201.364931 \nL 214.522211 201.364931 \nL 217.596591 201.364931 \nL 220.670971 201.364931 \nL 223.745351 201.364931 \nL 226.819731 201.364931 \nL 229.894112 201.364931 \nL 232.968492 201.364931 \nL 236.042872 201.364931 \nL 239.117252 201.364931 \nL 242.191632 201.364931 \nL 245.266012 201.364931 \nL 248.340393 201.364931 \nL 251.414773 201.364931 \nL 254.489153 201.364931 \nL 257.563533 201.364931 \nL 260.637913 201.364931 \nL 263.712293 201.364931 \nL 266.786674 201.364931 \nL 269.861054 201.364931 \nL 272.935434 201.364931 \nL 276.009814 201.364931 \nL 279.084194 201.364931 \nL 282.158574 214.756364 \nL 285.232955 214.756364 \nL 288.307335 214.756364 \nL 291.381715 214.756364 \nL 294.456095 214.756364 \nL 297.530475 214.756364 \nL 300.604855 214.756364 \nL 303.679236 214.756364 \nL 306.753616 214.756364 \nL 309.827996 214.756364 \nL 312.902376 214.756364 \nL 315.976756 214.756364 \nL 319.051136 214.756364 \nL 322.125517 214.756364 \nL 325.199897 214.756364 \nL 328.274277 214.756364 \nL 331.348657 214.756364 \nL 334.423037 214.756364 \nL 337.497417 214.756364 \nL 340.571798 214.756364 \nL 343.646178 214.756364 \nL 346.720558 214.756364 \nL 349.794938 214.756364 \nL 352.869318 214.756364 \n\" style=\"fill:none;stroke:#87ceeb;stroke-linecap:square;stroke-width:1.5;\"/>\n   </g>\n   <g id=\"patch_3\">\n    <path d=\"M 33.2875 224.64 \nL 33.2875 7.2 \n\" style=\"fill:none;stroke:#000000;stroke-linecap:square;stroke-linejoin:miter;stroke-width:0.8;\"/>\n   </g>\n   <g id=\"patch_4\">\n    <path d=\"M 368.0875 224.64 \nL 368.0875 7.2 \n\" style=\"fill:none;stroke:#000000;stroke-linecap:square;stroke-linejoin:miter;stroke-width:0.8;\"/>\n   </g>\n   <g id=\"patch_5\">\n    <path d=\"M 33.2875 224.64 \nL 368.0875 224.64 \n\" style=\"fill:none;stroke:#000000;stroke-linecap:square;stroke-linejoin:miter;stroke-width:0.8;\"/>\n   </g>\n   <g id=\"patch_6\">\n    <path d=\"M 33.2875 7.2 \nL 368.0875 7.2 \n\" style=\"fill:none;stroke:#000000;stroke-linecap:square;stroke-linejoin:miter;stroke-width:0.8;\"/>\n   </g>\n  </g>\n </g>\n <defs>\n  <clipPath id=\"pb8db8a618f\">\n   <rect height=\"217.44\" width=\"334.8\" x=\"33.2875\" y=\"7.2\"/>\n  </clipPath>\n </defs>\n</svg>\n",
      "image/png": "[encoded data removed]"
     },
     "metadata": {
      "needs_background": "light"
     }
    },
    {
     "output_type": "stream",
     "name": "stdout",
     "text": [
      "[0, 2, 3, 1, 4]\n"
     ]
    }
   ],
   "source": [
    "best, history = genetic_algorithm(cities, adjacency_mat, n_iter=100, verbose=False, print_interval=20, return_history=True)\n",
    "\n",
    "plt.plot(range(len(history)), history, color=\"skyblue\")\n",
    "plt.show()\n",
    "print(best)"
   ]
  },
  {
   "source": [
    "from IPython.display import Markdown as md\n",
    "md(f\"Setelah sekitar 10~80 iterasi, sepertinya algoritma telah konvergen ke minimum, nilainya tetap di nilai { min(history) }. Lalu hasilnya optimal rute dengan urutan { best }\")"
   ],
   "cell_type": "code",
   "metadata": {},
   "execution_count": 23,
   "outputs": [
    {
     "output_type": "execute_result",
     "data": {
      "text/plain": [
       "<IPython.core.display.Markdown object>"
      ],
      "text/markdown": "Setelah sekitar 20~30 iterasi, sepertinya algoritma telah konvergen ke minimum, nilainya tetap di nilai 86.25. Lalu hasilnya optimal rute dengan urutan [0, 2, 3, 1, 4]"
     },
     "metadata": {},
     "execution_count": 23
    }
   ]
  },
  {
   "source": [
    "# Penerapan TSP dengan _random_ 10 kota dan _random_ jarak antar 10 kota\n"
   ],
   "cell_type": "markdown",
   "metadata": {}
  },
  {
   "source": [
    "Buat fungsi untuk generate kordinat kota secara random, dengan range random 1-50 (n_cities * factor) untuk menghasilkan batas / _thresold_ 50"
   ],
   "cell_type": "markdown",
   "metadata": {}
  },
  {
   "cell_type": "code",
   "execution_count": 24,
   "metadata": {},
   "outputs": [],
   "source": [
    "def generate_cities(n_cities, factor=5):\n",
    "    return np.random.rand(n_cities, 2) * n_cities * factor"
   ]
  },
  {
   "source": [
    "_generate_cities()_ : generate _n_cities_ dengan random kordinat kota dalam bentuk array numpy. Sekarang, kita membutuhkan beberapa fungsi yang akan membuat matriks jarak antar kota berdasarkan kordinat kota."
   ],
   "cell_type": "markdown",
   "metadata": {}
  },
  {
   "cell_type": "code",
   "execution_count": 25,
   "metadata": {},
   "outputs": [],
   "source": [
    "def make_mat(coordinates):\n",
    "    res = [\n",
    "        [get_distance(city1, city2) for city2 in coordinates]\n",
    "        for city1 in coordinates\n",
    "    ]\n",
    "    return np.asarray(res)\n",
    "\n",
    "def get_distance(city1, city2):\n",
    "    return np.sqrt((cities[0] - city2[0])**2 + (city1[1] - city2[1])**2)"
   ]
  },
  {
   "source": [
    "lakukan pemeriksaan terhadap fungsi dengan memanggil fungsi _make_mat()_ sehingga memastikan bahwa _generate_cities()_ memang membuat koordinat kota seperti yang diharapkan. Maka akan kita coba mengirimkan kordinat dummy"
   ],
   "cell_type": "markdown",
   "metadata": {}
  },
  {
   "cell_type": "code",
   "execution_count": 26,
   "metadata": {},
   "outputs": [
    {
     "output_type": "execute_result",
     "data": {
      "text/plain": [
       "array([[0.        , 1.        , 1.41421356, 1.        ],\n",
       "       [1.        , 0.        , 1.        , 1.41421356],\n",
       "       [1.        , 0.        , 1.        , 1.41421356],\n",
       "       [0.        , 1.        , 1.41421356, 1.        ]])"
      ]
     },
     "metadata": {},
     "execution_count": 26
    }
   ],
   "source": [
    "test_coords = [[0, 0], [0,1], [1,1], [1,0]]\n",
    "make_mat(test_coords)"
   ]
  },
  {
   "source": [
    "Generate random 10 kota dan kembalikan dalam bentuk jarak antar kota dari 10 kota"
   ],
   "cell_type": "markdown",
   "metadata": {}
  },
  {
   "cell_type": "code",
   "execution_count": 27,
   "metadata": {},
   "outputs": [
    {
     "output_type": "execute_result",
     "data": {
      "text/plain": [
       "array([[35.96719427, 22.28103163],\n",
       "       [37.60879218, 32.39192667],\n",
       "       [35.75573249, 48.32691281],\n",
       "       [45.1919997 ,  4.63639606],\n",
       "       [30.19485974, 31.16053768],\n",
       "       [11.02849367, 42.88035683],\n",
       "       [49.86215081, 19.02268546],\n",
       "       [26.70386017, 22.0355708 ],\n",
       "       [44.12810725, 44.94091924],\n",
       "       [43.08240805, 41.07369208]])"
      ]
     },
     "metadata": {},
     "execution_count": 27
    }
   ],
   "source": [
    "generate_cities(10)"
   ]
  },
  {
   "source": [
    "# Percobaan Menemukan Jalur Optimal\n",
    "Pada tahp ini, fungsi generate random kordinat kota sudah berhasil dilakukan, selanjutnya kita menggunakan algoritma genetika untuk menemukan jalur optimal menggunakan fungsi _genetic_algorithm()_ dengan parameter yang disesuaikan"
   ],
   "cell_type": "markdown",
   "metadata": {}
  },
  {
   "cell_type": "code",
   "execution_count": 28,
   "metadata": {},
   "outputs": [
    {
     "output_type": "stream",
     "name": "stdout",
     "text": [
      "Generation 0: 252.379593517968\n",
      "Generation 1: 245.9306846095725\n",
      "Generation 2: 245.9306846095725\n",
      "Generation 3: 245.9306846095725\n",
      "Generation 4: 245.9306846095725\n",
      "Generation 5: 245.9306846095725\n",
      "Generation 6: 242.68696706723202\n",
      "Generation 7: 242.68696706723202\n",
      "Generation 8: 242.68696706723202\n",
      "Generation 9: 242.68696706723202\n",
      "Generation 10: 242.68696706723202\n",
      "Generation 11: 242.68696706723202\n",
      "Generation 12: 242.68696706723202\n",
      "Generation 13: 242.68696706723202\n",
      "Generation 14: 238.67234490716538\n",
      "Generation 15: 238.67234490716538\n",
      "Generation 16: 238.67234490716538\n",
      "Generation 17: 238.67234490716538\n",
      "Generation 18: 238.67234490716538\n",
      "Generation 19: 238.67234490716538\n",
      "Generation 20: 238.67234490716538\n",
      "Generation 21: 238.67234490716538\n",
      "Generation 22: 238.67234490716538\n",
      "Generation 23: 238.67234490716538\n",
      "Generation 24: 238.67234490716538\n",
      "Generation 25: 238.67234490716538\n",
      "Generation 26: 238.67234490716538\n",
      "Generation 27: 238.67234490716538\n",
      "Generation 28: 238.67234490716538\n",
      "Generation 29: 228.61012018904466\n",
      "Generation 30: 228.61012018904466\n",
      "Generation 31: 228.61012018904466\n",
      "Generation 32: 228.61012018904466\n",
      "Generation 33: 228.61012018904466\n",
      "Generation 34: 228.61012018904466\n",
      "Generation 35: 228.61012018904466\n",
      "Generation 36: 228.61012018904466\n",
      "Generation 37: 228.61012018904466\n",
      "Generation 38: 228.61012018904466\n",
      "Generation 39: 228.61012018904466\n",
      "Generation 40: 228.61012018904466\n",
      "Generation 41: 228.61012018904466\n",
      "Generation 42: 228.61012018904466\n",
      "Generation 43: 228.61012018904466\n",
      "Generation 44: 228.61012018904466\n",
      "Generation 45: 228.61012018904466\n",
      "Generation 46: 228.61012018904466\n",
      "Generation 47: 228.61012018904466\n",
      "Generation 48: 228.61012018904466\n",
      "Generation 49: 228.61012018904466\n",
      "Generation 50: 228.61012018904466\n",
      "Generation 51: 228.61012018904466\n",
      "Generation 52: 228.61012018904466\n",
      "Generation 53: 228.61012018904466\n",
      "Generation 54: 228.61012018904466\n",
      "Generation 55: 228.61012018904466\n",
      "Generation 56: 228.61012018904466\n",
      "Generation 57: 228.61012018904466\n",
      "Generation 58: 228.61012018904466\n",
      "Generation 59: 228.1501989461127\n",
      "Generation 60: 228.1501989461127\n",
      "Generation 61: 228.1501989461127\n",
      "Generation 62: 228.1501989461127\n",
      "Generation 63: 228.1501989461127\n",
      "Generation 64: 228.1501989461127\n",
      "Generation 65: 228.1501989461127\n",
      "Generation 66: 228.1501989461127\n",
      "Generation 67: 228.1501989461127\n",
      "Generation 68: 228.1501989461127\n",
      "Generation 69: 228.1501989461127\n",
      "Generation 70: 228.1501989461127\n",
      "Generation 71: 228.1501989461127\n",
      "Generation 72: 228.1501989461127\n",
      "Generation 73: 228.1501989461127\n",
      "Generation 74: 228.1501989461127\n",
      "Generation 75: 228.1501989461127\n",
      "Generation 76: 228.1501989461127\n",
      "Generation 77: 228.1501989461127\n",
      "Generation 78: 228.1501989461127\n",
      "Generation 79: 228.1501989461127\n",
      "Generation 80: 228.1501989461127\n",
      "Generation 81: 228.1501989461127\n",
      "Generation 82: 228.1501989461127\n",
      "Generation 83: 228.1501989461127\n",
      "Generation 84: 228.1501989461127\n",
      "Generation 85: 228.1501989461127\n",
      "Generation 86: 228.1501989461127\n",
      "Generation 87: 228.1501989461127\n",
      "Generation 88: 228.1501989461127\n",
      "Generation 89: 228.1501989461127\n",
      "Generation 90: 228.1501989461127\n",
      "Generation 91: 228.1501989461127\n",
      "Generation 92: 228.1501989461127\n",
      "Generation 93: 228.1501989461127\n",
      "Generation 94: 228.1501989461127\n",
      "Generation 95: 228.1501989461127\n",
      "Generation 96: 228.1501989461127\n",
      "Generation 97: 228.1501989461127\n",
      "Generation 98: 228.1501989461127\n",
      "Generation 99: 228.1501989461127\n"
     ]
    },
    {
     "output_type": "display_data",
     "data": {
      "text/plain": "<Figure size 432x288 with 1 Axes>",
      "image/svg+xml": "<?xml version=\"1.0\" encoding=\"utf-8\" standalone=\"no\"?>\n<!DOCTYPE svg PUBLIC \"-//W3C//DTD SVG 1.1//EN\"\n  \"http://www.w3.org/Graphics/SVG/1.1/DTD/svg11.dtd\">\n<svg height=\"248.518125pt\" version=\"1.1\" viewBox=\"0 0 375.2875 248.518125\" width=\"375.2875pt\" xmlns=\"http://www.w3.org/2000/svg\" xmlns:xlink=\"http://www.w3.org/1999/xlink\">\n <metadata>\n  <rdf:RDF xmlns:cc=\"http://creativecommons.org/ns#\" xmlns:dc=\"http://purl.org/dc/elements/1.1/\" xmlns:rdf=\"http://www.w3.org/1999/02/22-rdf-syntax-ns#\">\n   <cc:Work>\n    <dc:type rdf:resource=\"http://purl.org/dc/dcmitype/StillImage\"/>\n    <dc:date>2021-06-20T19:31:06.733262</dc:date>\n    <dc:format>image/svg+xml</dc:format>\n    <dc:creator>\n     <cc:Agent>\n      <dc:title>Matplotlib v3.4.2, https://matplotlib.org/</dc:title>\n     </cc:Agent>\n    </dc:creator>\n   </cc:Work>\n  </rdf:RDF>\n </metadata>\n <defs>\n  <style type=\"text/css\">*{stroke-linecap:butt;stroke-linejoin:round;}</style>\n </defs>\n <g id=\"figure_1\">\n  <g id=\"patch_1\">\n   <path d=\"M 0 248.518125 \nL 375.2875 248.518125 \nL 375.2875 0 \nL 0 0 \nz\n\" style=\"fill:none;\"/>\n  </g>\n  <g id=\"axes_1\">\n   <g id=\"patch_2\">\n    <path d=\"M 33.2875 224.64 \nL 368.0875 224.64 \nL 368.0875 7.2 \nL 33.2875 7.2 \nz\n\" style=\"fill:#ffffff;\"/>\n   </g>\n   <g id=\"matplotlib.axis_1\">\n    <g id=\"xtick_1\">\n     <g id=\"line2d_1\">\n      <defs>\n       <path d=\"M 0 0 \nL 0 3.5 \n\" id=\"m298bfcefb7\" style=\"stroke:#000000;stroke-width:0.8;\"/>\n      </defs>\n      <g>\n       <use style=\"stroke:#000000;stroke-width:0.8;\" x=\"48.505682\" xlink:href=\"#m298bfcefb7\" y=\"224.64\"/>\n      </g>\n     </g>\n     <g id=\"text_1\">\n      <!-- 0 -->\n      <g transform=\"translate(45.324432 239.238438)scale(0.1 -0.1)\">\n       <defs>\n        <path d=\"M 2034 4250 \nQ 1547 4250 1301 3770 \nQ 1056 3291 1056 2328 \nQ 1056 1369 1301 889 \nQ 1547 409 2034 409 \nQ 2525 409 2770 889 \nQ 3016 1369 3016 2328 \nQ 3016 3291 2770 3770 \nQ 2525 4250 2034 4250 \nz\nM 2034 4750 \nQ 2819 4750 3233 4129 \nQ 3647 3509 3647 2328 \nQ 3647 1150 3233 529 \nQ 2819 -91 2034 -91 \nQ 1250 -91 836 529 \nQ 422 1150 422 2328 \nQ 422 3509 836 4129 \nQ 1250 4750 2034 4750 \nz\n\" id=\"DejaVuSans-30\" transform=\"scale(0.015625)\"/>\n       </defs>\n       <use xlink:href=\"#DejaVuSans-30\"/>\n      </g>\n     </g>\n    </g>\n    <g id=\"xtick_2\">\n     <g id=\"line2d_2\">\n      <g>\n       <use style=\"stroke:#000000;stroke-width:0.8;\" x=\"109.993285\" xlink:href=\"#m298bfcefb7\" y=\"224.64\"/>\n      </g>\n     </g>\n     <g id=\"text_2\">\n      <!-- 20 -->\n      <g transform=\"translate(103.630785 239.238438)scale(0.1 -0.1)\">\n       <defs>\n        <path d=\"M 1228 531 \nL 3431 531 \nL 3431 0 \nL 469 0 \nL 469 531 \nQ 828 903 1448 1529 \nQ 2069 2156 2228 2338 \nQ 2531 2678 2651 2914 \nQ 2772 3150 2772 3378 \nQ 2772 3750 2511 3984 \nQ 2250 4219 1831 4219 \nQ 1534 4219 1204 4116 \nQ 875 4013 500 3803 \nL 500 4441 \nQ 881 4594 1212 4672 \nQ 1544 4750 1819 4750 \nQ 2544 4750 2975 4387 \nQ 3406 4025 3406 3419 \nQ 3406 3131 3298 2873 \nQ 3191 2616 2906 2266 \nQ 2828 2175 2409 1742 \nQ 1991 1309 1228 531 \nz\n\" id=\"DejaVuSans-32\" transform=\"scale(0.015625)\"/>\n       </defs>\n       <use xlink:href=\"#DejaVuSans-32\"/>\n       <use x=\"63.623047\" xlink:href=\"#DejaVuSans-30\"/>\n      </g>\n     </g>\n    </g>\n    <g id=\"xtick_3\">\n     <g id=\"line2d_3\">\n      <g>\n       <use style=\"stroke:#000000;stroke-width:0.8;\" x=\"171.480888\" xlink:href=\"#m298bfcefb7\" y=\"224.64\"/>\n      </g>\n     </g>\n     <g id=\"text_3\">\n      <!-- 40 -->\n      <g transform=\"translate(165.118388 239.238438)scale(0.1 -0.1)\">\n       <defs>\n        <path d=\"M 2419 4116 \nL 825 1625 \nL 2419 1625 \nL 2419 4116 \nz\nM 2253 4666 \nL 3047 4666 \nL 3047 1625 \nL 3713 1625 \nL 3713 1100 \nL 3047 1100 \nL 3047 0 \nL 2419 0 \nL 2419 1100 \nL 313 1100 \nL 313 1709 \nL 2253 4666 \nz\n\" id=\"DejaVuSans-34\" transform=\"scale(0.015625)\"/>\n       </defs>\n       <use xlink:href=\"#DejaVuSans-34\"/>\n       <use x=\"63.623047\" xlink:href=\"#DejaVuSans-30\"/>\n      </g>\n     </g>\n    </g>\n    <g id=\"xtick_4\">\n     <g id=\"line2d_4\">\n      <g>\n       <use style=\"stroke:#000000;stroke-width:0.8;\" x=\"232.968492\" xlink:href=\"#m298bfcefb7\" y=\"224.64\"/>\n      </g>\n     </g>\n     <g id=\"text_4\">\n      <!-- 60 -->\n      <g transform=\"translate(226.605992 239.238438)scale(0.1 -0.1)\">\n       <defs>\n        <path d=\"M 2113 2584 \nQ 1688 2584 1439 2293 \nQ 1191 2003 1191 1497 \nQ 1191 994 1439 701 \nQ 1688 409 2113 409 \nQ 2538 409 2786 701 \nQ 3034 994 3034 1497 \nQ 3034 2003 2786 2293 \nQ 2538 2584 2113 2584 \nz\nM 3366 4563 \nL 3366 3988 \nQ 3128 4100 2886 4159 \nQ 2644 4219 2406 4219 \nQ 1781 4219 1451 3797 \nQ 1122 3375 1075 2522 \nQ 1259 2794 1537 2939 \nQ 1816 3084 2150 3084 \nQ 2853 3084 3261 2657 \nQ 3669 2231 3669 1497 \nQ 3669 778 3244 343 \nQ 2819 -91 2113 -91 \nQ 1303 -91 875 529 \nQ 447 1150 447 2328 \nQ 447 3434 972 4092 \nQ 1497 4750 2381 4750 \nQ 2619 4750 2861 4703 \nQ 3103 4656 3366 4563 \nz\n\" id=\"DejaVuSans-36\" transform=\"scale(0.015625)\"/>\n       </defs>\n       <use xlink:href=\"#DejaVuSans-36\"/>\n       <use x=\"63.623047\" xlink:href=\"#DejaVuSans-30\"/>\n      </g>\n     </g>\n    </g>\n    <g id=\"xtick_5\">\n     <g id=\"line2d_5\">\n      <g>\n       <use style=\"stroke:#000000;stroke-width:0.8;\" x=\"294.456095\" xlink:href=\"#m298bfcefb7\" y=\"224.64\"/>\n      </g>\n     </g>\n     <g id=\"text_5\">\n      <!-- 80 -->\n      <g transform=\"translate(288.093595 239.238438)scale(0.1 -0.1)\">\n       <defs>\n        <path d=\"M 2034 2216 \nQ 1584 2216 1326 1975 \nQ 1069 1734 1069 1313 \nQ 1069 891 1326 650 \nQ 1584 409 2034 409 \nQ 2484 409 2743 651 \nQ 3003 894 3003 1313 \nQ 3003 1734 2745 1975 \nQ 2488 2216 2034 2216 \nz\nM 1403 2484 \nQ 997 2584 770 2862 \nQ 544 3141 544 3541 \nQ 544 4100 942 4425 \nQ 1341 4750 2034 4750 \nQ 2731 4750 3128 4425 \nQ 3525 4100 3525 3541 \nQ 3525 3141 3298 2862 \nQ 3072 2584 2669 2484 \nQ 3125 2378 3379 2068 \nQ 3634 1759 3634 1313 \nQ 3634 634 3220 271 \nQ 2806 -91 2034 -91 \nQ 1263 -91 848 271 \nQ 434 634 434 1313 \nQ 434 1759 690 2068 \nQ 947 2378 1403 2484 \nz\nM 1172 3481 \nQ 1172 3119 1398 2916 \nQ 1625 2713 2034 2713 \nQ 2441 2713 2670 2916 \nQ 2900 3119 2900 3481 \nQ 2900 3844 2670 4047 \nQ 2441 4250 2034 4250 \nQ 1625 4250 1398 4047 \nQ 1172 3844 1172 3481 \nz\n\" id=\"DejaVuSans-38\" transform=\"scale(0.015625)\"/>\n       </defs>\n       <use xlink:href=\"#DejaVuSans-38\"/>\n       <use x=\"63.623047\" xlink:href=\"#DejaVuSans-30\"/>\n      </g>\n     </g>\n    </g>\n    <g id=\"xtick_6\">\n     <g id=\"line2d_6\">\n      <g>\n       <use style=\"stroke:#000000;stroke-width:0.8;\" x=\"355.943698\" xlink:href=\"#m298bfcefb7\" y=\"224.64\"/>\n      </g>\n     </g>\n     <g id=\"text_6\">\n      <!-- 100 -->\n      <g transform=\"translate(346.399948 239.238438)scale(0.1 -0.1)\">\n       <defs>\n        <path d=\"M 794 531 \nL 1825 531 \nL 1825 4091 \nL 703 3866 \nL 703 4441 \nL 1819 4666 \nL 2450 4666 \nL 2450 531 \nL 3481 531 \nL 3481 0 \nL 794 0 \nL 794 531 \nz\n\" id=\"DejaVuSans-31\" transform=\"scale(0.015625)\"/>\n       </defs>\n       <use xlink:href=\"#DejaVuSans-31\"/>\n       <use x=\"63.623047\" xlink:href=\"#DejaVuSans-30\"/>\n       <use x=\"127.246094\" xlink:href=\"#DejaVuSans-30\"/>\n      </g>\n     </g>\n    </g>\n   </g>\n   <g id=\"matplotlib.axis_2\">\n    <g id=\"ytick_1\">\n     <g id=\"line2d_7\">\n      <defs>\n       <path d=\"M 0 0 \nL -3.5 0 \n\" id=\"m5ece4bfad0\" style=\"stroke:#000000;stroke-width:0.8;\"/>\n      </defs>\n      <g>\n       <use style=\"stroke:#000000;stroke-width:0.8;\" x=\"33.2875\" xlink:href=\"#m5ece4bfad0\" y=\"199.664975\"/>\n      </g>\n     </g>\n     <g id=\"text_7\">\n      <!-- 230 -->\n      <g transform=\"translate(7.2 203.464193)scale(0.1 -0.1)\">\n       <defs>\n        <path d=\"M 2597 2516 \nQ 3050 2419 3304 2112 \nQ 3559 1806 3559 1356 \nQ 3559 666 3084 287 \nQ 2609 -91 1734 -91 \nQ 1441 -91 1130 -33 \nQ 819 25 488 141 \nL 488 750 \nQ 750 597 1062 519 \nQ 1375 441 1716 441 \nQ 2309 441 2620 675 \nQ 2931 909 2931 1356 \nQ 2931 1769 2642 2001 \nQ 2353 2234 1838 2234 \nL 1294 2234 \nL 1294 2753 \nL 1863 2753 \nQ 2328 2753 2575 2939 \nQ 2822 3125 2822 3475 \nQ 2822 3834 2567 4026 \nQ 2313 4219 1838 4219 \nQ 1578 4219 1281 4162 \nQ 984 4106 628 3988 \nL 628 4550 \nQ 988 4650 1302 4700 \nQ 1616 4750 1894 4750 \nQ 2613 4750 3031 4423 \nQ 3450 4097 3450 3541 \nQ 3450 3153 3228 2886 \nQ 3006 2619 2597 2516 \nz\n\" id=\"DejaVuSans-33\" transform=\"scale(0.015625)\"/>\n       </defs>\n       <use xlink:href=\"#DejaVuSans-32\"/>\n       <use x=\"63.623047\" xlink:href=\"#DejaVuSans-33\"/>\n       <use x=\"127.246094\" xlink:href=\"#DejaVuSans-30\"/>\n      </g>\n     </g>\n    </g>\n    <g id=\"ytick_2\">\n     <g id=\"line2d_8\">\n      <g>\n       <use style=\"stroke:#000000;stroke-width:0.8;\" x=\"33.2875\" xlink:href=\"#m5ece4bfad0\" y=\"158.87305\"/>\n      </g>\n     </g>\n     <g id=\"text_8\">\n      <!-- 235 -->\n      <g transform=\"translate(7.2 162.672269)scale(0.1 -0.1)\">\n       <defs>\n        <path d=\"M 691 4666 \nL 3169 4666 \nL 3169 4134 \nL 1269 4134 \nL 1269 2991 \nQ 1406 3038 1543 3061 \nQ 1681 3084 1819 3084 \nQ 2600 3084 3056 2656 \nQ 3513 2228 3513 1497 \nQ 3513 744 3044 326 \nQ 2575 -91 1722 -91 \nQ 1428 -91 1123 -41 \nQ 819 9 494 109 \nL 494 744 \nQ 775 591 1075 516 \nQ 1375 441 1709 441 \nQ 2250 441 2565 725 \nQ 2881 1009 2881 1497 \nQ 2881 1984 2565 2268 \nQ 2250 2553 1709 2553 \nQ 1456 2553 1204 2497 \nQ 953 2441 691 2322 \nL 691 4666 \nz\n\" id=\"DejaVuSans-35\" transform=\"scale(0.015625)\"/>\n       </defs>\n       <use xlink:href=\"#DejaVuSans-32\"/>\n       <use x=\"63.623047\" xlink:href=\"#DejaVuSans-33\"/>\n       <use x=\"127.246094\" xlink:href=\"#DejaVuSans-35\"/>\n      </g>\n     </g>\n    </g>\n    <g id=\"ytick_3\">\n     <g id=\"line2d_9\">\n      <g>\n       <use style=\"stroke:#000000;stroke-width:0.8;\" x=\"33.2875\" xlink:href=\"#m5ece4bfad0\" y=\"118.081125\"/>\n      </g>\n     </g>\n     <g id=\"text_9\">\n      <!-- 240 -->\n      <g transform=\"translate(7.2 121.880344)scale(0.1 -0.1)\">\n       <use xlink:href=\"#DejaVuSans-32\"/>\n       <use x=\"63.623047\" xlink:href=\"#DejaVuSans-34\"/>\n       <use x=\"127.246094\" xlink:href=\"#DejaVuSans-30\"/>\n      </g>\n     </g>\n    </g>\n    <g id=\"ytick_4\">\n     <g id=\"line2d_10\">\n      <g>\n       <use style=\"stroke:#000000;stroke-width:0.8;\" x=\"33.2875\" xlink:href=\"#m5ece4bfad0\" y=\"77.289201\"/>\n      </g>\n     </g>\n     <g id=\"text_10\">\n      <!-- 245 -->\n      <g transform=\"translate(7.2 81.08842)scale(0.1 -0.1)\">\n       <use xlink:href=\"#DejaVuSans-32\"/>\n       <use x=\"63.623047\" xlink:href=\"#DejaVuSans-34\"/>\n       <use x=\"127.246094\" xlink:href=\"#DejaVuSans-35\"/>\n      </g>\n     </g>\n    </g>\n    <g id=\"ytick_5\">\n     <g id=\"line2d_11\">\n      <g>\n       <use style=\"stroke:#000000;stroke-width:0.8;\" x=\"33.2875\" xlink:href=\"#m5ece4bfad0\" y=\"36.497276\"/>\n      </g>\n     </g>\n     <g id=\"text_11\">\n      <!-- 250 -->\n      <g transform=\"translate(7.2 40.296495)scale(0.1 -0.1)\">\n       <use xlink:href=\"#DejaVuSans-32\"/>\n       <use x=\"63.623047\" xlink:href=\"#DejaVuSans-35\"/>\n       <use x=\"127.246094\" xlink:href=\"#DejaVuSans-30\"/>\n      </g>\n     </g>\n    </g>\n   </g>\n   <g id=\"line2d_12\">\n    <path clip-path=\"url(#p96462fc9b5)\" d=\"M 48.505682 17.083636 \nL 51.580062 69.696318 \nL 54.654442 69.696318 \nL 57.728822 69.696318 \nL 60.803202 69.696318 \nL 63.877583 69.696318 \nL 66.951963 96.159814 \nL 70.026343 96.159814 \nL 73.100723 96.159814 \nL 76.175103 96.159814 \nL 79.249483 96.159814 \nL 82.323864 96.159814 \nL 85.398244 96.159814 \nL 88.472624 96.159814 \nL 91.547004 128.912647 \nL 94.621384 128.912647 \nL 97.695764 128.912647 \nL 100.770145 128.912647 \nL 103.844525 128.912647 \nL 106.918905 128.912647 \nL 109.993285 128.912647 \nL 113.067665 128.912647 \nL 116.142045 128.912647 \nL 119.216426 128.912647 \nL 122.290806 128.912647 \nL 125.365186 128.912647 \nL 128.439566 128.912647 \nL 131.513946 128.912647 \nL 134.588326 128.912647 \nL 137.662707 211.004149 \nL 140.737087 211.004149 \nL 143.811467 211.004149 \nL 146.885847 211.004149 \nL 149.960227 211.004149 \nL 153.034607 211.004149 \nL 156.108988 211.004149 \nL 159.183368 211.004149 \nL 162.257748 211.004149 \nL 165.332128 211.004149 \nL 168.406508 211.004149 \nL 171.480888 211.004149 \nL 174.555269 211.004149 \nL 177.629649 211.004149 \nL 180.704029 211.004149 \nL 183.778409 211.004149 \nL 186.852789 211.004149 \nL 189.927169 211.004149 \nL 193.00155 211.004149 \nL 196.07593 211.004149 \nL 199.15031 211.004149 \nL 202.22469 211.004149 \nL 205.29907 211.004149 \nL 208.37345 211.004149 \nL 211.447831 211.004149 \nL 214.522211 211.004149 \nL 217.596591 211.004149 \nL 220.670971 211.004149 \nL 223.745351 211.004149 \nL 226.819731 211.004149 \nL 229.894112 214.756364 \nL 232.968492 214.756364 \nL 236.042872 214.756364 \nL 239.117252 214.756364 \nL 242.191632 214.756364 \nL 245.266012 214.756364 \nL 248.340393 214.756364 \nL 251.414773 214.756364 \nL 254.489153 214.756364 \nL 257.563533 214.756364 \nL 260.637913 214.756364 \nL 263.712293 214.756364 \nL 266.786674 214.756364 \nL 269.861054 214.756364 \nL 272.935434 214.756364 \nL 276.009814 214.756364 \nL 279.084194 214.756364 \nL 282.158574 214.756364 \nL 285.232955 214.756364 \nL 288.307335 214.756364 \nL 291.381715 214.756364 \nL 294.456095 214.756364 \nL 297.530475 214.756364 \nL 300.604855 214.756364 \nL 303.679236 214.756364 \nL 306.753616 214.756364 \nL 309.827996 214.756364 \nL 312.902376 214.756364 \nL 315.976756 214.756364 \nL 319.051136 214.756364 \nL 322.125517 214.756364 \nL 325.199897 214.756364 \nL 328.274277 214.756364 \nL 331.348657 214.756364 \nL 334.423037 214.756364 \nL 337.497417 214.756364 \nL 340.571798 214.756364 \nL 343.646178 214.756364 \nL 346.720558 214.756364 \nL 349.794938 214.756364 \nL 352.869318 214.756364 \n\" style=\"fill:none;stroke:#87ceeb;stroke-linecap:square;stroke-width:1.5;\"/>\n   </g>\n   <g id=\"patch_3\">\n    <path d=\"M 33.2875 224.64 \nL 33.2875 7.2 \n\" style=\"fill:none;stroke:#000000;stroke-linecap:square;stroke-linejoin:miter;stroke-width:0.8;\"/>\n   </g>\n   <g id=\"patch_4\">\n    <path d=\"M 368.0875 224.64 \nL 368.0875 7.2 \n\" style=\"fill:none;stroke:#000000;stroke-linecap:square;stroke-linejoin:miter;stroke-width:0.8;\"/>\n   </g>\n   <g id=\"patch_5\">\n    <path d=\"M 33.2875 224.64 \nL 368.0875 224.64 \n\" style=\"fill:none;stroke:#000000;stroke-linecap:square;stroke-linejoin:miter;stroke-width:0.8;\"/>\n   </g>\n   <g id=\"patch_6\">\n    <path d=\"M 33.2875 7.2 \nL 368.0875 7.2 \n\" style=\"fill:none;stroke:#000000;stroke-linecap:square;stroke-linejoin:miter;stroke-width:0.8;\"/>\n   </g>\n  </g>\n </g>\n <defs>\n  <clipPath id=\"p96462fc9b5\">\n   <rect height=\"217.44\" width=\"334.8\" x=\"33.2875\" y=\"7.2\"/>\n  </clipPath>\n </defs>\n</svg>\n",
      "image/png": "[encoded data removed]"
     },
     "metadata": {
      "needs_background": "light"
     }
    },
    {
     "output_type": "stream",
     "name": "stdout",
     "text": [
      "[5, 6, 9, 0, 1, 3, 8, 4, 2, 7]\n"
     ]
    }
   ],
   "source": [
    "cities = range(10) # masukan jumlah kota disini, minimal 10 kota\n",
    "city_coordinates = generate_cities(len(cities))\n",
    "adjacency_mat = make_mat(city_coordinates)\n",
    "best, history = genetic_algorithm(\n",
    "    cities, adjacency_mat, n_population=20, n_iter=100, verbose=True, return_history=True\n",
    ") # sesuaikan jumlah pupulasi, jumlah iterasi / generasi (jika kurang optimal), dan interval print data setiap 5 generasi\n",
    "plt.plot(range(len(history)), history, color=\"skyblue\")\n",
    "plt.show() # tampilkan plot histogram dari peforma optimal setiap iterasi generasi\n",
    "print(best) # tampilkan jalur terbaik perjalanan yang dapat dilakukan"
   ]
  },
  {
   "source": [
    "Menampilkan path / jalur optimal yang dapat di lalui dalam bentuk histogram"
   ],
   "cell_type": "markdown",
   "metadata": {}
  },
  {
   "cell_type": "code",
   "execution_count": 29,
   "metadata": {},
   "outputs": [],
   "source": [
    "def print_path(best, city_coordinates):\n",
    "    points = city_coordinates[best]\n",
    "    x, y = zip(*points)\n",
    "    plt.plot(x,y, color=\"skyblue\", marker=\"o\")"
   ]
  },
  {
   "cell_type": "code",
   "execution_count": 30,
   "metadata": {},
   "outputs": [
    {
     "output_type": "display_data",
     "data": {
      "text/plain": "<Figure size 432x288 with 1 Axes>",
      "image/svg+xml": "<?xml version=\"1.0\" encoding=\"utf-8\" standalone=\"no\"?>\n<!DOCTYPE svg PUBLIC \"-//W3C//DTD SVG 1.1//EN\"\n  \"http://www.w3.org/Graphics/SVG/1.1/DTD/svg11.dtd\">\n<svg height=\"248.518125pt\" version=\"1.1\" viewBox=\"0 0 368.925 248.518125\" width=\"368.925pt\" xmlns=\"http://www.w3.org/2000/svg\" xmlns:xlink=\"http://www.w3.org/1999/xlink\">\n <metadata>\n  <rdf:RDF xmlns:cc=\"http://creativecommons.org/ns#\" xmlns:dc=\"http://purl.org/dc/elements/1.1/\" xmlns:rdf=\"http://www.w3.org/1999/02/22-rdf-syntax-ns#\">\n   <cc:Work>\n    <dc:type rdf:resource=\"http://purl.org/dc/dcmitype/StillImage\"/>\n    <dc:date>2021-06-20T19:31:07.000746</dc:date>\n    <dc:format>image/svg+xml</dc:format>\n    <dc:creator>\n     <cc:Agent>\n      <dc:title>Matplotlib v3.4.2, https://matplotlib.org/</dc:title>\n     </cc:Agent>\n    </dc:creator>\n   </cc:Work>\n  </rdf:RDF>\n </metadata>\n <defs>\n  <style type=\"text/css\">*{stroke-linecap:butt;stroke-linejoin:round;}</style>\n </defs>\n <g id=\"figure_1\">\n  <g id=\"patch_1\">\n   <path d=\"M -0 248.518125 \nL 368.925 248.518125 \nL 368.925 0 \nL -0 0 \nz\n\" style=\"fill:none;\"/>\n  </g>\n  <g id=\"axes_1\">\n   <g id=\"patch_2\">\n    <path d=\"M 26.925 224.64 \nL 361.725 224.64 \nL 361.725 7.2 \nL 26.925 7.2 \nz\n\" style=\"fill:#ffffff;\"/>\n   </g>\n   <g id=\"matplotlib.axis_1\">\n    <g id=\"xtick_1\">\n     <g id=\"line2d_1\">\n      <defs>\n       <path d=\"M 0 0 \nL 0 3.5 \n\" id=\"m4b431f01e3\" style=\"stroke:#000000;stroke-width:0.8;\"/>\n      </defs>\n      <g>\n       <use style=\"stroke:#000000;stroke-width:0.8;\" x=\"35.623998\" xlink:href=\"#m4b431f01e3\" y=\"224.64\"/>\n      </g>\n     </g>\n     <g id=\"text_1\">\n      <!-- 0 -->\n      <g transform=\"translate(32.442748 239.238438)scale(0.1 -0.1)\">\n       <defs>\n        <path d=\"M 2034 4250 \nQ 1547 4250 1301 3770 \nQ 1056 3291 1056 2328 \nQ 1056 1369 1301 889 \nQ 1547 409 2034 409 \nQ 2525 409 2770 889 \nQ 3016 1369 3016 2328 \nQ 3016 3291 2770 3770 \nQ 2525 4250 2034 4250 \nz\nM 2034 4750 \nQ 2819 4750 3233 4129 \nQ 3647 3509 3647 2328 \nQ 3647 1150 3233 529 \nQ 2819 -91 2034 -91 \nQ 1250 -91 836 529 \nQ 422 1150 422 2328 \nQ 422 3509 836 4129 \nQ 1250 4750 2034 4750 \nz\n\" id=\"DejaVuSans-30\" transform=\"scale(0.015625)\"/>\n       </defs>\n       <use xlink:href=\"#DejaVuSans-30\"/>\n      </g>\n     </g>\n    </g>\n    <g id=\"xtick_2\">\n     <g id=\"line2d_2\">\n      <g>\n       <use style=\"stroke:#000000;stroke-width:0.8;\" x=\"97.929969\" xlink:href=\"#m4b431f01e3\" y=\"224.64\"/>\n      </g>\n     </g>\n     <g id=\"text_2\">\n      <!-- 10 -->\n      <g transform=\"translate(91.567469 239.238438)scale(0.1 -0.1)\">\n       <defs>\n        <path d=\"M 794 531 \nL 1825 531 \nL 1825 4091 \nL 703 3866 \nL 703 4441 \nL 1819 4666 \nL 2450 4666 \nL 2450 531 \nL 3481 531 \nL 3481 0 \nL 794 0 \nL 794 531 \nz\n\" id=\"DejaVuSans-31\" transform=\"scale(0.015625)\"/>\n       </defs>\n       <use xlink:href=\"#DejaVuSans-31\"/>\n       <use x=\"63.623047\" xlink:href=\"#DejaVuSans-30\"/>\n      </g>\n     </g>\n    </g>\n    <g id=\"xtick_3\">\n     <g id=\"line2d_3\">\n      <g>\n       <use style=\"stroke:#000000;stroke-width:0.8;\" x=\"160.23594\" xlink:href=\"#m4b431f01e3\" y=\"224.64\"/>\n      </g>\n     </g>\n     <g id=\"text_3\">\n      <!-- 20 -->\n      <g transform=\"translate(153.87344 239.238438)scale(0.1 -0.1)\">\n       <defs>\n        <path d=\"M 1228 531 \nL 3431 531 \nL 3431 0 \nL 469 0 \nL 469 531 \nQ 828 903 1448 1529 \nQ 2069 2156 2228 2338 \nQ 2531 2678 2651 2914 \nQ 2772 3150 2772 3378 \nQ 2772 3750 2511 3984 \nQ 2250 4219 1831 4219 \nQ 1534 4219 1204 4116 \nQ 875 4013 500 3803 \nL 500 4441 \nQ 881 4594 1212 4672 \nQ 1544 4750 1819 4750 \nQ 2544 4750 2975 4387 \nQ 3406 4025 3406 3419 \nQ 3406 3131 3298 2873 \nQ 3191 2616 2906 2266 \nQ 2828 2175 2409 1742 \nQ 1991 1309 1228 531 \nz\n\" id=\"DejaVuSans-32\" transform=\"scale(0.015625)\"/>\n       </defs>\n       <use xlink:href=\"#DejaVuSans-32\"/>\n       <use x=\"63.623047\" xlink:href=\"#DejaVuSans-30\"/>\n      </g>\n     </g>\n    </g>\n    <g id=\"xtick_4\">\n     <g id=\"line2d_4\">\n      <g>\n       <use style=\"stroke:#000000;stroke-width:0.8;\" x=\"222.541911\" xlink:href=\"#m4b431f01e3\" y=\"224.64\"/>\n      </g>\n     </g>\n     <g id=\"text_4\">\n      <!-- 30 -->\n      <g transform=\"translate(216.179411 239.238438)scale(0.1 -0.1)\">\n       <defs>\n        <path d=\"M 2597 2516 \nQ 3050 2419 3304 2112 \nQ 3559 1806 3559 1356 \nQ 3559 666 3084 287 \nQ 2609 -91 1734 -91 \nQ 1441 -91 1130 -33 \nQ 819 25 488 141 \nL 488 750 \nQ 750 597 1062 519 \nQ 1375 441 1716 441 \nQ 2309 441 2620 675 \nQ 2931 909 2931 1356 \nQ 2931 1769 2642 2001 \nQ 2353 2234 1838 2234 \nL 1294 2234 \nL 1294 2753 \nL 1863 2753 \nQ 2328 2753 2575 2939 \nQ 2822 3125 2822 3475 \nQ 2822 3834 2567 4026 \nQ 2313 4219 1838 4219 \nQ 1578 4219 1281 4162 \nQ 984 4106 628 3988 \nL 628 4550 \nQ 988 4650 1302 4700 \nQ 1616 4750 1894 4750 \nQ 2613 4750 3031 4423 \nQ 3450 4097 3450 3541 \nQ 3450 3153 3228 2886 \nQ 3006 2619 2597 2516 \nz\n\" id=\"DejaVuSans-33\" transform=\"scale(0.015625)\"/>\n       </defs>\n       <use xlink:href=\"#DejaVuSans-33\"/>\n       <use x=\"63.623047\" xlink:href=\"#DejaVuSans-30\"/>\n      </g>\n     </g>\n    </g>\n    <g id=\"xtick_5\">\n     <g id=\"line2d_5\">\n      <g>\n       <use style=\"stroke:#000000;stroke-width:0.8;\" x=\"284.847882\" xlink:href=\"#m4b431f01e3\" y=\"224.64\"/>\n      </g>\n     </g>\n     <g id=\"text_5\">\n      <!-- 40 -->\n      <g transform=\"translate(278.485382 239.238438)scale(0.1 -0.1)\">\n       <defs>\n        <path d=\"M 2419 4116 \nL 825 1625 \nL 2419 1625 \nL 2419 4116 \nz\nM 2253 4666 \nL 3047 4666 \nL 3047 1625 \nL 3713 1625 \nL 3713 1100 \nL 3047 1100 \nL 3047 0 \nL 2419 0 \nL 2419 1100 \nL 313 1100 \nL 313 1709 \nL 2253 4666 \nz\n\" id=\"DejaVuSans-34\" transform=\"scale(0.015625)\"/>\n       </defs>\n       <use xlink:href=\"#DejaVuSans-34\"/>\n       <use x=\"63.623047\" xlink:href=\"#DejaVuSans-30\"/>\n      </g>\n     </g>\n    </g>\n    <g id=\"xtick_6\">\n     <g id=\"line2d_6\">\n      <g>\n       <use style=\"stroke:#000000;stroke-width:0.8;\" x=\"347.153853\" xlink:href=\"#m4b431f01e3\" y=\"224.64\"/>\n      </g>\n     </g>\n     <g id=\"text_6\">\n      <!-- 50 -->\n      <g transform=\"translate(340.791353 239.238438)scale(0.1 -0.1)\">\n       <defs>\n        <path d=\"M 691 4666 \nL 3169 4666 \nL 3169 4134 \nL 1269 4134 \nL 1269 2991 \nQ 1406 3038 1543 3061 \nQ 1681 3084 1819 3084 \nQ 2600 3084 3056 2656 \nQ 3513 2228 3513 1497 \nQ 3513 744 3044 326 \nQ 2575 -91 1722 -91 \nQ 1428 -91 1123 -41 \nQ 819 9 494 109 \nL 494 744 \nQ 775 591 1075 516 \nQ 1375 441 1709 441 \nQ 2250 441 2565 725 \nQ 2881 1009 2881 1497 \nQ 2881 1984 2565 2268 \nQ 2250 2553 1709 2553 \nQ 1456 2553 1204 2497 \nQ 953 2441 691 2322 \nL 691 4666 \nz\n\" id=\"DejaVuSans-35\" transform=\"scale(0.015625)\"/>\n       </defs>\n       <use xlink:href=\"#DejaVuSans-35\"/>\n       <use x=\"63.623047\" xlink:href=\"#DejaVuSans-30\"/>\n      </g>\n     </g>\n    </g>\n   </g>\n   <g id=\"matplotlib.axis_2\">\n    <g id=\"ytick_1\">\n     <g id=\"line2d_7\">\n      <defs>\n       <path d=\"M 0 0 \nL -3.5 0 \n\" id=\"m576f151a79\" style=\"stroke:#000000;stroke-width:0.8;\"/>\n      </defs>\n      <g>\n       <use style=\"stroke:#000000;stroke-width:0.8;\" x=\"26.925\" xlink:href=\"#m576f151a79\" y=\"187.212397\"/>\n      </g>\n     </g>\n     <g id=\"text_7\">\n      <!-- 10 -->\n      <g transform=\"translate(7.2 191.011615)scale(0.1 -0.1)\">\n       <use xlink:href=\"#DejaVuSans-31\"/>\n       <use x=\"63.623047\" xlink:href=\"#DejaVuSans-30\"/>\n      </g>\n     </g>\n    </g>\n    <g id=\"ytick_2\">\n     <g id=\"line2d_8\">\n      <g>\n       <use style=\"stroke:#000000;stroke-width:0.8;\" x=\"26.925\" xlink:href=\"#m576f151a79\" y=\"143.515485\"/>\n      </g>\n     </g>\n     <g id=\"text_8\">\n      <!-- 20 -->\n      <g transform=\"translate(7.2 147.314704)scale(0.1 -0.1)\">\n       <use xlink:href=\"#DejaVuSans-32\"/>\n       <use x=\"63.623047\" xlink:href=\"#DejaVuSans-30\"/>\n      </g>\n     </g>\n    </g>\n    <g id=\"ytick_3\">\n     <g id=\"line2d_9\">\n      <g>\n       <use style=\"stroke:#000000;stroke-width:0.8;\" x=\"26.925\" xlink:href=\"#m576f151a79\" y=\"99.818574\"/>\n      </g>\n     </g>\n     <g id=\"text_9\">\n      <!-- 30 -->\n      <g transform=\"translate(7.2 103.617793)scale(0.1 -0.1)\">\n       <use xlink:href=\"#DejaVuSans-33\"/>\n       <use x=\"63.623047\" xlink:href=\"#DejaVuSans-30\"/>\n      </g>\n     </g>\n    </g>\n    <g id=\"ytick_4\">\n     <g id=\"line2d_10\">\n      <g>\n       <use style=\"stroke:#000000;stroke-width:0.8;\" x=\"26.925\" xlink:href=\"#m576f151a79\" y=\"56.121663\"/>\n      </g>\n     </g>\n     <g id=\"text_10\">\n      <!-- 40 -->\n      <g transform=\"translate(7.2 59.920882)scale(0.1 -0.1)\">\n       <use xlink:href=\"#DejaVuSans-34\"/>\n       <use x=\"63.623047\" xlink:href=\"#DejaVuSans-30\"/>\n      </g>\n     </g>\n    </g>\n    <g id=\"ytick_5\">\n     <g id=\"line2d_11\">\n      <g>\n       <use style=\"stroke:#000000;stroke-width:0.8;\" x=\"26.925\" xlink:href=\"#m576f151a79\" y=\"12.424752\"/>\n      </g>\n     </g>\n     <g id=\"text_11\">\n      <!-- 50 -->\n      <g transform=\"translate(7.2 16.223971)scale(0.1 -0.1)\">\n       <use xlink:href=\"#DejaVuSans-35\"/>\n       <use x=\"63.623047\" xlink:href=\"#DejaVuSans-30\"/>\n      </g>\n     </g>\n    </g>\n   </g>\n   <g id=\"line2d_12\">\n    <path clip-path=\"url(#paac3741cf9)\" d=\"M 330.285607 182.575325 \nL 117.490087 189.170961 \nL 42.143182 169.777519 \nL 171.702941 82.828153 \nL 346.506818 26.52369 \nL 273.794869 17.083636 \nL 107.455476 40.335011 \nL 286.35186 119.598503 \nL 48.430509 150.806118 \nL 174.97902 214.756364 \n\" style=\"fill:none;stroke:#87ceeb;stroke-linecap:square;stroke-width:1.5;\"/>\n    <defs>\n     <path d=\"M 0 3 \nC 0.795609 3 1.55874 2.683901 2.12132 2.12132 \nC 2.683901 1.55874 3 0.795609 3 0 \nC 3 -0.795609 2.683901 -1.55874 2.12132 -2.12132 \nC 1.55874 -2.683901 0.795609 -3 0 -3 \nC -0.795609 -3 -1.55874 -2.683901 -2.12132 -2.12132 \nC -2.683901 -1.55874 -3 -0.795609 -3 0 \nC -3 0.795609 -2.683901 1.55874 -2.12132 2.12132 \nC -1.55874 2.683901 -0.795609 3 0 3 \nz\n\" id=\"mba060ce7b5\" style=\"stroke:#87ceeb;\"/>\n    </defs>\n    <g clip-path=\"url(#paac3741cf9)\">\n     <use style=\"fill:#87ceeb;stroke:#87ceeb;\" x=\"330.285607\" xlink:href=\"#mba060ce7b5\" y=\"182.575325\"/>\n     <use style=\"fill:#87ceeb;stroke:#87ceeb;\" x=\"117.490087\" xlink:href=\"#mba060ce7b5\" y=\"189.170961\"/>\n     <use style=\"fill:#87ceeb;stroke:#87ceeb;\" x=\"42.143182\" xlink:href=\"#mba060ce7b5\" y=\"169.777519\"/>\n     <use style=\"fill:#87ceeb;stroke:#87ceeb;\" x=\"171.702941\" xlink:href=\"#mba060ce7b5\" y=\"82.828153\"/>\n     <use style=\"fill:#87ceeb;stroke:#87ceeb;\" x=\"346.506818\" xlink:href=\"#mba060ce7b5\" y=\"26.52369\"/>\n     <use style=\"fill:#87ceeb;stroke:#87ceeb;\" x=\"273.794869\" xlink:href=\"#mba060ce7b5\" y=\"17.083636\"/>\n     <use style=\"fill:#87ceeb;stroke:#87ceeb;\" x=\"107.455476\" xlink:href=\"#mba060ce7b5\" y=\"40.335011\"/>\n     <use style=\"fill:#87ceeb;stroke:#87ceeb;\" x=\"286.35186\" xlink:href=\"#mba060ce7b5\" y=\"119.598503\"/>\n     <use style=\"fill:#87ceeb;stroke:#87ceeb;\" x=\"48.430509\" xlink:href=\"#mba060ce7b5\" y=\"150.806118\"/>\n     <use style=\"fill:#87ceeb;stroke:#87ceeb;\" x=\"174.97902\" xlink:href=\"#mba060ce7b5\" y=\"214.756364\"/>\n    </g>\n   </g>\n   <g id=\"patch_3\">\n    <path d=\"M 26.925 224.64 \nL 26.925 7.2 \n\" style=\"fill:none;stroke:#000000;stroke-linecap:square;stroke-linejoin:miter;stroke-width:0.8;\"/>\n   </g>\n   <g id=\"patch_4\">\n    <path d=\"M 361.725 224.64 \nL 361.725 7.2 \n\" style=\"fill:none;stroke:#000000;stroke-linecap:square;stroke-linejoin:miter;stroke-width:0.8;\"/>\n   </g>\n   <g id=\"patch_5\">\n    <path d=\"M 26.925 224.64 \nL 361.725 224.64 \n\" style=\"fill:none;stroke:#000000;stroke-linecap:square;stroke-linejoin:miter;stroke-width:0.8;\"/>\n   </g>\n   <g id=\"patch_6\">\n    <path d=\"M 26.925 7.2 \nL 361.725 7.2 \n\" style=\"fill:none;stroke:#000000;stroke-linecap:square;stroke-linejoin:miter;stroke-width:0.8;\"/>\n   </g>\n  </g>\n </g>\n <defs>\n  <clipPath id=\"paac3741cf9\">\n   <rect height=\"217.44\" width=\"334.8\" x=\"26.925\" y=\"7.2\"/>\n  </clipPath>\n </defs>\n</svg>\n",
      "image/png": "[encoded data removed]"
     },
     "metadata": {
      "needs_background": "light"
     }
    }
   ],
   "source": [
    "print_path(best, city_coordinates)"
   ]
  },
  {
   "source": [
    "# Kesimpulan"
   ],
   "cell_type": "markdown",
   "metadata": {}
  },
  {
   "cell_type": "code",
   "execution_count": 31,
   "metadata": {},
   "outputs": [
    {
     "output_type": "stream",
     "name": "stdout",
     "text": [
      "Kordinat dari 10 kota : \n [[21.84043371 33.88824315]\n [49.89615201 46.77347039]\n [ 2.05542267 18.33154509]\n [38.22601052 48.93381834]\n [40.24138581 25.47338063]\n [47.29267582 11.06118984]\n [13.13936488  9.55178434]\n [22.36623869  3.69658719]\n [11.52882724 43.61276143]\n [ 1.04631759 13.98995654]] \n Dengan jarak antar kota : \n [[21.84043371 51.53304829 15.69189654 41.08037504 41.11178715 52.51353682\n  27.6569365  37.57372383 15.08244388 19.92577704]\n [25.35810769 49.89615201 28.51609857 38.28700803 45.5309011  59.26182724\n  39.47273517 48.53726918 11.95424354 32.80020672]\n [26.8144625  57.43317073  2.05542267 48.96659074 40.87022078 47.84825234\n  15.80275635 26.72883509 27.78585535  4.46588979]\n [26.52119675 49.94289828 30.67122251 38.22601052 46.58069631 60.58822637\n  41.51611146 50.46440047 12.69753929 34.95952313]\n [23.40543645 54.25237146  7.43172775 44.85108714 40.24138581 49.43994771\n  20.64316201 31.21662002 21.49304523 11.53099343]\n [31.59238685 61.35953851  7.55531784 53.81044387 42.74436074 47.29267582\n  13.2257784  23.54752652 34.53286362  3.11005705]\n [32.69966012 62.25013974  9.01714817 54.88326231 43.27662603 47.31675698\n  13.13936488 23.11994737 35.95919935  4.55984133]\n [37.263127   65.91846366 14.7785911  59.22528989 45.7558506  47.86266351\n  14.38493111 22.36623869 41.54774149 10.3464116 ]\n [23.90754693 49.99616051 25.36463408 38.59457899 44.14075517 57.41255959\n  36.50743855 45.75532317 11.52882724 29.64127781]\n [29.54566558 59.70246867  4.80355634 51.79093895 41.84779756 47.38327617\n  13.86867989 24.62117149 31.78717394  1.04631759]] \n Memiliki nilai jarak optimal : 228.1501989461127 dengan jalur / path : [5, 6, 9, 0, 1, 3, 8, 4, 2, 7]\n"
     ]
    }
   ],
   "source": [
    "print(f\"Kordinat dari {len(cities)} kota : \\n {city_coordinates} \\n Dengan jarak antar kota : \\n {adjacency_mat} \\n Memiliki nilai jarak optimal : {min(history)} dengan jalur / path : {best}\")"
   ]
  }
 ]
}